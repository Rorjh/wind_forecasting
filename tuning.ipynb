{
 "cells": [
  {
   "cell_type": "code",
   "execution_count": 14,
   "metadata": {},
   "outputs": [],
   "source": [
    "import numpy as np\n",
    "import pandas as pd\n",
    "import matplotlib.pyplot as plt\n",
    "from math import sqrt\n",
    "\n",
    "from wind_dir_classifier import load_netcdf\n",
    "from models import data_prep, compile_and_fit, evaluate\n",
    "from keras.models import Sequential\n",
    "from keras.layers import Dense\n",
    "from keras.layers import Dropout\n",
    "from keras.layers import LSTM\n",
    "from keras.layers import Reshape\n",
    "from keras.layers import TimeDistributed\n",
    "from keras.layers import Flatten\n",
    "import keras_tuner\n",
    "from tensorflow import keras"
   ]
  },
  {
   "cell_type": "code",
   "execution_count": 2,
   "metadata": {},
   "outputs": [
    {
     "name": "stderr",
     "output_type": "stream",
     "text": [
      "c:\\Studia\\maciej-romanski\\wind_dir_classifier.py:34: FutureWarning: The frame.append method is deprecated and will be removed from pandas in a future version. Use pandas.concat instead.\n",
      "  df = df.append(netCDF2df(path+'/'+filename),ignore_index=True)\n"
     ]
    }
   ],
   "source": [
    "# loading needed data\n",
    "df = load_netcdf('C:/Studia/maciej-romanski/data/gaj_olawski')"
   ]
  },
  {
   "cell_type": "code",
   "execution_count": 4,
   "metadata": {},
   "outputs": [],
   "source": [
    "X_train, y_train, X_test, y_test, scaler_y = data_prep(df, 2014, 2020, 2021, 2021, 24, 1, y_featurename='windspeed_100')"
   ]
  },
  {
   "cell_type": "code",
   "execution_count": 32,
   "metadata": {},
   "outputs": [],
   "source": [
    "def build_model(hp):\n",
    "    model = Sequential()\n",
    "    model.add(Flatten())\n",
    "    model.add(Dense(\n",
    "        units=hp.Int(\"units\", min_value=32, max_value=512, step=32), \n",
    "        activation=hp.Choice(\"activation\", [\"relu\", \"tanh\"]), \n",
    "        # input_shape=(24, X_train.shape[2]\n",
    "    ))\n",
    "    \n",
    "    # Tune the number of layers.\n",
    "    for i in range(hp.Int(\"num_layers\", 1, 5)):\n",
    "        model.add(\n",
    "            Dense(\n",
    "                # Tune number of units separately.\n",
    "                units=hp.Int(f\"units_{i}\", min_value=32, max_value=512, step=32),\n",
    "                activation=hp.Choice(\"activation\", [\"relu\", \"tanh\"]),\n",
    "            )\n",
    "        )\n",
    "\n",
    "    # Tune whether to use dropout.\n",
    "    if hp.Boolean(\"dropout\"):\n",
    "        model.add(Dropout(rate=0.25))\n",
    "\n",
    "    model.add(Dense(1))\n",
    "    # model.add(Reshape([1,24]))\n",
    "    # model.add(Dense(1))\n",
    "    # model.add(Reshape([1]))\n",
    "    # # Define the optimizer learning rate as a hyperparameter.\n",
    "    learning_rate = hp.Float(\"lr\", min_value=1e-4, max_value=1e-2, sampling=\"log\")\n",
    "    model.compile(\n",
    "        optimizer=keras.optimizers.Adam(learning_rate=learning_rate),\n",
    "        loss=\"mean_squared_error\",\n",
    "        metrics=[\"mean_squared_error\"]\n",
    "    )\n",
    "    return model"
   ]
  },
  {
   "cell_type": "code",
   "execution_count": 33,
   "metadata": {},
   "outputs": [
    {
     "data": {
      "text/plain": [
       "<keras.engine.sequential.Sequential at 0x130227ef9a0>"
      ]
     },
     "execution_count": 33,
     "metadata": {},
     "output_type": "execute_result"
    }
   ],
   "source": [
    "build_model(keras_tuner.HyperParameters())"
   ]
  },
  {
   "cell_type": "code",
   "execution_count": 37,
   "metadata": {},
   "outputs": [
    {
     "name": "stdout",
     "output_type": "stream",
     "text": [
      "Search space summary\n",
      "Default search space size: 6\n",
      "units (Int)\n",
      "{'default': None, 'conditions': [], 'min_value': 32, 'max_value': 512, 'step': 32, 'sampling': 'linear'}\n",
      "activation (Choice)\n",
      "{'default': 'relu', 'conditions': [], 'values': ['relu', 'tanh'], 'ordered': False}\n",
      "num_layers (Int)\n",
      "{'default': None, 'conditions': [], 'min_value': 1, 'max_value': 5, 'step': 1, 'sampling': 'linear'}\n",
      "units_0 (Int)\n",
      "{'default': None, 'conditions': [], 'min_value': 32, 'max_value': 512, 'step': 32, 'sampling': 'linear'}\n",
      "dropout (Boolean)\n",
      "{'default': False, 'conditions': []}\n",
      "lr (Float)\n",
      "{'default': 0.0001, 'conditions': [], 'min_value': 0.0001, 'max_value': 0.01, 'step': None, 'sampling': 'log'}\n"
     ]
    }
   ],
   "source": [
    "tuner = keras_tuner.RandomSearch(\n",
    "    hypermodel=build_model,\n",
    "    objective=\"val_mean_squared_error\",\n",
    "    max_trials=50,\n",
    "    executions_per_trial=2,\n",
    "    overwrite=True,\n",
    "    directory=\"tuner_results\",\n",
    "    project_name=\"dense_tuning\",\n",
    ")\n",
    "tuner.search_space_summary()"
   ]
  },
  {
   "cell_type": "code",
   "execution_count": 38,
   "metadata": {},
   "outputs": [
    {
     "name": "stdout",
     "output_type": "stream",
     "text": [
      "Trial 50 Complete [00h 00m 30s]\n",
      "val_mean_squared_error: 0.001069806341547519\n",
      "\n",
      "Best val_mean_squared_error So Far: 0.001069806341547519\n",
      "Total elapsed time: 00h 26m 16s\n",
      "INFO:tensorflow:Oracle triggered exit\n"
     ]
    }
   ],
   "source": [
    "tuner.search(X_train, y_train, epochs=2, validation_data=(X_test, y_test))"
   ]
  },
  {
   "cell_type": "code",
   "execution_count": 40,
   "metadata": {},
   "outputs": [
    {
     "name": "stdout",
     "output_type": "stream",
     "text": [
      "Results summary\n",
      "Results in tuner_results\\dense_tuning\n",
      "Showing 10 best trials\n",
      "Objective(name=\"val_mean_squared_error\", direction=\"min\")\n",
      "\n",
      "Trial 49 summary\n",
      "Hyperparameters:\n",
      "units: 96\n",
      "activation: relu\n",
      "num_layers: 2\n",
      "units_0: 384\n",
      "dropout: False\n",
      "lr: 0.000690732191713988\n",
      "units_1: 96\n",
      "units_2: 512\n",
      "units_3: 512\n",
      "units_4: 32\n",
      "Score: 0.001069806341547519\n",
      "\n",
      "Trial 34 summary\n",
      "Hyperparameters:\n",
      "units: 320\n",
      "activation: relu\n",
      "num_layers: 2\n",
      "units_0: 512\n",
      "dropout: False\n",
      "lr: 0.0013825682381639706\n",
      "units_1: 128\n",
      "units_2: 128\n",
      "units_3: 352\n",
      "units_4: 384\n",
      "Score: 0.001082299742847681\n",
      "\n",
      "Trial 13 summary\n",
      "Hyperparameters:\n",
      "units: 32\n",
      "activation: relu\n",
      "num_layers: 4\n",
      "units_0: 128\n",
      "dropout: False\n",
      "lr: 0.0006859193583509903\n",
      "units_1: 512\n",
      "units_2: 64\n",
      "units_3: 480\n",
      "units_4: 480\n",
      "Score: 0.0011122935102321208\n",
      "\n",
      "Trial 06 summary\n",
      "Hyperparameters:\n",
      "units: 416\n",
      "activation: relu\n",
      "num_layers: 3\n",
      "units_0: 320\n",
      "dropout: True\n",
      "lr: 0.00029819396759250306\n",
      "units_1: 512\n",
      "units_2: 64\n",
      "units_3: 448\n",
      "units_4: 192\n",
      "Score: 0.001139841042459011\n",
      "\n",
      "Trial 08 summary\n",
      "Hyperparameters:\n",
      "units: 256\n",
      "activation: relu\n",
      "num_layers: 3\n",
      "units_0: 384\n",
      "dropout: False\n",
      "lr: 0.00028670957959086674\n",
      "units_1: 416\n",
      "units_2: 352\n",
      "units_3: 352\n",
      "units_4: 352\n",
      "Score: 0.0011436135391704738\n",
      "\n",
      "Trial 23 summary\n",
      "Hyperparameters:\n",
      "units: 352\n",
      "activation: relu\n",
      "num_layers: 1\n",
      "units_0: 448\n",
      "dropout: False\n",
      "lr: 0.009527285831947351\n",
      "units_1: 96\n",
      "units_2: 256\n",
      "units_3: 32\n",
      "units_4: 256\n",
      "Score: 0.0011458894587121904\n",
      "\n",
      "Trial 28 summary\n",
      "Hyperparameters:\n",
      "units: 128\n",
      "activation: tanh\n",
      "num_layers: 1\n",
      "units_0: 480\n",
      "dropout: False\n",
      "lr: 0.00012076032428134492\n",
      "units_1: 320\n",
      "units_2: 512\n",
      "units_3: 96\n",
      "units_4: 320\n",
      "Score: 0.0011467956937849522\n",
      "\n",
      "Trial 30 summary\n",
      "Hyperparameters:\n",
      "units: 224\n",
      "activation: relu\n",
      "num_layers: 1\n",
      "units_0: 224\n",
      "dropout: True\n",
      "lr: 0.0005829766440855362\n",
      "units_1: 96\n",
      "units_2: 320\n",
      "units_3: 160\n",
      "units_4: 320\n",
      "Score: 0.0011577667319215834\n",
      "\n",
      "Trial 00 summary\n",
      "Hyperparameters:\n",
      "units: 288\n",
      "activation: relu\n",
      "num_layers: 5\n",
      "units_0: 224\n",
      "dropout: False\n",
      "lr: 0.0005431826001407921\n",
      "units_1: 32\n",
      "units_2: 32\n",
      "units_3: 32\n",
      "units_4: 32\n",
      "Score: 0.001169472758192569\n",
      "\n",
      "Trial 45 summary\n",
      "Hyperparameters:\n",
      "units: 96\n",
      "activation: relu\n",
      "num_layers: 1\n",
      "units_0: 64\n",
      "dropout: False\n",
      "lr: 0.0003326049280238805\n",
      "units_1: 320\n",
      "units_2: 128\n",
      "units_3: 256\n",
      "units_4: 448\n",
      "Score: 0.0011742371716536582\n"
     ]
    }
   ],
   "source": [
    "tuner.results_summary()"
   ]
  },
  {
   "cell_type": "code",
   "execution_count": 42,
   "metadata": {},
   "outputs": [
    {
     "name": "stdout",
     "output_type": "stream",
     "text": [
      "WARNING:tensorflow:Detecting that an object or model or tf.train.Checkpoint is being deleted with unrestored values. See the following logs for the specific values in question. To silence these warnings, use `status.expect_partial()`. See https://www.tensorflow.org/api_docs/python/tf/train/Checkpoint#restorefor details about the status object returned by the restore function.\n",
      "WARNING:tensorflow:Value in checkpoint could not be found in the restored object: (root).layer_with_weights-0.kernel\n",
      "WARNING:tensorflow:Value in checkpoint could not be found in the restored object: (root).layer_with_weights-0.bias\n",
      "WARNING:tensorflow:Value in checkpoint could not be found in the restored object: (root).layer_with_weights-1.kernel\n",
      "WARNING:tensorflow:Value in checkpoint could not be found in the restored object: (root).layer_with_weights-1.bias\n",
      "WARNING:tensorflow:Value in checkpoint could not be found in the restored object: (root).layer_with_weights-2.kernel\n",
      "WARNING:tensorflow:Value in checkpoint could not be found in the restored object: (root).layer_with_weights-2.bias\n",
      "WARNING:tensorflow:Value in checkpoint could not be found in the restored object: (root).layer_with_weights-3.kernel\n",
      "WARNING:tensorflow:Value in checkpoint could not be found in the restored object: (root).layer_with_weights-3.bias\n",
      "WARNING:tensorflow:Value in checkpoint could not be found in the restored object: (root).optimizer.iter\n",
      "WARNING:tensorflow:Value in checkpoint could not be found in the restored object: (root).optimizer.beta_1\n",
      "WARNING:tensorflow:Value in checkpoint could not be found in the restored object: (root).optimizer.beta_2\n",
      "WARNING:tensorflow:Value in checkpoint could not be found in the restored object: (root).optimizer.decay\n",
      "WARNING:tensorflow:Value in checkpoint could not be found in the restored object: (root).optimizer.learning_rate\n",
      "WARNING:tensorflow:Value in checkpoint could not be found in the restored object: (root).optimizer's state 'm' for (root).layer_with_weights-0.kernel\n",
      "WARNING:tensorflow:Value in checkpoint could not be found in the restored object: (root).optimizer's state 'm' for (root).layer_with_weights-0.bias\n",
      "WARNING:tensorflow:Value in checkpoint could not be found in the restored object: (root).optimizer's state 'm' for (root).layer_with_weights-1.kernel\n",
      "WARNING:tensorflow:Value in checkpoint could not be found in the restored object: (root).optimizer's state 'm' for (root).layer_with_weights-1.bias\n",
      "WARNING:tensorflow:Value in checkpoint could not be found in the restored object: (root).optimizer's state 'm' for (root).layer_with_weights-2.kernel\n",
      "WARNING:tensorflow:Value in checkpoint could not be found in the restored object: (root).optimizer's state 'm' for (root).layer_with_weights-2.bias\n",
      "WARNING:tensorflow:Value in checkpoint could not be found in the restored object: (root).optimizer's state 'm' for (root).layer_with_weights-3.kernel\n",
      "WARNING:tensorflow:Value in checkpoint could not be found in the restored object: (root).optimizer's state 'm' for (root).layer_with_weights-3.bias\n",
      "WARNING:tensorflow:Value in checkpoint could not be found in the restored object: (root).optimizer's state 'v' for (root).layer_with_weights-0.kernel\n",
      "WARNING:tensorflow:Value in checkpoint could not be found in the restored object: (root).optimizer's state 'v' for (root).layer_with_weights-0.bias\n",
      "WARNING:tensorflow:Value in checkpoint could not be found in the restored object: (root).optimizer's state 'v' for (root).layer_with_weights-1.kernel\n",
      "WARNING:tensorflow:Value in checkpoint could not be found in the restored object: (root).optimizer's state 'v' for (root).layer_with_weights-1.bias\n",
      "WARNING:tensorflow:Value in checkpoint could not be found in the restored object: (root).optimizer's state 'v' for (root).layer_with_weights-2.kernel\n",
      "WARNING:tensorflow:Value in checkpoint could not be found in the restored object: (root).optimizer's state 'v' for (root).layer_with_weights-2.bias\n",
      "WARNING:tensorflow:Value in checkpoint could not be found in the restored object: (root).optimizer's state 'v' for (root).layer_with_weights-3.kernel\n",
      "WARNING:tensorflow:Value in checkpoint could not be found in the restored object: (root).optimizer's state 'v' for (root).layer_with_weights-3.bias\n",
      "Model: \"sequential\"\n",
      "_________________________________________________________________\n",
      " Layer (type)                Output Shape              Param #   \n",
      "=================================================================\n",
      " flatten (Flatten)           (None, 360)               0         \n",
      "                                                                 \n",
      " dense (Dense)               (None, 96)                34656     \n",
      "                                                                 \n",
      " dense_1 (Dense)             (None, 384)               37248     \n",
      "                                                                 \n",
      " dense_2 (Dense)             (None, 96)                36960     \n",
      "                                                                 \n",
      " dense_3 (Dense)             (None, 1)                 97        \n",
      "                                                                 \n",
      "=================================================================\n",
      "Total params: 108,961\n",
      "Trainable params: 108,961\n",
      "Non-trainable params: 0\n",
      "_________________________________________________________________\n"
     ]
    }
   ],
   "source": [
    "# Get the top 2 models.\n",
    "models = tuner.get_best_models(num_models=2)\n",
    "best_model = models[0]\n",
    "# Build the model.\n",
    "# Needed for `Sequential` without specified `input_shape`.\n",
    "best_model.build(input_shape=(None, 24, 15))\n",
    "best_model.summary()"
   ]
  },
  {
   "cell_type": "code",
   "execution_count": 43,
   "metadata": {},
   "outputs": [
    {
     "name": "stdout",
     "output_type": "stream",
     "text": [
      "Epoch 1/50\n",
      "1917/1917 [==============================] - 7s 4ms/step - loss: 0.0025 - mean_squared_error: 0.0025\n",
      "Epoch 2/50\n",
      "1917/1917 [==============================] - 7s 4ms/step - loss: 0.0013 - mean_squared_error: 0.0013\n",
      "Epoch 3/50\n",
      "1917/1917 [==============================] - 6s 3ms/step - loss: 0.0011 - mean_squared_error: 0.0011\n",
      "Epoch 4/50\n",
      "1917/1917 [==============================] - 7s 3ms/step - loss: 0.0010 - mean_squared_error: 0.0010\n",
      "Epoch 5/50\n",
      "1917/1917 [==============================] - 6s 3ms/step - loss: 9.7751e-04 - mean_squared_error: 9.7751e-04\n",
      "Epoch 6/50\n",
      "1917/1917 [==============================] - 6s 3ms/step - loss: 9.3910e-04 - mean_squared_error: 9.3910e-04\n",
      "Epoch 7/50\n",
      "1917/1917 [==============================] - 6s 3ms/step - loss: 9.1236e-04 - mean_squared_error: 9.1236e-04\n",
      "Epoch 8/50\n",
      "1917/1917 [==============================] - 6s 3ms/step - loss: 8.7833e-04 - mean_squared_error: 8.7833e-04\n",
      "Epoch 9/50\n",
      "1917/1917 [==============================] - 6s 3ms/step - loss: 8.7322e-04 - mean_squared_error: 8.7322e-04\n",
      "Epoch 10/50\n",
      "1917/1917 [==============================] - 6s 3ms/step - loss: 8.6484e-04 - mean_squared_error: 8.6484e-04\n",
      "Epoch 11/50\n",
      "1917/1917 [==============================] - 6s 3ms/step - loss: 8.3598e-04 - mean_squared_error: 8.3598e-04\n",
      "Epoch 12/50\n",
      "1917/1917 [==============================] - 6s 3ms/step - loss: 8.5116e-04 - mean_squared_error: 8.5116e-04\n",
      "Epoch 13/50\n",
      "1917/1917 [==============================] - 6s 3ms/step - loss: 8.2692e-04 - mean_squared_error: 8.2692e-04\n",
      "Epoch 14/50\n",
      "1917/1917 [==============================] - 7s 3ms/step - loss: 8.2322e-04 - mean_squared_error: 8.2322e-04\n",
      "Epoch 15/50\n",
      "1917/1917 [==============================] - 6s 3ms/step - loss: 8.2291e-04 - mean_squared_error: 8.2291e-04\n",
      "Epoch 16/50\n",
      "1917/1917 [==============================] - 5s 3ms/step - loss: 8.1569e-04 - mean_squared_error: 8.1569e-04\n",
      "Epoch 17/50\n",
      "1917/1917 [==============================] - 5s 3ms/step - loss: 8.0656e-04 - mean_squared_error: 8.0656e-04\n",
      "Epoch 18/50\n",
      "1917/1917 [==============================] - 6s 3ms/step - loss: 8.0263e-04 - mean_squared_error: 8.0263e-04\n",
      "Epoch 19/50\n",
      "1917/1917 [==============================] - 6s 3ms/step - loss: 8.0344e-04 - mean_squared_error: 8.0344e-04\n",
      "Epoch 20/50\n",
      "1917/1917 [==============================] - 7s 4ms/step - loss: 7.9794e-04 - mean_squared_error: 7.9794e-04\n",
      "Epoch 21/50\n",
      "1917/1917 [==============================] - 7s 3ms/step - loss: 7.8297e-04 - mean_squared_error: 7.8297e-04\n",
      "Epoch 22/50\n",
      "1917/1917 [==============================] - 7s 4ms/step - loss: 7.8403e-04 - mean_squared_error: 7.8403e-04\n",
      "Epoch 23/50\n",
      "1917/1917 [==============================] - 7s 4ms/step - loss: 7.8407e-04 - mean_squared_error: 7.8407e-04\n"
     ]
    },
    {
     "data": {
      "text/plain": [
       "<keras.callbacks.History at 0x130231a3fa0>"
      ]
     },
     "execution_count": 43,
     "metadata": {},
     "output_type": "execute_result"
    }
   ],
   "source": [
    "# Get the top 2 hyperparameters.\n",
    "best_hps = tuner.get_best_hyperparameters()\n",
    "# Build the model with the best hp.\n",
    "model = build_model(best_hps[0])\n",
    "# Fit with the entire dataset.\n",
    "early_stopping = keras.callbacks.EarlyStopping(monitor='loss', patience=2, mode='min')\n",
    "\n",
    "model.fit(X_train, y_train, epochs=50, batch_size=32, callbacks=[early_stopping])"
   ]
  },
  {
   "cell_type": "code",
   "execution_count": 45,
   "metadata": {},
   "outputs": [
    {
     "name": "stdout",
     "output_type": "stream",
     "text": [
      "273/273 [==============================] - 0s 2ms/step\n",
      "Test Score: 0.6282 RMSE\n"
     ]
    },
    {
     "data": {
      "text/plain": [
       "(0.6282247784037778,\n",
       " array([[ 3.4571693],\n",
       "        [ 3.9883678],\n",
       "        [ 2.5264857],\n",
       "        ...,\n",
       "        [ 9.6182165],\n",
       "        [ 9.788751 ],\n",
       "        [10.145499 ]], dtype=float32),\n",
       " array([[ 3.60816267],\n",
       "        [ 2.74873716],\n",
       "        [ 2.14197716],\n",
       "        ...,\n",
       "        [ 9.70355844],\n",
       "        [10.13628912],\n",
       "        [11.05822973]]))"
      ]
     },
     "execution_count": 45,
     "metadata": {},
     "output_type": "execute_result"
    },
    {
     "data": {
      "image/png": "[encoded data removed]",
      "text/plain": [
       "<Figure size 1000x500 with 1 Axes>"
      ]
     },
     "metadata": {},
     "output_type": "display_data"
    }
   ],
   "source": [
    "evaluate(model, X_test, y_test, scaler_y, save_to='figures/dense_tuned.jpg')"
   ]
  },
  {
   "cell_type": "code",
   "execution_count": null,
   "metadata": {},
   "outputs": [],
   "source": []
  }
 ],
 "metadata": {
  "kernelspec": {
   "display_name": "venv",
   "language": "python",
   "name": "python3"
  },
  "language_info": {
   "codemirror_mode": {
    "name": "ipython",
    "version": 3
   },
   "file_extension": ".py",
   "mimetype": "text/x-python",
   "name": "python",
   "nbconvert_exporter": "python",
   "pygments_lexer": "ipython3",
   "version": "3.10.8"
  },
  "orig_nbformat": 4
 },
 "nbformat": 4,
 "nbformat_minor": 2
}
