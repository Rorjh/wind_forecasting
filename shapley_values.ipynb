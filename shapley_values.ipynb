{
 "cells": [
  {
   "cell_type": "code",
   "execution_count": 47,
   "metadata": {},
   "outputs": [],
   "source": [
    "import pandas as pd\n",
    "import numpy as np\n",
    "import matplotlib.pyplot as plt\n",
    "import random\n",
    "import shap\n",
    "\n",
    "from math import sqrt\n",
    "from numpy import split\n",
    "from numpy import array\n",
    "from pandas import read_csv\n",
    "from sklearn.metrics import mean_squared_error\n",
    "from sklearn.preprocessing import MinMaxScaler\n",
    "from matplotlib import pyplot\n",
    "from tensorflow.keras.models import Sequential\n",
    "from tensorflow.keras.layers import Dense\n",
    "from tensorflow.keras.layers import LSTM\n",
    "from tensorflow.keras.layers import RepeatVector\n",
    "from tensorflow.keras.layers import TimeDistributed\n",
    "from tensorflow.keras.layers import Reshape\n",
    "import tensorflow as tf"
   ]
  },
  {
   "cell_type": "markdown",
   "metadata": {},
   "source": [
    "# Przygotowanie danych:"
   ]
  },
  {
   "cell_type": "code",
   "execution_count": 14,
   "metadata": {},
   "outputs": [
    {
     "data": {
      "text/html": [
       "<div>\n",
       "<style scoped>\n",
       "    .dataframe tbody tr th:only-of-type {\n",
       "        vertical-align: middle;\n",
       "    }\n",
       "\n",
       "    .dataframe tbody tr th {\n",
       "        vertical-align: top;\n",
       "    }\n",
       "\n",
       "    .dataframe thead th {\n",
       "        text-align: right;\n",
       "    }\n",
       "</style>\n",
       "<table border=\"1\" class=\"dataframe\">\n",
       "  <thead>\n",
       "    <tr style=\"text-align: right;\">\n",
       "      <th></th>\n",
       "      <th>t2m</th>\n",
       "      <th>d2m</th>\n",
       "      <th>msl</th>\n",
       "      <th>tp</th>\n",
       "      <th>ssrd</th>\n",
       "      <th>Date Time</th>\n",
       "      <th>windspeed_10</th>\n",
       "      <th>windspeed_100</th>\n",
       "    </tr>\n",
       "  </thead>\n",
       "  <tbody>\n",
       "    <tr>\n",
       "      <th>0</th>\n",
       "      <td>262.714033</td>\n",
       "      <td>259.900872</td>\n",
       "      <td>103298.015394</td>\n",
       "      <td>0.000000</td>\n",
       "      <td>0.0</td>\n",
       "      <td>1950-01-01 00:00:00</td>\n",
       "      <td>2.489513</td>\n",
       "      <td>3.817744</td>\n",
       "    </tr>\n",
       "    <tr>\n",
       "      <th>1</th>\n",
       "      <td>260.695745</td>\n",
       "      <td>258.184905</td>\n",
       "      <td>103401.866726</td>\n",
       "      <td>0.000000</td>\n",
       "      <td>0.0</td>\n",
       "      <td>1950-01-01 01:00:00</td>\n",
       "      <td>1.837656</td>\n",
       "      <td>3.726080</td>\n",
       "    </tr>\n",
       "    <tr>\n",
       "      <th>2</th>\n",
       "      <td>260.195929</td>\n",
       "      <td>257.699157</td>\n",
       "      <td>103434.928307</td>\n",
       "      <td>0.000000</td>\n",
       "      <td>0.0</td>\n",
       "      <td>1950-01-01 02:00:00</td>\n",
       "      <td>2.599009</td>\n",
       "      <td>3.537574</td>\n",
       "    </tr>\n",
       "    <tr>\n",
       "      <th>3</th>\n",
       "      <td>259.350219</td>\n",
       "      <td>256.948053</td>\n",
       "      <td>103418.318422</td>\n",
       "      <td>0.000000</td>\n",
       "      <td>0.0</td>\n",
       "      <td>1950-01-01 03:00:00</td>\n",
       "      <td>2.534284</td>\n",
       "      <td>3.147813</td>\n",
       "    </tr>\n",
       "    <tr>\n",
       "      <th>4</th>\n",
       "      <td>258.763065</td>\n",
       "      <td>256.665744</td>\n",
       "      <td>103419.030274</td>\n",
       "      <td>0.000000</td>\n",
       "      <td>0.0</td>\n",
       "      <td>1950-01-01 04:00:00</td>\n",
       "      <td>2.623488</td>\n",
       "      <td>3.713367</td>\n",
       "    </tr>\n",
       "    <tr>\n",
       "      <th>...</th>\n",
       "      <td>...</td>\n",
       "      <td>...</td>\n",
       "      <td>...</td>\n",
       "      <td>...</td>\n",
       "      <td>...</td>\n",
       "      <td>...</td>\n",
       "      <td>...</td>\n",
       "      <td>...</td>\n",
       "    </tr>\n",
       "    <tr>\n",
       "      <th>622387</th>\n",
       "      <td>274.643734</td>\n",
       "      <td>274.172750</td>\n",
       "      <td>100974.912154</td>\n",
       "      <td>0.000006</td>\n",
       "      <td>0.0</td>\n",
       "      <td>2020-12-31 19:00:00</td>\n",
       "      <td>0.809895</td>\n",
       "      <td>1.810642</td>\n",
       "    </tr>\n",
       "    <tr>\n",
       "      <th>622388</th>\n",
       "      <td>274.719036</td>\n",
       "      <td>274.144356</td>\n",
       "      <td>100973.148236</td>\n",
       "      <td>0.000005</td>\n",
       "      <td>0.0</td>\n",
       "      <td>2020-12-31 20:00:00</td>\n",
       "      <td>0.868971</td>\n",
       "      <td>1.490224</td>\n",
       "    </tr>\n",
       "    <tr>\n",
       "      <th>622389</th>\n",
       "      <td>274.310849</td>\n",
       "      <td>273.971416</td>\n",
       "      <td>100980.668096</td>\n",
       "      <td>0.000003</td>\n",
       "      <td>0.0</td>\n",
       "      <td>2020-12-31 21:00:00</td>\n",
       "      <td>0.774225</td>\n",
       "      <td>1.328229</td>\n",
       "    </tr>\n",
       "    <tr>\n",
       "      <th>622390</th>\n",
       "      <td>273.450250</td>\n",
       "      <td>273.092257</td>\n",
       "      <td>100972.962561</td>\n",
       "      <td>0.000002</td>\n",
       "      <td>0.0</td>\n",
       "      <td>2020-12-31 22:00:00</td>\n",
       "      <td>0.649268</td>\n",
       "      <td>0.561700</td>\n",
       "    </tr>\n",
       "    <tr>\n",
       "      <th>622391</th>\n",
       "      <td>273.331320</td>\n",
       "      <td>273.086579</td>\n",
       "      <td>100962.471893</td>\n",
       "      <td>0.000001</td>\n",
       "      <td>0.0</td>\n",
       "      <td>2020-12-31 23:00:00</td>\n",
       "      <td>0.674605</td>\n",
       "      <td>0.693577</td>\n",
       "    </tr>\n",
       "  </tbody>\n",
       "</table>\n",
       "<p>622392 rows × 8 columns</p>\n",
       "</div>"
      ],
      "text/plain": [
       "               t2m         d2m            msl        tp  ssrd  \\\n",
       "0       262.714033  259.900872  103298.015394  0.000000   0.0   \n",
       "1       260.695745  258.184905  103401.866726  0.000000   0.0   \n",
       "2       260.195929  257.699157  103434.928307  0.000000   0.0   \n",
       "3       259.350219  256.948053  103418.318422  0.000000   0.0   \n",
       "4       258.763065  256.665744  103419.030274  0.000000   0.0   \n",
       "...            ...         ...            ...       ...   ...   \n",
       "622387  274.643734  274.172750  100974.912154  0.000006   0.0   \n",
       "622388  274.719036  274.144356  100973.148236  0.000005   0.0   \n",
       "622389  274.310849  273.971416  100980.668096  0.000003   0.0   \n",
       "622390  273.450250  273.092257  100972.962561  0.000002   0.0   \n",
       "622391  273.331320  273.086579  100962.471893  0.000001   0.0   \n",
       "\n",
       "                  Date Time  windspeed_10  windspeed_100  \n",
       "0       1950-01-01 00:00:00      2.489513       3.817744  \n",
       "1       1950-01-01 01:00:00      1.837656       3.726080  \n",
       "2       1950-01-01 02:00:00      2.599009       3.537574  \n",
       "3       1950-01-01 03:00:00      2.534284       3.147813  \n",
       "4       1950-01-01 04:00:00      2.623488       3.713367  \n",
       "...                     ...           ...            ...  \n",
       "622387  2020-12-31 19:00:00      0.809895       1.810642  \n",
       "622388  2020-12-31 20:00:00      0.868971       1.490224  \n",
       "622389  2020-12-31 21:00:00      0.774225       1.328229  \n",
       "622390  2020-12-31 22:00:00      0.649268       0.561700  \n",
       "622391  2020-12-31 23:00:00      0.674605       0.693577  \n",
       "\n",
       "[622392 rows x 8 columns]"
      ]
     },
     "execution_count": 14,
     "metadata": {},
     "output_type": "execute_result"
    }
   ],
   "source": [
    "df = read_csv('data/ERA5_single_location/table.csv')\n",
    "df"
   ]
  },
  {
   "cell_type": "markdown",
   "metadata": {},
   "source": [
    "## Wybór zestawu uczacego i testowego:"
   ]
  },
  {
   "cell_type": "code",
   "execution_count": 28,
   "metadata": {},
   "outputs": [],
   "source": [
    "train = df[df['Date Time']>='1994-01-01']\n",
    "train = train[train['Date Time']<'2002-01-01']\n",
    "\n",
    "test = df[df['Date Time']>='2002-01-01']\n",
    "test = test[test['Date Time']<'2003-01-01']"
   ]
  },
  {
   "cell_type": "markdown",
   "metadata": {},
   "source": [
    "## Zamiana daty na sygnał"
   ]
  },
  {
   "cell_type": "code",
   "execution_count": 29,
   "metadata": {},
   "outputs": [],
   "source": [
    "def datetimeToSignal(df):\n",
    "    date_time = pd.to_datetime(df.pop('Date Time'), infer_datetime_format=True)\n",
    "\n",
    "    def datetime_to_seconds(dates):\n",
    "        return (float)((dates - pd.Timestamp(\"1970-01-01\")) // pd.Timedelta('1s'))\n",
    "\n",
    "    timestamp_s = date_time.map(datetime_to_seconds)\n",
    "\n",
    "    day = 24*60*60\n",
    "    year = (365.2425)*day\n",
    "\n",
    "    df['Day sin'] = np.sin(timestamp_s * (2 * np.pi / day))\n",
    "    df['Day cos'] = np.cos(timestamp_s * (2 * np.pi / day))\n",
    "    df['Year sin'] = np.sin(timestamp_s * (2 * np.pi / year))\n",
    "    df['Year cos'] = np.cos(timestamp_s * (2 * np.pi / year))\n",
    "    \n",
    "    return df"
   ]
  },
  {
   "cell_type": "code",
   "execution_count": 30,
   "metadata": {},
   "outputs": [
    {
     "data": {
      "text/plain": [
       "Text(0.5, 1.0, 'Time of day signal')"
      ]
     },
     "execution_count": 30,
     "metadata": {},
     "output_type": "execute_result"
    },
    {
     "data": {
      "image/png": "[encoded data removed]",
      "text/plain": [
       "<Figure size 432x288 with 1 Axes>"
      ]
     },
     "metadata": {
      "needs_background": "light"
     },
     "output_type": "display_data"
    }
   ],
   "source": [
    "train = datetimeToSignal(train)\n",
    "test = datetimeToSignal(test)\n",
    "\n",
    "plt.plot(np.array(train['Day sin'])[:25])\n",
    "plt.plot(np.array(train['Day cos'])[:25])\n",
    "plt.xlabel('Time [h]')\n",
    "plt.title('Time of day signal')"
   ]
  },
  {
   "cell_type": "code",
   "execution_count": 31,
   "metadata": {},
   "outputs": [
    {
     "data": {
      "text/html": [
       "<div>\n",
       "<style scoped>\n",
       "    .dataframe tbody tr th:only-of-type {\n",
       "        vertical-align: middle;\n",
       "    }\n",
       "\n",
       "    .dataframe tbody tr th {\n",
       "        vertical-align: top;\n",
       "    }\n",
       "\n",
       "    .dataframe thead th {\n",
       "        text-align: right;\n",
       "    }\n",
       "</style>\n",
       "<table border=\"1\" class=\"dataframe\">\n",
       "  <thead>\n",
       "    <tr style=\"text-align: right;\">\n",
       "      <th></th>\n",
       "      <th>t2m</th>\n",
       "      <th>d2m</th>\n",
       "      <th>msl</th>\n",
       "      <th>tp</th>\n",
       "      <th>ssrd</th>\n",
       "      <th>windspeed_10</th>\n",
       "      <th>windspeed_100</th>\n",
       "      <th>Day sin</th>\n",
       "      <th>Day cos</th>\n",
       "      <th>Year sin</th>\n",
       "      <th>Year cos</th>\n",
       "    </tr>\n",
       "  </thead>\n",
       "  <tbody>\n",
       "    <tr>\n",
       "      <th>385704</th>\n",
       "      <td>276.591343</td>\n",
       "      <td>273.596620</td>\n",
       "      <td>100506.632367</td>\n",
       "      <td>1.932132e-06</td>\n",
       "      <td>0.0</td>\n",
       "      <td>2.114060</td>\n",
       "      <td>5.361759</td>\n",
       "      <td>-1.194924e-12</td>\n",
       "      <td>1.000000</td>\n",
       "      <td>0.003096</td>\n",
       "      <td>0.999995</td>\n",
       "    </tr>\n",
       "    <tr>\n",
       "      <th>385705</th>\n",
       "      <td>276.239701</td>\n",
       "      <td>273.369400</td>\n",
       "      <td>100396.343001</td>\n",
       "      <td>4.458765e-07</td>\n",
       "      <td>0.0</td>\n",
       "      <td>2.405930</td>\n",
       "      <td>5.321845</td>\n",
       "      <td>2.588190e-01</td>\n",
       "      <td>0.965926</td>\n",
       "      <td>0.003813</td>\n",
       "      <td>0.999993</td>\n",
       "    </tr>\n",
       "    <tr>\n",
       "      <th>385706</th>\n",
       "      <td>276.160200</td>\n",
       "      <td>273.007005</td>\n",
       "      <td>100208.231961</td>\n",
       "      <td>-4.336809e-19</td>\n",
       "      <td>0.0</td>\n",
       "      <td>2.965422</td>\n",
       "      <td>6.456552</td>\n",
       "      <td>5.000000e-01</td>\n",
       "      <td>0.866025</td>\n",
       "      <td>0.004530</td>\n",
       "      <td>0.999990</td>\n",
       "    </tr>\n",
       "    <tr>\n",
       "      <th>385707</th>\n",
       "      <td>276.464446</td>\n",
       "      <td>273.140248</td>\n",
       "      <td>100168.421244</td>\n",
       "      <td>-4.336809e-19</td>\n",
       "      <td>0.0</td>\n",
       "      <td>2.014878</td>\n",
       "      <td>4.494060</td>\n",
       "      <td>7.071068e-01</td>\n",
       "      <td>0.707107</td>\n",
       "      <td>0.005247</td>\n",
       "      <td>0.999986</td>\n",
       "    </tr>\n",
       "    <tr>\n",
       "      <th>385708</th>\n",
       "      <td>276.756462</td>\n",
       "      <td>273.067511</td>\n",
       "      <td>100306.858875</td>\n",
       "      <td>1.426805e-05</td>\n",
       "      <td>0.0</td>\n",
       "      <td>2.988442</td>\n",
       "      <td>6.387299</td>\n",
       "      <td>8.660254e-01</td>\n",
       "      <td>0.500000</td>\n",
       "      <td>0.005964</td>\n",
       "      <td>0.999982</td>\n",
       "    </tr>\n",
       "    <tr>\n",
       "      <th>...</th>\n",
       "      <td>...</td>\n",
       "      <td>...</td>\n",
       "      <td>...</td>\n",
       "      <td>...</td>\n",
       "      <td>...</td>\n",
       "      <td>...</td>\n",
       "      <td>...</td>\n",
       "      <td>...</td>\n",
       "      <td>...</td>\n",
       "      <td>...</td>\n",
       "      <td>...</td>\n",
       "    </tr>\n",
       "    <tr>\n",
       "      <th>455827</th>\n",
       "      <td>268.716680</td>\n",
       "      <td>266.967547</td>\n",
       "      <td>102182.755406</td>\n",
       "      <td>3.642718e-04</td>\n",
       "      <td>0.0</td>\n",
       "      <td>4.235441</td>\n",
       "      <td>7.019842</td>\n",
       "      <td>-9.659258e-01</td>\n",
       "      <td>0.258819</td>\n",
       "      <td>0.000545</td>\n",
       "      <td>1.000000</td>\n",
       "    </tr>\n",
       "    <tr>\n",
       "      <th>455828</th>\n",
       "      <td>268.546564</td>\n",
       "      <td>266.426877</td>\n",
       "      <td>102303.220947</td>\n",
       "      <td>2.379452e-04</td>\n",
       "      <td>0.0</td>\n",
       "      <td>4.918338</td>\n",
       "      <td>7.976831</td>\n",
       "      <td>-8.660254e-01</td>\n",
       "      <td>0.500000</td>\n",
       "      <td>0.001262</td>\n",
       "      <td>0.999999</td>\n",
       "    </tr>\n",
       "    <tr>\n",
       "      <th>455829</th>\n",
       "      <td>268.176845</td>\n",
       "      <td>266.142083</td>\n",
       "      <td>102400.963686</td>\n",
       "      <td>2.041077e-04</td>\n",
       "      <td>0.0</td>\n",
       "      <td>5.307397</td>\n",
       "      <td>8.410755</td>\n",
       "      <td>-7.071068e-01</td>\n",
       "      <td>0.707107</td>\n",
       "      <td>0.001978</td>\n",
       "      <td>0.999998</td>\n",
       "    </tr>\n",
       "    <tr>\n",
       "      <th>455830</th>\n",
       "      <td>267.034420</td>\n",
       "      <td>264.758975</td>\n",
       "      <td>102492.461991</td>\n",
       "      <td>1.640441e-04</td>\n",
       "      <td>0.0</td>\n",
       "      <td>5.672091</td>\n",
       "      <td>9.402890</td>\n",
       "      <td>-5.000000e-01</td>\n",
       "      <td>0.866025</td>\n",
       "      <td>0.002695</td>\n",
       "      <td>0.999996</td>\n",
       "    </tr>\n",
       "    <tr>\n",
       "      <th>455831</th>\n",
       "      <td>266.688140</td>\n",
       "      <td>264.539564</td>\n",
       "      <td>102579.016786</td>\n",
       "      <td>1.296652e-04</td>\n",
       "      <td>0.0</td>\n",
       "      <td>5.949078</td>\n",
       "      <td>9.746495</td>\n",
       "      <td>-2.588190e-01</td>\n",
       "      <td>0.965926</td>\n",
       "      <td>0.003412</td>\n",
       "      <td>0.999994</td>\n",
       "    </tr>\n",
       "  </tbody>\n",
       "</table>\n",
       "<p>70128 rows × 11 columns</p>\n",
       "</div>"
      ],
      "text/plain": [
       "               t2m         d2m            msl            tp  ssrd  \\\n",
       "385704  276.591343  273.596620  100506.632367  1.932132e-06   0.0   \n",
       "385705  276.239701  273.369400  100396.343001  4.458765e-07   0.0   \n",
       "385706  276.160200  273.007005  100208.231961 -4.336809e-19   0.0   \n",
       "385707  276.464446  273.140248  100168.421244 -4.336809e-19   0.0   \n",
       "385708  276.756462  273.067511  100306.858875  1.426805e-05   0.0   \n",
       "...            ...         ...            ...           ...   ...   \n",
       "455827  268.716680  266.967547  102182.755406  3.642718e-04   0.0   \n",
       "455828  268.546564  266.426877  102303.220947  2.379452e-04   0.0   \n",
       "455829  268.176845  266.142083  102400.963686  2.041077e-04   0.0   \n",
       "455830  267.034420  264.758975  102492.461991  1.640441e-04   0.0   \n",
       "455831  266.688140  264.539564  102579.016786  1.296652e-04   0.0   \n",
       "\n",
       "        windspeed_10  windspeed_100       Day sin   Day cos  Year sin  \\\n",
       "385704      2.114060       5.361759 -1.194924e-12  1.000000  0.003096   \n",
       "385705      2.405930       5.321845  2.588190e-01  0.965926  0.003813   \n",
       "385706      2.965422       6.456552  5.000000e-01  0.866025  0.004530   \n",
       "385707      2.014878       4.494060  7.071068e-01  0.707107  0.005247   \n",
       "385708      2.988442       6.387299  8.660254e-01  0.500000  0.005964   \n",
       "...              ...            ...           ...       ...       ...   \n",
       "455827      4.235441       7.019842 -9.659258e-01  0.258819  0.000545   \n",
       "455828      4.918338       7.976831 -8.660254e-01  0.500000  0.001262   \n",
       "455829      5.307397       8.410755 -7.071068e-01  0.707107  0.001978   \n",
       "455830      5.672091       9.402890 -5.000000e-01  0.866025  0.002695   \n",
       "455831      5.949078       9.746495 -2.588190e-01  0.965926  0.003412   \n",
       "\n",
       "        Year cos  \n",
       "385704  0.999995  \n",
       "385705  0.999993  \n",
       "385706  0.999990  \n",
       "385707  0.999986  \n",
       "385708  0.999982  \n",
       "...          ...  \n",
       "455827  1.000000  \n",
       "455828  0.999999  \n",
       "455829  0.999998  \n",
       "455830  0.999996  \n",
       "455831  0.999994  \n",
       "\n",
       "[70128 rows x 11 columns]"
      ]
     },
     "execution_count": 31,
     "metadata": {},
     "output_type": "execute_result"
    }
   ],
   "source": [
    "train"
   ]
  },
  {
   "cell_type": "markdown",
   "metadata": {},
   "source": [
    "## Normalizacja"
   ]
  },
  {
   "cell_type": "code",
   "execution_count": 32,
   "metadata": {},
   "outputs": [],
   "source": [
    "values_train = train.values\n",
    "values_test = test.values\n",
    "\n",
    "# normalize features\n",
    "scaler = MinMaxScaler(feature_range=(0, 1))\n",
    "scaler.fit(values_train)\n",
    "scaler_y = MinMaxScaler(feature_range=(0, 1))\n",
    "scaler_y.fit(values_train[:,5].reshape(len(values_train),1))\n",
    "\n",
    "values_train = scaler.transform(values_train)\n",
    "values_test = scaler.transform(values_test)"
   ]
  },
  {
   "cell_type": "code",
   "execution_count": 33,
   "metadata": {},
   "outputs": [
    {
     "data": {
      "image/png": "[encoded data removed]",
      "text/plain": [
       "<Figure size 720x360 with 1 Axes>"
      ]
     },
     "metadata": {
      "needs_background": "light"
     },
     "output_type": "display_data"
    }
   ],
   "source": [
    "plt.figure(figsize=[10,5])\n",
    "plt.xlabel('TimePoint in hours')\n",
    "plt.ylabel('Normalized $u_{10}$[m/s]')\n",
    "plt.grid()\n",
    "plt.plot(range(len(values_train)),values_train[:,5],'b')\n",
    "plt.plot(range(len(values_train),len(values_train)+len(values_test)),values_test[:,5],'r')\n",
    "plt.legend(['Norm Train','Norm Test']);"
   ]
  },
  {
   "cell_type": "markdown",
   "metadata": {},
   "source": [
    "## Zmiana szeregu czasowego na input/output"
   ]
  },
  {
   "cell_type": "code",
   "execution_count": 34,
   "metadata": {},
   "outputs": [],
   "source": [
    "# Multiple steps predicted:\n",
    "\n",
    "# # convert history into inputs and outputs\n",
    "# def to_supervised(data, n_input, n_out=1):\n",
    "#     X, y = list(), list()\n",
    "#     in_start = 0\n",
    "#     # step over the entire history one time step at a time\n",
    "#     for _ in range(len(data)):\n",
    "#         # define the end of the input sequence\n",
    "#         in_end = in_start + n_input\n",
    "#         out_end = in_end + n_out\n",
    "#         # ensure we have enough data for this instance\n",
    "#         if out_end < len(data):\n",
    "#             X.append(data[in_start:in_end, :])\n",
    "#             y.append(data[in_end:out_end, 0])\n",
    "#         # move along one time step\n",
    "#         in_start += 1\n",
    "#     return array(X), array(y)\n",
    "\n",
    "# One step predicted:\n",
    "def to_supervised(data, n_input, n_out=1):\n",
    "    X, y = list(), list()\n",
    "    in_start = 0\n",
    "    # step over the entire history one time step at a time\n",
    "    for _ in range(len(data)):\n",
    "        # define the end of the input sequence\n",
    "        in_end = in_start + n_input\n",
    "        out_end = in_end + n_out\n",
    "        # ensure we have enough data for this instance\n",
    "        if out_end < len(data):\n",
    "            X.append(data[in_start:in_end, :])\n",
    "            y.append(data[out_end-1, 5]) # 5 indicates 'windspeed10' parameter\n",
    "        # move along one time step\n",
    "        in_start += 1\n",
    "    return array(X), array(y).reshape((len(y),1))\n",
    "\n",
    "X_train, y_train = to_supervised(values_train, n_input=24, n_out=6)\n",
    "X_test, y_test = to_supervised(values_test, n_input=24, n_out=6)"
   ]
  },
  {
   "cell_type": "code",
   "execution_count": 35,
   "metadata": {},
   "outputs": [
    {
     "name": "stdout",
     "output_type": "stream",
     "text": [
      "(70098, 24, 11)\n",
      "(70098, 1)\n",
      "(8730, 24, 11)\n",
      "(8730, 1)\n"
     ]
    }
   ],
   "source": [
    "print(X_train.shape)\n",
    "print(y_train.shape)\n",
    "print(X_test.shape)\n",
    "print(y_test.shape)"
   ]
  },
  {
   "cell_type": "markdown",
   "metadata": {},
   "source": [
    "# Stworzenie i trening modeli"
   ]
  },
  {
   "cell_type": "code",
   "execution_count": 36,
   "metadata": {},
   "outputs": [],
   "source": [
    "def compile_and_fit(model, X_train, y_train):\n",
    "    early_stopping = tf.keras.callbacks.EarlyStopping(monitor='loss',\n",
    "                                                   patience=2,\n",
    "                                                   mode='min')\n",
    "\n",
    "    model.compile(loss='mean_squared_error',\n",
    "                  optimizer='adam')\n",
    "\n",
    "    model.fit(X_train, y_train, epochs=20, batch_size=32, callbacks=[early_stopping])\n",
    "\n",
    "def evaluate(model, X_test, y_test, display = True):\n",
    "    # make predictions\n",
    "    testPredictions = model.predict(X_test)\n",
    "\n",
    "    # invert scalling\n",
    "    testPredictions = scaler_y.inverse_transform(testPredictions)\n",
    "    testYTrue = scaler_y.inverse_transform(y_test)\n",
    "\n",
    "    # calculate RMSE\n",
    "    testScore = sqrt(mean_squared_error(testYTrue, testPredictions))\n",
    "    \n",
    "    if display:\n",
    "        print('Test Score: %.4f RMSE' % (testScore))\n",
    "        length = 168\n",
    "        start = random.randrange(len(testYTrue)-length)\n",
    "        end = start+length\n",
    "        plt.figure(figsize=[10,5])\n",
    "        plt.xlabel('TimePoint in hours')\n",
    "        plt.ylabel('$windspeed_{10}[m/s]$')\n",
    "        plt.grid()\n",
    "        plt.plot(range(length), testYTrue[start:end],'k.')\n",
    "        plt.plot(range(length),testPredictions[start:end],'r')\n",
    "        plt.legend(['Actual','Predicted'])\n",
    "\n",
    "    return testScore\n",
    "\n",
    "def cross_corr(model, X_test, y_test):\n",
    "    # make predictions\n",
    "    testPredictions = model.predict(X_test)\n",
    "\n",
    "    # invert scalling\n",
    "    testPredictions = scaler_y.inverse_transform(testPredictions)\n",
    "    testYTrue = scaler_y.inverse_transform(y_test)\n",
    "    testPredictions = testPredictions.reshape((testPredictions.shape[0]))\n",
    "    testYTrue = testYTrue.reshape((testYTrue.shape[0]))\n",
    "\n",
    "    plt.figure(figsize=[10,5])\n",
    "    plt.xcorr(testYTrue, testPredictions, usevlines=False)\n",
    "    plt.grid()\n",
    "    plt.title(\"Cross correlation between predictions and actual values\")\n"
   ]
  },
  {
   "cell_type": "markdown",
   "metadata": {},
   "source": [
    "## Dense:"
   ]
  },
  {
   "cell_type": "code",
   "execution_count": 37,
   "metadata": {},
   "outputs": [
    {
     "name": "stdout",
     "output_type": "stream",
     "text": [
      "Model: \"sequential_1\"\n",
      "_________________________________________________________________\n",
      "Layer (type)                 Output Shape              Param #   \n",
      "=================================================================\n",
      "dense_5 (Dense)              (None, 24, 24)            288       \n",
      "_________________________________________________________________\n",
      "dense_6 (Dense)              (None, 24, 24)            600       \n",
      "_________________________________________________________________\n",
      "dense_7 (Dense)              (None, 24, 24)            600       \n",
      "_________________________________________________________________\n",
      "dense_8 (Dense)              (None, 24, 1)             25        \n",
      "_________________________________________________________________\n",
      "reshape_2 (Reshape)          (None, 1, 24)             0         \n",
      "_________________________________________________________________\n",
      "dense_9 (Dense)              (None, 1, 1)              25        \n",
      "_________________________________________________________________\n",
      "reshape_3 (Reshape)          (None, 1)                 0         \n",
      "=================================================================\n",
      "Total params: 1,538\n",
      "Trainable params: 1,538\n",
      "Non-trainable params: 0\n",
      "_________________________________________________________________\n",
      "Epoch 1/20\n",
      "2191/2191 [==============================] - 16s 7ms/step - loss: 0.0111\n",
      "Epoch 2/20\n",
      "2191/2191 [==============================] - 15s 7ms/step - loss: 0.0074\n",
      "Epoch 3/20\n",
      "2191/2191 [==============================] - 14s 7ms/step - loss: 0.0069\n",
      "Epoch 4/20\n",
      "2191/2191 [==============================] - 15s 7ms/step - loss: 0.0067\n",
      "Epoch 5/20\n",
      "2191/2191 [==============================] - 15s 7ms/step - loss: 0.0066\n",
      "Epoch 6/20\n",
      "2191/2191 [==============================] - 15s 7ms/step - loss: 0.0065\n",
      "Epoch 7/20\n",
      "2191/2191 [==============================] - 15s 7ms/step - loss: 0.0064\n",
      "Epoch 8/20\n",
      "2191/2191 [==============================] - 16s 7ms/step - loss: 0.0064\n",
      "Epoch 9/20\n",
      "2191/2191 [==============================] - 15s 7ms/step - loss: 0.0063\n",
      "Epoch 10/20\n",
      "2191/2191 [==============================] - 16s 7ms/step - loss: 0.0063\n",
      "Epoch 11/20\n",
      "2191/2191 [==============================] - 15s 7ms/step - loss: 0.0063\n",
      "Epoch 12/20\n",
      "2191/2191 [==============================] - 15s 7ms/step - loss: 0.0062\n",
      "Epoch 13/20\n",
      "2191/2191 [==============================] - 16s 7ms/step - loss: 0.0062\n",
      "Epoch 14/20\n",
      "2191/2191 [==============================] - 15s 7ms/step - loss: 0.0062\n",
      "Epoch 15/20\n",
      "2191/2191 [==============================] - 16s 7ms/step - loss: 0.0062\n",
      "Epoch 16/20\n",
      "2191/2191 [==============================] - 15s 7ms/step - loss: 0.0062\n",
      "Epoch 17/20\n",
      "2191/2191 [==============================] - 14s 7ms/step - loss: 0.0061\n",
      "Epoch 18/20\n",
      "2191/2191 [==============================] - 14s 6ms/step - loss: 0.0061\n",
      "Epoch 19/20\n",
      "2191/2191 [==============================] - 15s 7ms/step - loss: 0.0061\n",
      "Epoch 20/20\n",
      "2191/2191 [==============================] - 15s 7ms/step - loss: 0.0061\n"
     ]
    }
   ],
   "source": [
    "dense = Sequential([\n",
    "    Dense(units=24, activation='relu', input_shape=(24,11)),\n",
    "    Dense(units=24, activation='relu'),\n",
    "    Dense(units=24, activation='relu'),\n",
    "    Dense(1),\n",
    "    Reshape([1,24]),\n",
    "    Dense(1),\n",
    "    Reshape([1])\n",
    "])\n",
    "dense.summary()\n",
    "compile_and_fit(dense, X_train, y_train)\n"
   ]
  },
  {
   "cell_type": "code",
   "execution_count": 38,
   "metadata": {},
   "outputs": [
    {
     "name": "stdout",
     "output_type": "stream",
     "text": [
      "Test Score: 1.0480 RMSE\n"
     ]
    },
    {
     "data": {
      "text/plain": [
       "1.048046503999887"
      ]
     },
     "execution_count": 38,
     "metadata": {},
     "output_type": "execute_result"
    },
    {
     "data": {
      "image/png": "[encoded data removed]",
      "text/plain": [
       "<Figure size 720x360 with 1 Axes>"
      ]
     },
     "metadata": {
      "needs_background": "light"
     },
     "output_type": "display_data"
    }
   ],
   "source": [
    "evaluate(dense, X_test, y_test)"
   ]
  },
  {
   "cell_type": "code",
   "execution_count": 39,
   "metadata": {},
   "outputs": [
    {
     "data": {
      "image/png": "[encoded data removed]",
      "text/plain": [
       "<Figure size 720x360 with 1 Axes>"
      ]
     },
     "metadata": {
      "needs_background": "light"
     },
     "output_type": "display_data"
    }
   ],
   "source": [
    "cross_corr(dense, X_test, y_test)"
   ]
  },
  {
   "cell_type": "code",
   "execution_count": 48,
   "metadata": {},
   "outputs": [
    {
     "name": "stderr",
     "output_type": "stream",
     "text": [
      "Your TensorFlow version is newer than 2.4.0 and so graph support has been removed in eager mode. See PR #1483 for discussion.\n"
     ]
    }
   ],
   "source": [
    "explaner = shap.DeepExplainer(dense, X_test[:50])"
   ]
  },
  {
   "cell_type": "code",
   "execution_count": null,
   "metadata": {},
   "outputs": [],
   "source": [
    "# wrapper function:\n",
    "# def f(X):\n"
   ]
  },
  {
   "cell_type": "code",
   "execution_count": 53,
   "metadata": {},
   "outputs": [],
   "source": [
    "explaner = shap.GradientExplainer(dense, X_test[:50])"
   ]
  },
  {
   "cell_type": "code",
   "execution_count": 55,
   "metadata": {},
   "outputs": [],
   "source": [
    "shap_values = explaner.shap_values(X_test[:100])"
   ]
  },
  {
   "cell_type": "code",
   "execution_count": 60,
   "metadata": {},
   "outputs": [
    {
     "ename": "ValueError",
     "evalue": "shape mismatch: objects cannot be broadcast to a single shape.  Mismatch is between arg 0 with shape (20,) and arg 2 with shape (20, 11, 11).",
     "output_type": "error",
     "traceback": [
      "\u001b[1;31m---------------------------------------------------------------------------\u001b[0m",
      "\u001b[1;31mValueError\u001b[0m                                Traceback (most recent call last)",
      "\u001b[1;32m~\\AppData\\Local\\Temp/ipykernel_19260/1071796431.py\u001b[0m in \u001b[0;36m<module>\u001b[1;34m\u001b[0m\n\u001b[1;32m----> 1\u001b[1;33m \u001b[0mshap\u001b[0m\u001b[1;33m.\u001b[0m\u001b[0msummary_plot\u001b[0m\u001b[1;33m(\u001b[0m\u001b[0mshap_values\u001b[0m\u001b[1;33m)\u001b[0m\u001b[1;33m\u001b[0m\u001b[1;33m\u001b[0m\u001b[0m\n\u001b[0m",
      "\u001b[1;32mD:\\Programy\\Anaconda\\envs\\tf_gpu\\lib\\site-packages\\shap\\plots\\_beeswarm.py\u001b[0m in \u001b[0;36msummary_legacy\u001b[1;34m(shap_values, features, feature_names, max_display, plot_type, color, axis_color, title, alpha, show, sort, color_bar, plot_size, layered_violin_max_num_bins, class_names, class_inds, color_bar_label, cmap, auto_size_plot, use_log_scale)\u001b[0m\n\u001b[0;32m    847\u001b[0m         \u001b[1;32mfor\u001b[0m \u001b[0mi\u001b[0m\u001b[1;33m,\u001b[0m \u001b[0mind\u001b[0m \u001b[1;32min\u001b[0m \u001b[0menumerate\u001b[0m\u001b[1;33m(\u001b[0m\u001b[0mclass_inds\u001b[0m\u001b[1;33m)\u001b[0m\u001b[1;33m:\u001b[0m\u001b[1;33m\u001b[0m\u001b[1;33m\u001b[0m\u001b[0m\n\u001b[0;32m    848\u001b[0m             \u001b[0mglobal_shap_values\u001b[0m \u001b[1;33m=\u001b[0m \u001b[0mnp\u001b[0m\u001b[1;33m.\u001b[0m\u001b[0mabs\u001b[0m\u001b[1;33m(\u001b[0m\u001b[0mshap_values\u001b[0m\u001b[1;33m[\u001b[0m\u001b[0mind\u001b[0m\u001b[1;33m]\u001b[0m\u001b[1;33m)\u001b[0m\u001b[1;33m.\u001b[0m\u001b[0mmean\u001b[0m\u001b[1;33m(\u001b[0m\u001b[1;36m0\u001b[0m\u001b[1;33m)\u001b[0m\u001b[1;33m\u001b[0m\u001b[1;33m\u001b[0m\u001b[0m\n\u001b[1;32m--> 849\u001b[1;33m             pl.barh(\n\u001b[0m\u001b[0;32m    850\u001b[0m                 \u001b[0my_pos\u001b[0m\u001b[1;33m,\u001b[0m \u001b[0mglobal_shap_values\u001b[0m\u001b[1;33m[\u001b[0m\u001b[0mfeature_inds\u001b[0m\u001b[1;33m]\u001b[0m\u001b[1;33m,\u001b[0m \u001b[1;36m0.7\u001b[0m\u001b[1;33m,\u001b[0m \u001b[0mleft\u001b[0m\u001b[1;33m=\u001b[0m\u001b[0mleft_pos\u001b[0m\u001b[1;33m,\u001b[0m \u001b[0malign\u001b[0m\u001b[1;33m=\u001b[0m\u001b[1;34m'center'\u001b[0m\u001b[1;33m,\u001b[0m\u001b[1;33m\u001b[0m\u001b[1;33m\u001b[0m\u001b[0m\n\u001b[0;32m    851\u001b[0m                 \u001b[0mcolor\u001b[0m\u001b[1;33m=\u001b[0m\u001b[0mcolor\u001b[0m\u001b[1;33m(\u001b[0m\u001b[0mi\u001b[0m\u001b[1;33m)\u001b[0m\u001b[1;33m,\u001b[0m \u001b[0mlabel\u001b[0m\u001b[1;33m=\u001b[0m\u001b[0mclass_names\u001b[0m\u001b[1;33m[\u001b[0m\u001b[0mind\u001b[0m\u001b[1;33m]\u001b[0m\u001b[1;33m\u001b[0m\u001b[1;33m\u001b[0m\u001b[0m\n",
      "\u001b[1;32mD:\\Programy\\Anaconda\\envs\\tf_gpu\\lib\\site-packages\\matplotlib\\pyplot.py\u001b[0m in \u001b[0;36mbarh\u001b[1;34m(y, width, height, left, align, **kwargs)\u001b[0m\n\u001b[0;32m   2445\u001b[0m \u001b[1;33m@\u001b[0m\u001b[0mdocstring\u001b[0m\u001b[1;33m.\u001b[0m\u001b[0mcopy\u001b[0m\u001b[1;33m(\u001b[0m\u001b[0mAxes\u001b[0m\u001b[1;33m.\u001b[0m\u001b[0mbarh\u001b[0m\u001b[1;33m)\u001b[0m\u001b[1;33m\u001b[0m\u001b[1;33m\u001b[0m\u001b[0m\n\u001b[0;32m   2446\u001b[0m \u001b[1;32mdef\u001b[0m \u001b[0mbarh\u001b[0m\u001b[1;33m(\u001b[0m\u001b[0my\u001b[0m\u001b[1;33m,\u001b[0m \u001b[0mwidth\u001b[0m\u001b[1;33m,\u001b[0m \u001b[0mheight\u001b[0m\u001b[1;33m=\u001b[0m\u001b[1;36m0.8\u001b[0m\u001b[1;33m,\u001b[0m \u001b[0mleft\u001b[0m\u001b[1;33m=\u001b[0m\u001b[1;32mNone\u001b[0m\u001b[1;33m,\u001b[0m \u001b[1;33m*\u001b[0m\u001b[1;33m,\u001b[0m \u001b[0malign\u001b[0m\u001b[1;33m=\u001b[0m\u001b[1;34m'center'\u001b[0m\u001b[1;33m,\u001b[0m \u001b[1;33m**\u001b[0m\u001b[0mkwargs\u001b[0m\u001b[1;33m)\u001b[0m\u001b[1;33m:\u001b[0m\u001b[1;33m\u001b[0m\u001b[1;33m\u001b[0m\u001b[0m\n\u001b[1;32m-> 2447\u001b[1;33m     return gca().barh(\n\u001b[0m\u001b[0;32m   2448\u001b[0m         y, width, height=height, left=left, align=align, **kwargs)\n\u001b[0;32m   2449\u001b[0m \u001b[1;33m\u001b[0m\u001b[0m\n",
      "\u001b[1;32mD:\\Programy\\Anaconda\\envs\\tf_gpu\\lib\\site-packages\\matplotlib\\axes\\_axes.py\u001b[0m in \u001b[0;36mbarh\u001b[1;34m(self, y, width, height, left, align, **kwargs)\u001b[0m\n\u001b[0;32m   2593\u001b[0m         \"\"\"\n\u001b[0;32m   2594\u001b[0m         \u001b[0mkwargs\u001b[0m\u001b[1;33m.\u001b[0m\u001b[0msetdefault\u001b[0m\u001b[1;33m(\u001b[0m\u001b[1;34m'orientation'\u001b[0m\u001b[1;33m,\u001b[0m \u001b[1;34m'horizontal'\u001b[0m\u001b[1;33m)\u001b[0m\u001b[1;33m\u001b[0m\u001b[1;33m\u001b[0m\u001b[0m\n\u001b[1;32m-> 2595\u001b[1;33m         patches = self.bar(x=left, height=height, width=width, bottom=y,\n\u001b[0m\u001b[0;32m   2596\u001b[0m                            align=align, **kwargs)\n\u001b[0;32m   2597\u001b[0m         \u001b[1;32mreturn\u001b[0m \u001b[0mpatches\u001b[0m\u001b[1;33m\u001b[0m\u001b[1;33m\u001b[0m\u001b[0m\n",
      "\u001b[1;32mD:\\Programy\\Anaconda\\envs\\tf_gpu\\lib\\site-packages\\matplotlib\\__init__.py\u001b[0m in \u001b[0;36minner\u001b[1;34m(ax, data, *args, **kwargs)\u001b[0m\n\u001b[0;32m   1597\u001b[0m     \u001b[1;32mdef\u001b[0m \u001b[0minner\u001b[0m\u001b[1;33m(\u001b[0m\u001b[0max\u001b[0m\u001b[1;33m,\u001b[0m \u001b[1;33m*\u001b[0m\u001b[0margs\u001b[0m\u001b[1;33m,\u001b[0m \u001b[0mdata\u001b[0m\u001b[1;33m=\u001b[0m\u001b[1;32mNone\u001b[0m\u001b[1;33m,\u001b[0m \u001b[1;33m**\u001b[0m\u001b[0mkwargs\u001b[0m\u001b[1;33m)\u001b[0m\u001b[1;33m:\u001b[0m\u001b[1;33m\u001b[0m\u001b[1;33m\u001b[0m\u001b[0m\n\u001b[0;32m   1598\u001b[0m         \u001b[1;32mif\u001b[0m \u001b[0mdata\u001b[0m \u001b[1;32mis\u001b[0m \u001b[1;32mNone\u001b[0m\u001b[1;33m:\u001b[0m\u001b[1;33m\u001b[0m\u001b[1;33m\u001b[0m\u001b[0m\n\u001b[1;32m-> 1599\u001b[1;33m             \u001b[1;32mreturn\u001b[0m \u001b[0mfunc\u001b[0m\u001b[1;33m(\u001b[0m\u001b[0max\u001b[0m\u001b[1;33m,\u001b[0m \u001b[1;33m*\u001b[0m\u001b[0mmap\u001b[0m\u001b[1;33m(\u001b[0m\u001b[0msanitize_sequence\u001b[0m\u001b[1;33m,\u001b[0m \u001b[0margs\u001b[0m\u001b[1;33m)\u001b[0m\u001b[1;33m,\u001b[0m \u001b[1;33m**\u001b[0m\u001b[0mkwargs\u001b[0m\u001b[1;33m)\u001b[0m\u001b[1;33m\u001b[0m\u001b[1;33m\u001b[0m\u001b[0m\n\u001b[0m\u001b[0;32m   1600\u001b[0m \u001b[1;33m\u001b[0m\u001b[0m\n\u001b[0;32m   1601\u001b[0m         \u001b[0mbound\u001b[0m \u001b[1;33m=\u001b[0m \u001b[0mnew_sig\u001b[0m\u001b[1;33m.\u001b[0m\u001b[0mbind\u001b[0m\u001b[1;33m(\u001b[0m\u001b[0max\u001b[0m\u001b[1;33m,\u001b[0m \u001b[1;33m*\u001b[0m\u001b[0margs\u001b[0m\u001b[1;33m,\u001b[0m \u001b[1;33m**\u001b[0m\u001b[0mkwargs\u001b[0m\u001b[1;33m)\u001b[0m\u001b[1;33m\u001b[0m\u001b[1;33m\u001b[0m\u001b[0m\n",
      "\u001b[1;32mD:\\Programy\\Anaconda\\envs\\tf_gpu\\lib\\site-packages\\matplotlib\\axes\\_axes.py\u001b[0m in \u001b[0;36mbar\u001b[1;34m(self, x, height, width, bottom, align, **kwargs)\u001b[0m\n\u001b[0;32m   2370\u001b[0m                 \u001b[0myerr\u001b[0m \u001b[1;33m=\u001b[0m \u001b[0mself\u001b[0m\u001b[1;33m.\u001b[0m\u001b[0m_convert_dx\u001b[0m\u001b[1;33m(\u001b[0m\u001b[0myerr\u001b[0m\u001b[1;33m,\u001b[0m \u001b[0my0\u001b[0m\u001b[1;33m,\u001b[0m \u001b[0my\u001b[0m\u001b[1;33m,\u001b[0m \u001b[0mself\u001b[0m\u001b[1;33m.\u001b[0m\u001b[0mconvert_yunits\u001b[0m\u001b[1;33m)\u001b[0m\u001b[1;33m\u001b[0m\u001b[1;33m\u001b[0m\u001b[0m\n\u001b[0;32m   2371\u001b[0m \u001b[1;33m\u001b[0m\u001b[0m\n\u001b[1;32m-> 2372\u001b[1;33m         x, height, width, y, linewidth = np.broadcast_arrays(\n\u001b[0m\u001b[0;32m   2373\u001b[0m             \u001b[1;31m# Make args iterable too.\u001b[0m\u001b[1;33m\u001b[0m\u001b[1;33m\u001b[0m\u001b[0m\n\u001b[0;32m   2374\u001b[0m             np.atleast_1d(x), height, width, y, linewidth)\n",
      "\u001b[1;32mD:\\Programy\\Anaconda\\envs\\tf_gpu\\lib\\site-packages\\numpy\\core\\overrides.py\u001b[0m in \u001b[0;36mbroadcast_arrays\u001b[1;34m(*args, **kwargs)\u001b[0m\n",
      "\u001b[1;32mD:\\Programy\\Anaconda\\envs\\tf_gpu\\lib\\site-packages\\numpy\\lib\\stride_tricks.py\u001b[0m in \u001b[0;36mbroadcast_arrays\u001b[1;34m(subok, *args)\u001b[0m\n\u001b[0;32m    537\u001b[0m \u001b[1;33m\u001b[0m\u001b[0m\n\u001b[0;32m    538\u001b[0m     \u001b[0mshape\u001b[0m \u001b[1;33m=\u001b[0m \u001b[0m_broadcast_shape\u001b[0m\u001b[1;33m(\u001b[0m\u001b[1;33m*\u001b[0m\u001b[0margs\u001b[0m\u001b[1;33m)\u001b[0m\u001b[1;33m\u001b[0m\u001b[1;33m\u001b[0m\u001b[0m\n\u001b[1;32m--> 539\u001b[1;33m \u001b[1;33m\u001b[0m\u001b[0m\n\u001b[0m\u001b[0;32m    540\u001b[0m     \u001b[1;32mif\u001b[0m \u001b[0mall\u001b[0m\u001b[1;33m(\u001b[0m\u001b[0marray\u001b[0m\u001b[1;33m.\u001b[0m\u001b[0mshape\u001b[0m \u001b[1;33m==\u001b[0m \u001b[0mshape\u001b[0m \u001b[1;32mfor\u001b[0m \u001b[0marray\u001b[0m \u001b[1;32min\u001b[0m \u001b[0margs\u001b[0m\u001b[1;33m)\u001b[0m\u001b[1;33m:\u001b[0m\u001b[1;33m\u001b[0m\u001b[1;33m\u001b[0m\u001b[0m\n\u001b[0;32m    541\u001b[0m         \u001b[1;31m# Common case where nothing needs to be broadcasted.\u001b[0m\u001b[1;33m\u001b[0m\u001b[1;33m\u001b[0m\u001b[0m\n",
      "\u001b[1;32mD:\\Programy\\Anaconda\\envs\\tf_gpu\\lib\\site-packages\\numpy\\lib\\stride_tricks.py\u001b[0m in \u001b[0;36m_broadcast_shape\u001b[1;34m(*args)\u001b[0m\n\u001b[0;32m    419\u001b[0m     \u001b[1;31m# consistently\u001b[0m\u001b[1;33m\u001b[0m\u001b[1;33m\u001b[0m\u001b[0m\n\u001b[0;32m    420\u001b[0m     \u001b[0mb\u001b[0m \u001b[1;33m=\u001b[0m \u001b[0mnp\u001b[0m\u001b[1;33m.\u001b[0m\u001b[0mbroadcast\u001b[0m\u001b[1;33m(\u001b[0m\u001b[1;33m*\u001b[0m\u001b[0margs\u001b[0m\u001b[1;33m[\u001b[0m\u001b[1;33m:\u001b[0m\u001b[1;36m32\u001b[0m\u001b[1;33m]\u001b[0m\u001b[1;33m)\u001b[0m\u001b[1;33m\u001b[0m\u001b[1;33m\u001b[0m\u001b[0m\n\u001b[1;32m--> 421\u001b[1;33m     \u001b[1;31m# unfortunately, it cannot handle 32 or more arguments directly\u001b[0m\u001b[1;33m\u001b[0m\u001b[1;33m\u001b[0m\u001b[0m\n\u001b[0m\u001b[0;32m    422\u001b[0m     \u001b[1;32mfor\u001b[0m \u001b[0mpos\u001b[0m \u001b[1;32min\u001b[0m \u001b[0mrange\u001b[0m\u001b[1;33m(\u001b[0m\u001b[1;36m32\u001b[0m\u001b[1;33m,\u001b[0m \u001b[0mlen\u001b[0m\u001b[1;33m(\u001b[0m\u001b[0margs\u001b[0m\u001b[1;33m)\u001b[0m\u001b[1;33m,\u001b[0m \u001b[1;36m31\u001b[0m\u001b[1;33m)\u001b[0m\u001b[1;33m:\u001b[0m\u001b[1;33m\u001b[0m\u001b[1;33m\u001b[0m\u001b[0m\n\u001b[0;32m    423\u001b[0m         \u001b[1;31m# ironically, np.broadcast does not properly handle np.broadcast\u001b[0m\u001b[1;33m\u001b[0m\u001b[1;33m\u001b[0m\u001b[0m\n",
      "\u001b[1;31mValueError\u001b[0m: shape mismatch: objects cannot be broadcast to a single shape.  Mismatch is between arg 0 with shape (20,) and arg 2 with shape (20, 11, 11)."
     ]
    },
    {
     "data": {
      "image/png": "[encoded data removed]",
      "text/plain": [
       "<Figure size 576x684 with 1 Axes>"
      ]
     },
     "metadata": {
      "needs_background": "light"
     },
     "output_type": "display_data"
    }
   ],
   "source": [
    "shap.summary_plot(shap_values)"
   ]
  },
  {
   "cell_type": "code",
   "execution_count": 57,
   "metadata": {},
   "outputs": [
    {
     "data": {
      "text/plain": [
       "[array([[[-4.23651945e-05, -1.64505600e-05, -1.50626984e-05, ...,\n",
       "           6.25994217e-05, -4.82805945e-07,  1.01988213e-08],\n",
       "         [-2.37360786e-04, -7.84934891e-05, -4.27132363e-05, ...,\n",
       "           2.26508826e-04, -1.85835268e-06,  1.56612842e-07],\n",
       "         [ 5.77487110e-04,  4.84428892e-05,  2.94328056e-05, ...,\n",
       "          -3.27998860e-04, -7.61429703e-07, -4.91410674e-07],\n",
       "         ...,\n",
       "         [-1.21563894e-03,  3.98249802e-04,  4.95555985e-04, ...,\n",
       "           5.07140241e-04,  5.22848723e-06,  3.25082624e-07],\n",
       "         [ 6.80717826e-03, -2.40747235e-03, -3.28472373e-03, ...,\n",
       "          -3.00621521e-03, -3.25540241e-05, -1.96907564e-07],\n",
       "         [-1.94701534e-02,  5.99296438e-03,  9.53839812e-03, ...,\n",
       "           1.04165766e-02,  5.23181880e-05, -8.50637207e-07]],\n",
       " \n",
       "        [[-5.70603079e-05, -1.56545848e-05, -4.15868726e-06, ...,\n",
       "           2.11332572e-05, -6.80188137e-08,  1.75285351e-08],\n",
       "         [-4.10878944e-04, -5.05200769e-05,  6.26569431e-07, ...,\n",
       "          -1.12534108e-05,  5.91406774e-07,  1.49994889e-07],\n",
       "         [ 5.46947762e-04,  8.59804932e-05, -7.13482877e-05, ...,\n",
       "          -5.60445915e-05, -3.20440017e-06, -4.54968983e-07],\n",
       "         ...,\n",
       "         [-1.44001131e-03,  3.43559746e-04,  7.93913146e-04, ...,\n",
       "           5.95927704e-04,  6.88310229e-06,  2.95144247e-07],\n",
       "         [ 7.21609779e-03, -1.57731259e-03, -3.93473310e-03, ...,\n",
       "          -3.21968575e-03, -1.68914321e-05, -6.82923030e-07],\n",
       "         [-1.90994255e-02,  2.43472820e-03,  9.06095188e-03, ...,\n",
       "           9.44158807e-03,  1.01335590e-05, -1.63576738e-06]],\n",
       " \n",
       "        [[-8.34516904e-05, -6.85999976e-06, -8.27107942e-06, ...,\n",
       "           3.42003041e-05,  6.58456258e-08,  3.47234916e-08],\n",
       "         [-3.81831836e-04, -1.69554623e-05,  3.62582505e-05, ...,\n",
       "           5.49034630e-05,  2.04908497e-06,  2.89734061e-07],\n",
       "         [ 4.19036980e-04,  9.67866072e-05, -9.37735458e-05, ...,\n",
       "           1.24092039e-04, -8.97575956e-06, -7.94407015e-07],\n",
       "         ...,\n",
       "         [-1.38874131e-03,  2.50720768e-04,  8.10024212e-04, ...,\n",
       "           5.67729759e-04,  2.22117296e-06,  1.96454351e-07],\n",
       "         [ 6.58301217e-03, -3.05881491e-04, -3.04516498e-03, ...,\n",
       "          -2.94538448e-03,  4.67165000e-06,  5.44981106e-07],\n",
       "         [-1.65023748e-02, -2.70473887e-03,  1.22777722e-03, ...,\n",
       "           8.96300375e-03, -4.55206573e-05, -6.90465868e-06]],\n",
       " \n",
       "        ...,\n",
       " \n",
       "        [[-2.78575491e-04,  5.07932200e-05,  1.81241285e-05, ...,\n",
       "           3.42925559e-05, -6.56002612e-07, -6.95916754e-07],\n",
       "         [-1.30447210e-03,  2.85908754e-04,  8.19725392e-05, ...,\n",
       "           9.36231227e-05, -1.13955048e-05, -4.73540013e-06],\n",
       "         [ 1.67116523e-03, -4.58866794e-04, -1.04952996e-04, ...,\n",
       "          -2.35187836e-04,  2.63752518e-05,  9.16910540e-06],\n",
       "         ...,\n",
       "         [-4.93689498e-04,  5.87392133e-04, -2.57816166e-04, ...,\n",
       "          -9.75674542e-04, -2.01094099e-05,  1.25168435e-06],\n",
       "         [ 2.40152865e-03, -2.60044867e-03,  2.48793076e-04, ...,\n",
       "           5.69860172e-03,  6.67146742e-05, -1.94864388e-05],\n",
       "         [-6.96194358e-03,  6.84253266e-03,  8.65611131e-04, ...,\n",
       "          -1.21266162e-02, -1.14613089e-04,  9.59098979e-05]],\n",
       " \n",
       "        [[-2.71069875e-04,  8.10214988e-05,  1.12734015e-05, ...,\n",
       "           3.95506358e-05, -2.50352423e-06, -1.08089580e-06],\n",
       "         [-1.13323098e-03,  4.01284109e-04,  7.12949841e-05, ...,\n",
       "           2.14939733e-04, -1.84327928e-05, -6.46807439e-06],\n",
       "         [ 1.48593541e-03, -4.48609731e-04, -3.53780168e-04, ...,\n",
       "           5.81008644e-05,  4.39855648e-05,  1.33761168e-05],\n",
       "         ...,\n",
       "         [-3.94871749e-04,  5.23479364e-04, -1.36338756e-04, ...,\n",
       "          -8.04029987e-04, -1.06107736e-05,  3.90721061e-06],\n",
       "         [ 2.02875026e-03, -2.37330305e-03, -2.74993828e-04, ...,\n",
       "           4.39938949e-03, -4.75364232e-06, -3.47981695e-05],\n",
       "         [-7.95723870e-03,  6.76853675e-03,  1.78947998e-03, ...,\n",
       "          -1.29312743e-02,  5.50522018e-05,  1.24148166e-04]],\n",
       " \n",
       "        [[-2.14410538e-04,  8.91854070e-05,  1.30241706e-05, ...,\n",
       "           1.54407298e-05, -4.47625916e-06, -1.42116596e-06],\n",
       "         [-9.79808858e-04,  4.08728229e-04,  2.26221906e-04, ...,\n",
       "          -9.70761830e-05, -3.23464592e-05, -9.20497678e-06],\n",
       "         [ 1.47154299e-03, -6.01084263e-04, -4.34299494e-04, ...,\n",
       "           1.16851283e-04,  5.55590341e-05,  1.49738453e-05],\n",
       "         ...,\n",
       "         [-1.02329373e-04,  4.15005372e-04, -1.51660413e-06, ...,\n",
       "          -9.65975574e-04, -1.25729584e-05,  5.45620469e-06],\n",
       "         [ 1.25881995e-03, -2.05776328e-03, -6.13671262e-04, ...,\n",
       "           3.76499514e-03,  1.65294987e-05, -4.25301150e-05],\n",
       "         [-3.08826985e-03,  4.16611787e-03,  2.73297331e-03, ...,\n",
       "          -1.04093924e-02,  1.61138101e-04,  1.33550915e-04]]])]"
      ]
     },
     "execution_count": 57,
     "metadata": {},
     "output_type": "execute_result"
    }
   ],
   "source": [
    "shap_values"
   ]
  },
  {
   "cell_type": "code",
   "execution_count": null,
   "metadata": {},
   "outputs": [],
   "source": []
  }
 ],
 "metadata": {
  "interpreter": {
   "hash": "14a0229653987ca61a2fb4fcf28baab3bb6e12876bc336ac679ed1cfe1e45d08"
  },
  "kernelspec": {
   "display_name": "Python 3 (ipykernel)",
   "language": "python",
   "name": "python3"
  },
  "language_info": {
   "codemirror_mode": {
    "name": "ipython",
    "version": 3
   },
   "file_extension": ".py",
   "mimetype": "text/x-python",
   "name": "python",
   "nbconvert_exporter": "python",
   "pygments_lexer": "ipython3",
   "version": "3.9.7"
  }
 },
 "nbformat": 4,
 "nbformat_minor": 2
}
