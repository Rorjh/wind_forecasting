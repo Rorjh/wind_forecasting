{
 "cells": [
  {
   "cell_type": "code",
   "execution_count": 1,
   "metadata": {},
   "outputs": [],
   "source": [
    "import numpy as np\n",
    "import pandas as pd\n",
    "import matplotlib.pyplot as plt\n",
    "from math import sqrt\n",
    "\n",
    "from wind_dir_classifier import load_netcdf\n",
    "from models import data_prep, compile_and_fit, evaluate\n",
    "from keras.models import Sequential\n",
    "from keras.layers import Dense\n",
    "from keras.layers import Dropout\n",
    "from keras.layers import LSTM\n",
    "from keras.layers import Reshape\n",
    "from keras.layers import TimeDistributed\n",
    "from sklearn.metrics import f1_score"
   ]
  },
  {
   "cell_type": "code",
   "execution_count": null,
   "metadata": {},
   "outputs": [],
   "source": [
    "# loading needed data\n",
    "df = load_netcdf('C:/Studia/maciej-romanski/data/gaj_olawski')\n",
    "\n",
    "df['wd_10'] = np.arctan2(df['v10'], df['u10'])\n",
    "df['wd_100'] = np.arctan2(df['v100'], df['u100'])\n",
    "# df['wd_10'] = df['wd_10'].where(df['wd_10']>0, df['wd_10']+2*np.pi)\n",
    "# df['wd_100'] = df['wd_100'].where(df['wd_100']>0, df['wd_100']+2*np.pi)\n",
    "\n",
    "X_train, y_train, X_test, y_test, scaler_y = data_prep(df, 2014, 2020, 2021, 2021, 24, 1, y_featurename='wd_100')\n",
    "\n",
    "# defining models\n",
    "dense_regression = Sequential([\n",
    "    Dense(units=200, activation='relu', input_shape=(24, X_train.shape[2])),\n",
    "    Dropout(0.2),\n",
    "    Dense(units=200, activation='relu'),\n",
    "    Dropout(0.2),\n",
    "    Dense(units=200, activation='relu'),\n",
    "    Dropout(0.2),\n",
    "    Dense(1),\n",
    "    Reshape([1,24]),\n",
    "    Dense(1),\n",
    "    Reshape([1])\n",
    "])\n",
    "\n",
    "compile_and_fit(dense_regression, X_train, y_train)"
   ]
  },
  {
   "cell_type": "code",
   "execution_count": 8,
   "metadata": {},
   "outputs": [],
   "source": [
    "def evaluate_angular(model, X_test, y_test, scaler_y):\n",
    "    # make predictions\n",
    "    testPredictions = model.predict(X_test)\n",
    "\n",
    "    # invert scalling\n",
    "    testPredictions = scaler_y.inverse_transform(testPredictions)\n",
    "    testYTrue = scaler_y.inverse_transform(y_test)\n",
    "\n",
    "    # calculate RMSE\n",
    "    testScore = sqrt(np.square((testYTrue-testPredictions+np.pi)%(2*np.pi)-np.pi).mean())\n",
    "    \n",
    "    return testScore"
   ]
  },
  {
   "cell_type": "code",
   "execution_count": 9,
   "metadata": {},
   "outputs": [
    {
     "name": "stdout",
     "output_type": "stream",
     "text": [
      "273/273 [==============================] - 1s 2ms/step\n",
      "Classification RMSE = 0.43614169689874766 [rad] = 24.989078501972223 [deg]\n"
     ]
    }
   ],
   "source": [
    "# df = load_netcdf('C:/Studia/maciej-romanski/data/gaj_olawski')\n",
    "\n",
    "# df['wd_10'] = np.arctan2(df['v10'], df['u10'])\n",
    "# df['wd_100'] = np.arctan2(df['v100'], df['u100'])\n",
    "# # df['wd_10'] = df['wd_10'].where(df['wd_10']>0, df['wd_10']+2*np.pi)\n",
    "# # df['wd_100'] = df['wd_100'].where(df['wd_100']>0, df['wd_100']+2*np.pi)\n",
    "\n",
    "# X_train, y_train, X_test, y_test, scaler_y = data_prep(df, 2014, 2020, 2021, 2021, 24, 1, y_featurename='wd_100')\n",
    "y_test_original = y_test\n",
    "rmse = evaluate_angular(dense_regression, X_test, y_test, scaler_y)\n",
    "print(\"Classification RMSE = {} [rad] = {} [deg]\".format(rmse, rmse*180/np.pi))"
   ]
  },
  {
   "cell_type": "code",
   "execution_count": 2,
   "metadata": {},
   "outputs": [],
   "source": [
    "from wind_dir_classifier import data_prep, compile_and_fit\n",
    "from keras.utils import to_categorical"
   ]
  },
  {
   "cell_type": "code",
   "execution_count": 11,
   "metadata": {},
   "outputs": [
    {
     "name": "stderr",
     "output_type": "stream",
     "text": [
      "c:\\Studia\\maciej-romanski\\wind_dir_classifier.py:34: FutureWarning: The frame.append method is deprecated and will be removed from pandas in a future version. Use pandas.concat instead.\n",
      "  df = df.append(netCDF2df(path+'/'+filename),ignore_index=True)\n"
     ]
    },
    {
     "name": "stdout",
     "output_type": "stream",
     "text": [
      "Epoch 1/100\n",
      "1917/1917 [==============================] - 13s 6ms/step - loss: 0.8043 - accuracy: 0.7113 - val_loss: 0.6093 - val_accuracy: 0.8007\n",
      "Epoch 2/100\n",
      "1917/1917 [==============================] - 12s 6ms/step - loss: 0.5767 - accuracy: 0.8105 - val_loss: 0.6377 - val_accuracy: 0.7929\n",
      "Epoch 3/100\n",
      "1917/1917 [==============================] - 12s 6ms/step - loss: 0.5311 - accuracy: 0.8217 - val_loss: 0.5129 - val_accuracy: 0.8223\n",
      "Epoch 4/100\n",
      "1917/1917 [==============================] - 12s 6ms/step - loss: 0.5063 - accuracy: 0.8249 - val_loss: 0.5218 - val_accuracy: 0.8234\n",
      "Epoch 5/100\n",
      "1917/1917 [==============================] - 12s 6ms/step - loss: 0.4860 - accuracy: 0.8298 - val_loss: 0.4839 - val_accuracy: 0.8261\n",
      "Epoch 6/100\n",
      "1917/1917 [==============================] - 12s 6ms/step - loss: 0.4723 - accuracy: 0.8325 - val_loss: 0.5260 - val_accuracy: 0.8197\n",
      "Epoch 7/100\n",
      "1917/1917 [==============================] - 12s 6ms/step - loss: 0.4649 - accuracy: 0.8333 - val_loss: 0.5004 - val_accuracy: 0.8166\n",
      "Epoch 8/100\n",
      "1917/1917 [==============================] - 12s 6ms/step - loss: 0.4573 - accuracy: 0.8336 - val_loss: 0.4608 - val_accuracy: 0.8270\n",
      "Epoch 9/100\n",
      "1917/1917 [==============================] - 12s 6ms/step - loss: 0.4492 - accuracy: 0.8361 - val_loss: 0.4823 - val_accuracy: 0.8246\n",
      "Epoch 10/100\n",
      "1917/1917 [==============================] - 12s 6ms/step - loss: 0.4428 - accuracy: 0.8378 - val_loss: 0.4751 - val_accuracy: 0.8226\n",
      "Epoch 11/100\n",
      "1917/1917 [==============================] - 12s 6ms/step - loss: 0.4397 - accuracy: 0.8407 - val_loss: 0.4485 - val_accuracy: 0.8337\n",
      "Epoch 12/100\n",
      "1917/1917 [==============================] - 12s 6ms/step - loss: 0.4350 - accuracy: 0.8398 - val_loss: 0.4553 - val_accuracy: 0.8321\n",
      "Epoch 13/100\n",
      "1917/1917 [==============================] - 12s 6ms/step - loss: 0.4294 - accuracy: 0.8418 - val_loss: 0.4525 - val_accuracy: 0.8310\n",
      "Epoch 14/100\n",
      "1917/1917 [==============================] - 12s 6ms/step - loss: 0.4266 - accuracy: 0.8423 - val_loss: 0.4648 - val_accuracy: 0.8282\n",
      "Epoch 15/100\n",
      "1917/1917 [==============================] - 12s 6ms/step - loss: 0.4253 - accuracy: 0.8430 - val_loss: 0.4564 - val_accuracy: 0.8274\n"
     ]
    }
   ],
   "source": [
    "# loading needed data\n",
    "df = load_netcdf('C:/Studia/maciej-romanski/data/gaj_olawski')\n",
    "\n",
    "df['wd_10'] = np.arctan2(df['v10'], df['u10'])\n",
    "df['wd_100'] = np.arctan2(df['v100'], df['u100'])\n",
    "bins = np.linspace(-np.pi, np.pi, 9)\n",
    "labels = range(8)\n",
    "df['wd_100_cat'] = pd.cut(df['wd_100'], bins=bins, include_lowest=True, labels=labels)\n",
    "\n",
    "# df['wd_100_cat'] = df['wd_100_cat'].cat.add_categories(8)\n",
    "# df['wd_100_cat'] = df['wd_100_cat'].where(df['windspeed_100']>2.5, 8)\n",
    "\n",
    "df.drop(labels=['u10', 'v10', 'u100', 'v100'], axis=1, inplace = True)\n",
    "\n",
    "# processing data for models training and evaluating\n",
    "X_train, y_train, X_test, y_test = data_prep(df, trainFrom=2014, trainTo=2020, testFrom=2021, testTo=2021, lookback=24, toFuture=1, y_featurename='wd_100_cat')\n",
    "\n",
    "y_train = to_categorical(y_train)\n",
    "y_test = to_categorical(y_test)\n",
    "\n",
    "n_outputs = y_train.shape[1]\n",
    "\n",
    "# defining models\n",
    "dense = Sequential([\n",
    "    Dense(units=200, activation='relu', input_shape=(X_train.shape[1], X_train.shape[2])),\n",
    "    Dropout(0.2),\n",
    "    Dense(units=200, activation='relu'),\n",
    "    Dropout(0.2),\n",
    "    Dense(units=200, activation='relu'),\n",
    "    Dense(n_outputs),\n",
    "    Reshape([n_outputs*24]),\n",
    "    Dense(n_outputs, activation='softmax')\n",
    "])\n",
    "\n",
    "# training\n",
    "history = compile_and_fit(dense, X_train, y_train, X_test, y_test)"
   ]
  },
  {
   "cell_type": "code",
   "execution_count": 37,
   "metadata": {},
   "outputs": [
    {
     "name": "stdout",
     "output_type": "stream",
     "text": [
      "273/273 [==============================] - 1s 2ms/step\n",
      "Classification RMSE = 0.379181651290362 [rad] = 21.72550828773905 [deg]\n"
     ]
    }
   ],
   "source": [
    "y_prediction = dense.predict(X_test)\n",
    "y_prediction = np.argmax (y_prediction, axis = 1)\n",
    "y_true = np.argmax(y_test, axis=1)\n",
    "y_prediction = y_prediction*45-180\n",
    "y_true = y_true*45-180\n",
    "rmse = sqrt(np.square((y_true-y_prediction+180)%360-180).mean())\n",
    "print(\"Classification RMSE = {} [rad] = {} [deg]\".format(rmse/180*np.pi, rmse))"
   ]
  },
  {
   "cell_type": "code",
   "execution_count": 33,
   "metadata": {},
   "outputs": [
    {
     "name": "stdout",
     "output_type": "stream",
     "text": [
      "273/273 [==============================] - 1s 2ms/step\n"
     ]
    }
   ],
   "source": [
    "y_prediction = dense.predict(X_test)\n",
    "y_prediction = np.argmax (y_prediction, axis = 1)\n",
    "y_true = np.argmax(y_test, axis=1)\n",
    "# y_prediction = y_prediction*45-(180-180/8)\n",
    "# y_true = y_test_original * 180 / np.pi\n",
    "# rmse = sqrt(np.square((y_true-y_prediction+180)%360-180).mean())\n",
    "# print(\"Classification RMSE = {} [rad] = {} [deg]\".format(rmse/180*np.pi, rmse))"
   ]
  },
  {
   "cell_type": "code",
   "execution_count": 34,
   "metadata": {},
   "outputs": [
    {
     "data": {
      "text/plain": [
       "array([5, 5, 5, ..., 4, 4, 4], dtype=int64)"
      ]
     },
     "execution_count": 34,
     "metadata": {},
     "output_type": "execute_result"
    }
   ],
   "source": [
    "y_prediction"
   ]
  },
  {
   "cell_type": "code",
   "execution_count": 36,
   "metadata": {},
   "outputs": [
    {
     "data": {
      "text/plain": [
       "array([[0., 0., 0., ..., 1., 0., 0.],\n",
       "       [0., 0., 0., ..., 1., 0., 0.],\n",
       "       [0., 0., 0., ..., 1., 0., 0.],\n",
       "       ...,\n",
       "       [0., 0., 0., ..., 0., 0., 0.],\n",
       "       [0., 0., 0., ..., 0., 0., 0.],\n",
       "       [0., 0., 0., ..., 0., 0., 0.]], dtype=float32)"
      ]
     },
     "execution_count": 36,
     "metadata": {},
     "output_type": "execute_result"
    }
   ],
   "source": [
    "y_test"
   ]
  },
  {
   "cell_type": "code",
   "execution_count": 32,
   "metadata": {},
   "outputs": [
    {
     "data": {
      "text/plain": [
       "array([-180., -135.,  -90.,  -45.,    0.,   45.,   90.,  135.,  180.])"
      ]
     },
     "execution_count": 32,
     "metadata": {},
     "output_type": "execute_result"
    }
   ],
   "source": [
    "bins*180/np.pi"
   ]
  },
  {
   "cell_type": "code",
   "execution_count": 21,
   "metadata": {},
   "outputs": [
    {
     "data": {
      "text/plain": [
       "array([-157.5, -112.5,  -67.5,  -22.5,   22.5,   67.5,  112.5,  157.5])"
      ]
     },
     "execution_count": 21,
     "metadata": {},
     "output_type": "execute_result"
    }
   ],
   "source": [
    "a = np.arange(8)\n",
    "a*45-(180-180/8)"
   ]
  },
  {
   "cell_type": "code",
   "execution_count": 13,
   "metadata": {},
   "outputs": [
    {
     "data": {
      "text/plain": [
       "-20"
      ]
     },
     "execution_count": 13,
     "metadata": {},
     "output_type": "execute_result"
    }
   ],
   "source": [
    "y_true = 350\n",
    "y_prediction = 10\n",
    "(y_true-y_prediction+180)%360-180"
   ]
  },
  {
   "attachments": {},
   "cell_type": "markdown",
   "metadata": {},
   "source": [
    "# Number of classes study"
   ]
  },
  {
   "cell_type": "code",
   "execution_count": 4,
   "metadata": {},
   "outputs": [
    {
     "name": "stderr",
     "output_type": "stream",
     "text": [
      "c:\\Studia\\maciej-romanski\\wind_dir_classifier.py:34: FutureWarning: The frame.append method is deprecated and will be removed from pandas in a future version. Use pandas.concat instead.\n",
      "  df = df.append(netCDF2df(path+'/'+filename),ignore_index=True)\n"
     ]
    }
   ],
   "source": [
    "noClasses = 9\n",
    "# loading needed data\n",
    "df = load_netcdf('C:/Studia/maciej-romanski/data/gaj_olawski')\n",
    "\n",
    "df['wd_10'] = np.arctan2(df['v10'], df['u10'])\n",
    "df['wd_100'] = np.arctan2(df['v100'], df['u100'])\n",
    "bins = np.linspace(-np.pi, np.pi, noClasses)\n",
    "labels = range(noClasses-1)\n",
    "df['wd_100_cat'] = pd.cut(df['wd_100'], bins=bins, include_lowest=True, labels=labels)\n",
    "\n",
    "weak_wind_class_limit = df['windspeed_100'].sort_values().iloc[int(len(df)/noClasses)]\n",
    "\n",
    "df['wd_100_cat'] = df['wd_100_cat'].cat.add_categories(noClasses-1)\n",
    "df['wd_100_cat'] = df['wd_100_cat'].where(df['windspeed_100']>weak_wind_class_limit, noClasses-1)\n",
    "\n",
    "df.drop(labels=['u10', 'v10', 'u100', 'v100'], axis=1, inplace = True)"
   ]
  },
  {
   "cell_type": "code",
   "execution_count": 4,
   "metadata": {},
   "outputs": [],
   "source": [
    "def evaluate_model(noClasses):\n",
    "\n",
    "    # loading needed data\n",
    "    df = load_netcdf('C:/Studia/maciej-romanski/data/gaj_olawski')\n",
    "\n",
    "    df['wd_10'] = np.arctan2(df['v10'], df['u10'])\n",
    "    df['wd_100'] = np.arctan2(df['v100'], df['u100'])\n",
    "    bins = np.linspace(-np.pi, np.pi, noClasses)\n",
    "    labels = range(noClasses-1)\n",
    "    df['wd_100_cat'] = pd.cut(df['wd_100'], bins=bins, include_lowest=True, labels=labels)\n",
    "\n",
    "    weak_wind_class_limit = df['windspeed_100'].sort_values().iloc[int(len(df)/noClasses)]\n",
    "\n",
    "    df['wd_100_cat'] = df['wd_100_cat'].cat.add_categories(noClasses-1)\n",
    "    df['wd_100_cat'] = df['wd_100_cat'].where(df['windspeed_100']>weak_wind_class_limit, noClasses-1)\n",
    "\n",
    "    df.drop(labels=['u10', 'v10', 'u100', 'v100'], axis=1, inplace = True)\n",
    "\n",
    "    # processing data for models training and evaluating\n",
    "    X_train, y_train, X_test, y_test = data_prep(df, trainFrom=2014, trainTo=2020, testFrom=2021, testTo=2021, lookback=24, toFuture=1, y_featurename='wd_100_cat')\n",
    "    y_test_mod = y_test.flatten().astype('int64')\n",
    "    correction = ((np.bincount(y_test_mod)/len(y_test_mod))**2).sum()\n",
    "    print(\"Correction = {}\".format(correction))\n",
    "\n",
    "    y_train = to_categorical(y_train)\n",
    "    y_test = to_categorical(y_test)\n",
    "\n",
    "    n_outputs = y_train.shape[1]\n",
    "    print(y_train.shape)\n",
    "\n",
    "    # defining models\n",
    "    dense = Sequential([\n",
    "        Dense(units=200, activation='relu', input_shape=(X_train.shape[1], X_train.shape[2])),\n",
    "        Dropout(0.2),\n",
    "        Dense(units=200, activation='relu'),\n",
    "        Dropout(0.2),\n",
    "        Dense(units=200, activation='relu'),\n",
    "        Dense(n_outputs),\n",
    "        Reshape([n_outputs*24]),\n",
    "        Dense(n_outputs, activation='softmax')\n",
    "    ])\n",
    "\n",
    "    # training\n",
    "    history = compile_and_fit(dense, X_train, y_train, X_test, y_test)\n",
    "\n",
    "    _, accuracy = dense.evaluate(X_test, y_test, batch_size=32, verbose=0)\n",
    "\n",
    "    y_prediction = dense.predict(X_test)\n",
    "    y_prediction = np.argmax (y_prediction, axis = 1)\n",
    "    y_true = np.argmax(y_test, axis=1)\n",
    "    f_score = f1_score(y_true, y_prediction, average='weighted')\n",
    "    # y_prediction = y_prediction*45-(180-180/8)\n",
    "    # y_true = y_test_original * 180 / np.pi\n",
    "    # rmse = sqrt(np.square((y_true-y_prediction+180)%360-180).mean())\n",
    "    # print(\"Classification RMSE = {} [rad] = {} [deg]\".format(rmse/180*np.pi, rmse))\n",
    "\n",
    "    return accuracy, dense, correction, f_score\n",
    "    # return correction"
   ]
  },
  {
   "cell_type": "code",
   "execution_count": null,
   "metadata": {},
   "outputs": [],
   "source": [
    "accuracies = []\n",
    "noClasses = []\n",
    "models = []\n",
    "corrections = []\n",
    "f_scores = []\n",
    "\n",
    "for i in range(3, 34, 1):\n",
    "    corr = evaluate_model(i)\n",
    "    noClasses.append(i)\n",
    "    corrections.append(corr)"
   ]
  },
  {
   "cell_type": "code",
   "execution_count": 9,
   "metadata": {},
   "outputs": [
    {
     "data": {
      "text/plain": [
       "<matplotlib.legend.Legend at 0x2a4afc7e380>"
      ]
     },
     "execution_count": 9,
     "metadata": {},
     "output_type": "execute_result"
    },
    {
     "data": {
      "image/png": "[encoded data removed]",
      "text/plain": [
       "<Figure size 640x480 with 1 Axes>"
      ]
     },
     "metadata": {},
     "output_type": "display_data"
    }
   ],
   "source": [
    "plt.plot(noClasses, np.divide(1,noClasses))\n",
    "plt.plot(noClasses, corrections)\n",
    "plt.legend(['1/c', 'correction'])"
   ]
  },
  {
   "attachments": {},
   "cell_type": "markdown",
   "metadata": {},
   "source": [
    "Wykres poprawki vs 1/c \\\n",
    "Scatterplot f1 dla kazdej z klas"
   ]
  },
  {
   "cell_type": "code",
   "execution_count": 48,
   "metadata": {},
   "outputs": [
    {
     "name": "stderr",
     "output_type": "stream",
     "text": [
      "c:\\Studia\\maciej-romanski\\wind_dir_classifier.py:34: FutureWarning: The frame.append method is deprecated and will be removed from pandas in a future version. Use pandas.concat instead.\n",
      "  df = df.append(netCDF2df(path+'/'+filename),ignore_index=True)\n"
     ]
    },
    {
     "name": "stdout",
     "output_type": "stream",
     "text": [
      "Correction = 0.3335545996096342\n",
      "(61343, 3)\n",
      "Epoch 1/100\n",
      "1917/1917 [==============================] - 15s 8ms/step - loss: 0.3533 - accuracy: 0.8846 - val_loss: 0.2881 - val_accuracy: 0.9035\n",
      "Epoch 2/100\n",
      "1917/1917 [==============================] - 15s 8ms/step - loss: 0.2740 - accuracy: 0.9076 - val_loss: 0.2627 - val_accuracy: 0.9027\n",
      "Epoch 3/100\n",
      "1917/1917 [==============================] - 15s 8ms/step - loss: 0.2580 - accuracy: 0.9082 - val_loss: 0.2697 - val_accuracy: 0.9064\n",
      "Epoch 4/100\n",
      "1917/1917 [==============================] - 15s 8ms/step - loss: 0.2476 - accuracy: 0.9112 - val_loss: 0.2483 - val_accuracy: 0.9075\n",
      "Epoch 5/100\n",
      "1917/1917 [==============================] - 15s 8ms/step - loss: 0.2407 - accuracy: 0.9119 - val_loss: 0.2402 - val_accuracy: 0.9104\n",
      "Epoch 6/100\n",
      "1917/1917 [==============================] - 15s 8ms/step - loss: 0.2350 - accuracy: 0.9129 - val_loss: 0.2412 - val_accuracy: 0.9062\n",
      "Epoch 7/100\n",
      "1917/1917 [==============================] - 15s 8ms/step - loss: 0.2317 - accuracy: 0.9134 - val_loss: 0.2344 - val_accuracy: 0.9091\n",
      "Epoch 8/100\n",
      "1917/1917 [==============================] - 16s 8ms/step - loss: 0.2309 - accuracy: 0.9128 - val_loss: 0.2249 - val_accuracy: 0.9100\n",
      "Epoch 9/100\n",
      "1917/1917 [==============================] - 16s 8ms/step - loss: 0.2258 - accuracy: 0.9141 - val_loss: 0.2319 - val_accuracy: 0.9124\n",
      "Epoch 10/100\n",
      "1917/1917 [==============================] - 15s 8ms/step - loss: 0.2247 - accuracy: 0.9139 - val_loss: 0.2345 - val_accuracy: 0.9061\n",
      "Epoch 11/100\n",
      "1917/1917 [==============================] - 14s 7ms/step - loss: 0.2236 - accuracy: 0.9153 - val_loss: 0.2380 - val_accuracy: 0.9064\n",
      "Epoch 12/100\n",
      "1917/1917 [==============================] - 15s 8ms/step - loss: 0.2209 - accuracy: 0.9142 - val_loss: 0.2232 - val_accuracy: 0.9131\n",
      "Epoch 13/100\n",
      "1917/1917 [==============================] - 14s 8ms/step - loss: 0.2204 - accuracy: 0.9159 - val_loss: 0.2222 - val_accuracy: 0.9100\n",
      "Epoch 14/100\n",
      "1917/1917 [==============================] - 14s 8ms/step - loss: 0.2187 - accuracy: 0.9162 - val_loss: 0.2248 - val_accuracy: 0.9131\n",
      "Epoch 15/100\n",
      "1917/1917 [==============================] - 15s 8ms/step - loss: 0.2176 - accuracy: 0.9165 - val_loss: 0.2229 - val_accuracy: 0.9105\n",
      "Epoch 16/100\n",
      "1917/1917 [==============================] - 15s 8ms/step - loss: 0.2166 - accuracy: 0.9159 - val_loss: 0.2280 - val_accuracy: 0.9132\n",
      "Epoch 17/100\n",
      "1917/1917 [==============================] - 14s 7ms/step - loss: 0.2159 - accuracy: 0.9160 - val_loss: 0.2254 - val_accuracy: 0.9108\n",
      "273/273 [==============================] - 1s 2ms/step\n",
      "0.9108185172080994\n"
     ]
    },
    {
     "name": "stderr",
     "output_type": "stream",
     "text": [
      "c:\\Studia\\maciej-romanski\\wind_dir_classifier.py:34: FutureWarning: The frame.append method is deprecated and will be removed from pandas in a future version. Use pandas.concat instead.\n",
      "  df = df.append(netCDF2df(path+'/'+filename),ignore_index=True)\n"
     ]
    },
    {
     "name": "stdout",
     "output_type": "stream",
     "text": [
      "Correction = 0.2519105153359639\n",
      "(61343, 5)\n",
      "Epoch 1/100\n",
      "1917/1917 [==============================] - 14s 7ms/step - loss: 0.4945 - accuracy: 0.8438 - val_loss: 0.3975 - val_accuracy: 0.8825\n",
      "Epoch 2/100\n",
      "1917/1917 [==============================] - 14s 7ms/step - loss: 0.3623 - accuracy: 0.8888 - val_loss: 0.3474 - val_accuracy: 0.8879\n",
      "Epoch 3/100\n",
      "1917/1917 [==============================] - 15s 8ms/step - loss: 0.3337 - accuracy: 0.8912 - val_loss: 0.3101 - val_accuracy: 0.8930\n",
      "Epoch 4/100\n",
      "1917/1917 [==============================] - 14s 7ms/step - loss: 0.3174 - accuracy: 0.8939 - val_loss: 0.3046 - val_accuracy: 0.8911\n",
      "Epoch 5/100\n",
      "1917/1917 [==============================] - 13s 7ms/step - loss: 0.3107 - accuracy: 0.8946 - val_loss: 0.3020 - val_accuracy: 0.8924\n",
      "Epoch 6/100\n",
      "1917/1917 [==============================] - 13s 7ms/step - loss: 0.3010 - accuracy: 0.8949 - val_loss: 0.3067 - val_accuracy: 0.8951\n",
      "Epoch 7/100\n",
      "1917/1917 [==============================] - 13s 7ms/step - loss: 0.2962 - accuracy: 0.8961 - val_loss: 0.2809 - val_accuracy: 0.8962\n",
      "Epoch 8/100\n",
      "1917/1917 [==============================] - 14s 7ms/step - loss: 0.2912 - accuracy: 0.8968 - val_loss: 0.2895 - val_accuracy: 0.8939\n",
      "Epoch 9/100\n",
      "1917/1917 [==============================] - 14s 7ms/step - loss: 0.2862 - accuracy: 0.8977 - val_loss: 0.2919 - val_accuracy: 0.8963\n",
      "Epoch 10/100\n",
      "1917/1917 [==============================] - 14s 7ms/step - loss: 0.2835 - accuracy: 0.8984 - val_loss: 0.2840 - val_accuracy: 0.8935\n",
      "Epoch 11/100\n",
      "1917/1917 [==============================] - 14s 7ms/step - loss: 0.2802 - accuracy: 0.8980 - val_loss: 0.2771 - val_accuracy: 0.8995\n",
      "Epoch 12/100\n",
      "1917/1917 [==============================] - 14s 7ms/step - loss: 0.2767 - accuracy: 0.8989 - val_loss: 0.2757 - val_accuracy: 0.8971\n",
      "Epoch 13/100\n",
      "1917/1917 [==============================] - 14s 7ms/step - loss: 0.2762 - accuracy: 0.9000 - val_loss: 0.2780 - val_accuracy: 0.8985\n",
      "Epoch 14/100\n",
      "1917/1917 [==============================] - 14s 7ms/step - loss: 0.2754 - accuracy: 0.8993 - val_loss: 0.2788 - val_accuracy: 0.8931\n",
      "Epoch 15/100\n",
      "1917/1917 [==============================] - 15s 8ms/step - loss: 0.2722 - accuracy: 0.9007 - val_loss: 0.2799 - val_accuracy: 0.8977\n",
      "Epoch 16/100\n",
      "1917/1917 [==============================] - 13s 7ms/step - loss: 0.2718 - accuracy: 0.8998 - val_loss: 0.2701 - val_accuracy: 0.9023\n",
      "Epoch 17/100\n",
      "1917/1917 [==============================] - 14s 7ms/step - loss: 0.2702 - accuracy: 0.8990 - val_loss: 0.2677 - val_accuracy: 0.8990\n",
      "Epoch 18/100\n",
      "1917/1917 [==============================] - 14s 7ms/step - loss: 0.2683 - accuracy: 0.9012 - val_loss: 0.2754 - val_accuracy: 0.9039\n",
      "Epoch 19/100\n",
      "1917/1917 [==============================] - 14s 7ms/step - loss: 0.2668 - accuracy: 0.9016 - val_loss: 0.2664 - val_accuracy: 0.8986\n",
      "Epoch 20/100\n",
      "1917/1917 [==============================] - 14s 7ms/step - loss: 0.2672 - accuracy: 0.9006 - val_loss: 0.2593 - val_accuracy: 0.8995\n",
      "Epoch 21/100\n",
      "1917/1917 [==============================] - 15s 8ms/step - loss: 0.2622 - accuracy: 0.9029 - val_loss: 0.2694 - val_accuracy: 0.9007\n",
      "Epoch 22/100\n",
      "1917/1917 [==============================] - 15s 8ms/step - loss: 0.2652 - accuracy: 0.9017 - val_loss: 0.2728 - val_accuracy: 0.8972\n",
      "Epoch 23/100\n",
      "1917/1917 [==============================] - 15s 8ms/step - loss: 0.2647 - accuracy: 0.9029 - val_loss: 0.2600 - val_accuracy: 0.9021\n",
      "Epoch 24/100\n",
      "1917/1917 [==============================] - 15s 8ms/step - loss: 0.2610 - accuracy: 0.9026 - val_loss: 0.2625 - val_accuracy: 0.9007\n",
      "273/273 [==============================] - 1s 3ms/step\n",
      "0.9007441401481628\n"
     ]
    },
    {
     "name": "stderr",
     "output_type": "stream",
     "text": [
      "c:\\Studia\\maciej-romanski\\wind_dir_classifier.py:34: FutureWarning: The frame.append method is deprecated and will be removed from pandas in a future version. Use pandas.concat instead.\n",
      "  df = df.append(netCDF2df(path+'/'+filename),ignore_index=True)\n"
     ]
    },
    {
     "name": "stdout",
     "output_type": "stream",
     "text": [
      "Correction = 0.19267231518648864\n",
      "(61343, 7)\n",
      "Epoch 1/100\n",
      "1917/1917 [==============================] - 16s 8ms/step - loss: 0.6618 - accuracy: 0.7841 - val_loss: 0.4981 - val_accuracy: 0.8535\n",
      "Epoch 2/100\n",
      "1917/1917 [==============================] - 15s 8ms/step - loss: 0.4725 - accuracy: 0.8581 - val_loss: 0.4316 - val_accuracy: 0.8650\n",
      "Epoch 3/100\n",
      "1917/1917 [==============================] - 15s 8ms/step - loss: 0.4415 - accuracy: 0.8630 - val_loss: 0.4182 - val_accuracy: 0.8634\n",
      "Epoch 4/100\n",
      "1917/1917 [==============================] - 14s 7ms/step - loss: 0.4171 - accuracy: 0.8657 - val_loss: 0.4035 - val_accuracy: 0.8674\n",
      "Epoch 5/100\n",
      "1917/1917 [==============================] - 14s 8ms/step - loss: 0.4029 - accuracy: 0.8667 - val_loss: 0.4138 - val_accuracy: 0.8604\n",
      "Epoch 6/100\n",
      "1917/1917 [==============================] - 15s 8ms/step - loss: 0.3919 - accuracy: 0.8679 - val_loss: 0.3861 - val_accuracy: 0.8694\n",
      "Epoch 7/100\n",
      "1917/1917 [==============================] - 15s 8ms/step - loss: 0.3860 - accuracy: 0.8688 - val_loss: 0.4022 - val_accuracy: 0.8663\n",
      "Epoch 8/100\n",
      "1917/1917 [==============================] - 14s 8ms/step - loss: 0.3803 - accuracy: 0.8698 - val_loss: 0.3845 - val_accuracy: 0.8678\n",
      "Epoch 9/100\n",
      "1917/1917 [==============================] - 15s 8ms/step - loss: 0.3753 - accuracy: 0.8712 - val_loss: 0.3671 - val_accuracy: 0.8721\n",
      "Epoch 10/100\n",
      "1917/1917 [==============================] - 14s 7ms/step - loss: 0.3675 - accuracy: 0.8726 - val_loss: 0.3935 - val_accuracy: 0.8601\n",
      "Epoch 11/100\n",
      "1917/1917 [==============================] - 15s 8ms/step - loss: 0.3627 - accuracy: 0.8738 - val_loss: 0.3614 - val_accuracy: 0.8719\n",
      "Epoch 12/100\n",
      "1917/1917 [==============================] - 14s 8ms/step - loss: 0.3603 - accuracy: 0.8732 - val_loss: 0.3911 - val_accuracy: 0.8686\n",
      "Epoch 13/100\n",
      "1917/1917 [==============================] - 14s 7ms/step - loss: 0.3587 - accuracy: 0.8743 - val_loss: 0.3563 - val_accuracy: 0.8721\n",
      "Epoch 14/100\n",
      "1917/1917 [==============================] - 14s 7ms/step - loss: 0.3553 - accuracy: 0.8746 - val_loss: 0.3694 - val_accuracy: 0.8717\n",
      "Epoch 15/100\n",
      "1917/1917 [==============================] - 14s 7ms/step - loss: 0.3527 - accuracy: 0.8750 - val_loss: 0.3536 - val_accuracy: 0.8730\n",
      "Epoch 16/100\n",
      "1917/1917 [==============================] - 14s 7ms/step - loss: 0.3501 - accuracy: 0.8756 - val_loss: 0.3618 - val_accuracy: 0.8725\n",
      "Epoch 17/100\n",
      "1917/1917 [==============================] - 14s 7ms/step - loss: 0.3489 - accuracy: 0.8758 - val_loss: 0.3648 - val_accuracy: 0.8710\n",
      "Epoch 18/100\n",
      "1917/1917 [==============================] - 14s 8ms/step - loss: 0.3462 - accuracy: 0.8746 - val_loss: 0.3536 - val_accuracy: 0.8710\n",
      "Epoch 19/100\n",
      "1917/1917 [==============================] - 14s 7ms/step - loss: 0.3444 - accuracy: 0.8762 - val_loss: 0.3826 - val_accuracy: 0.8699\n",
      "Epoch 20/100\n",
      "1917/1917 [==============================] - 14s 7ms/step - loss: 0.3415 - accuracy: 0.8769 - val_loss: 0.3590 - val_accuracy: 0.8714\n",
      "Epoch 21/100\n",
      "1917/1917 [==============================] - 15s 8ms/step - loss: 0.3385 - accuracy: 0.8786 - val_loss: 0.3474 - val_accuracy: 0.8753\n",
      "Epoch 22/100\n",
      "1917/1917 [==============================] - 15s 8ms/step - loss: 0.3420 - accuracy: 0.8762 - val_loss: 0.3495 - val_accuracy: 0.8713\n",
      "Epoch 23/100\n",
      "1917/1917 [==============================] - 16s 8ms/step - loss: 0.3357 - accuracy: 0.8785 - val_loss: 0.3714 - val_accuracy: 0.8651\n",
      "Epoch 24/100\n",
      "1917/1917 [==============================] - 14s 7ms/step - loss: 0.3375 - accuracy: 0.8774 - val_loss: 0.3447 - val_accuracy: 0.8721\n",
      "Epoch 25/100\n",
      "1917/1917 [==============================] - 14s 7ms/step - loss: 0.3352 - accuracy: 0.8787 - val_loss: 0.3552 - val_accuracy: 0.8709\n",
      "Epoch 26/100\n",
      "1917/1917 [==============================] - 14s 7ms/step - loss: 0.3347 - accuracy: 0.8785 - val_loss: 0.3379 - val_accuracy: 0.8762\n",
      "Epoch 27/100\n",
      "1917/1917 [==============================] - 14s 7ms/step - loss: 0.3325 - accuracy: 0.8780 - val_loss: 0.3532 - val_accuracy: 0.8728\n",
      "Epoch 28/100\n",
      "1917/1917 [==============================] - 14s 7ms/step - loss: 0.3317 - accuracy: 0.8794 - val_loss: 0.3423 - val_accuracy: 0.8749\n",
      "Epoch 29/100\n",
      "1917/1917 [==============================] - 14s 7ms/step - loss: 0.3302 - accuracy: 0.8789 - val_loss: 0.3407 - val_accuracy: 0.8746\n",
      "Epoch 30/100\n",
      "1917/1917 [==============================] - 14s 7ms/step - loss: 0.3289 - accuracy: 0.8796 - val_loss: 0.3468 - val_accuracy: 0.8742\n",
      "273/273 [==============================] - 1s 3ms/step\n",
      "0.8741843104362488\n"
     ]
    },
    {
     "name": "stderr",
     "output_type": "stream",
     "text": [
      "c:\\Studia\\maciej-romanski\\wind_dir_classifier.py:34: FutureWarning: The frame.append method is deprecated and will be removed from pandas in a future version. Use pandas.concat instead.\n",
      "  df = df.append(netCDF2df(path+'/'+filename),ignore_index=True)\n"
     ]
    },
    {
     "name": "stdout",
     "output_type": "stream",
     "text": [
      "Correction = 0.14816594577538925\n",
      "(61343, 9)\n",
      "Epoch 1/100\n",
      "1917/1917 [==============================] - 15s 7ms/step - loss: 0.8325 - accuracy: 0.7117 - val_loss: 0.6621 - val_accuracy: 0.7928\n",
      "Epoch 2/100\n",
      "1917/1917 [==============================] - 13s 7ms/step - loss: 0.5993 - accuracy: 0.8141 - val_loss: 0.5739 - val_accuracy: 0.8252\n",
      "Epoch 3/100\n",
      "1917/1917 [==============================] - 13s 7ms/step - loss: 0.5547 - accuracy: 0.8261 - val_loss: 0.5504 - val_accuracy: 0.8263\n",
      "Epoch 4/100\n",
      "1917/1917 [==============================] - 13s 7ms/step - loss: 0.5247 - accuracy: 0.8317 - val_loss: 0.5085 - val_accuracy: 0.8309\n",
      "Epoch 5/100\n",
      "1917/1917 [==============================] - 13s 7ms/step - loss: 0.5071 - accuracy: 0.8332 - val_loss: 0.4884 - val_accuracy: 0.8355\n",
      "Epoch 6/100\n",
      "1917/1917 [==============================] - 13s 7ms/step - loss: 0.4913 - accuracy: 0.8342 - val_loss: 0.5203 - val_accuracy: 0.8306\n",
      "Epoch 7/100\n",
      "1917/1917 [==============================] - 13s 7ms/step - loss: 0.4823 - accuracy: 0.8343 - val_loss: 0.5101 - val_accuracy: 0.8279\n",
      "Epoch 8/100\n",
      "1917/1917 [==============================] - 13s 7ms/step - loss: 0.4707 - accuracy: 0.8394 - val_loss: 0.4696 - val_accuracy: 0.8362\n",
      "Epoch 9/100\n",
      "1917/1917 [==============================] - 13s 7ms/step - loss: 0.4669 - accuracy: 0.8397 - val_loss: 0.4677 - val_accuracy: 0.8369\n",
      "Epoch 10/100\n",
      "1917/1917 [==============================] - 13s 7ms/step - loss: 0.4601 - accuracy: 0.8395 - val_loss: 0.4623 - val_accuracy: 0.8381\n",
      "Epoch 11/100\n",
      "1917/1917 [==============================] - 13s 7ms/step - loss: 0.4528 - accuracy: 0.8414 - val_loss: 0.4607 - val_accuracy: 0.8405\n",
      "Epoch 12/100\n",
      "1917/1917 [==============================] - 13s 7ms/step - loss: 0.4477 - accuracy: 0.8423 - val_loss: 0.4547 - val_accuracy: 0.8393\n",
      "Epoch 13/100\n",
      "1917/1917 [==============================] - 13s 7ms/step - loss: 0.4433 - accuracy: 0.8425 - val_loss: 0.4690 - val_accuracy: 0.8346\n",
      "Epoch 14/100\n",
      "1917/1917 [==============================] - 13s 7ms/step - loss: 0.4410 - accuracy: 0.8432 - val_loss: 0.4586 - val_accuracy: 0.8351\n",
      "Epoch 15/100\n",
      "1917/1917 [==============================] - 13s 7ms/step - loss: 0.4406 - accuracy: 0.8408 - val_loss: 0.4429 - val_accuracy: 0.8396\n",
      "Epoch 16/100\n",
      "1917/1917 [==============================] - 13s 7ms/step - loss: 0.4321 - accuracy: 0.8465 - val_loss: 0.4542 - val_accuracy: 0.8398\n",
      "Epoch 17/100\n",
      "1917/1917 [==============================] - 13s 7ms/step - loss: 0.4293 - accuracy: 0.8473 - val_loss: 0.4462 - val_accuracy: 0.8402\n",
      "Epoch 18/100\n",
      "1917/1917 [==============================] - 13s 7ms/step - loss: 0.4254 - accuracy: 0.8472 - val_loss: 0.4382 - val_accuracy: 0.8394\n",
      "Epoch 19/100\n",
      "1917/1917 [==============================] - 13s 7ms/step - loss: 0.4248 - accuracy: 0.8476 - val_loss: 0.4431 - val_accuracy: 0.8338\n",
      "Epoch 20/100\n",
      "1917/1917 [==============================] - 13s 7ms/step - loss: 0.4223 - accuracy: 0.8479 - val_loss: 0.4500 - val_accuracy: 0.8412\n",
      "Epoch 21/100\n",
      "1917/1917 [==============================] - 13s 7ms/step - loss: 0.4206 - accuracy: 0.8484 - val_loss: 0.4352 - val_accuracy: 0.8410\n",
      "Epoch 22/100\n",
      "1917/1917 [==============================] - 13s 7ms/step - loss: 0.4157 - accuracy: 0.8487 - val_loss: 0.4285 - val_accuracy: 0.8412\n",
      "Epoch 23/100\n",
      "1917/1917 [==============================] - 13s 7ms/step - loss: 0.4155 - accuracy: 0.8494 - val_loss: 0.4374 - val_accuracy: 0.8389\n",
      "Epoch 24/100\n",
      "1917/1917 [==============================] - 13s 7ms/step - loss: 0.4139 - accuracy: 0.8505 - val_loss: 0.4280 - val_accuracy: 0.8418\n",
      "Epoch 25/100\n",
      "1917/1917 [==============================] - 13s 7ms/step - loss: 0.4084 - accuracy: 0.8504 - val_loss: 0.4304 - val_accuracy: 0.8403\n",
      "Epoch 26/100\n",
      "1917/1917 [==============================] - 13s 7ms/step - loss: 0.4084 - accuracy: 0.8506 - val_loss: 0.4268 - val_accuracy: 0.8412\n",
      "Epoch 27/100\n",
      "1917/1917 [==============================] - 14s 7ms/step - loss: 0.4085 - accuracy: 0.8517 - val_loss: 0.4304 - val_accuracy: 0.8422\n",
      "Epoch 28/100\n",
      "1917/1917 [==============================] - 13s 7ms/step - loss: 0.4063 - accuracy: 0.8508 - val_loss: 0.4186 - val_accuracy: 0.8444\n",
      "Epoch 29/100\n",
      "1917/1917 [==============================] - 14s 7ms/step - loss: 0.4037 - accuracy: 0.8512 - val_loss: 0.4291 - val_accuracy: 0.8384\n",
      "Epoch 30/100\n",
      "1917/1917 [==============================] - 13s 7ms/step - loss: 0.4035 - accuracy: 0.8518 - val_loss: 0.4314 - val_accuracy: 0.8395\n",
      "Epoch 31/100\n",
      "1917/1917 [==============================] - 13s 7ms/step - loss: 0.4039 - accuracy: 0.8515 - val_loss: 0.4189 - val_accuracy: 0.8416\n",
      "Epoch 32/100\n",
      "1917/1917 [==============================] - 13s 7ms/step - loss: 0.4008 - accuracy: 0.8527 - val_loss: 0.4330 - val_accuracy: 0.8401\n",
      "273/273 [==============================] - 1s 2ms/step\n",
      "0.8400686979293823\n"
     ]
    },
    {
     "name": "stderr",
     "output_type": "stream",
     "text": [
      "c:\\Studia\\maciej-romanski\\wind_dir_classifier.py:34: FutureWarning: The frame.append method is deprecated and will be removed from pandas in a future version. Use pandas.concat instead.\n",
      "  df = df.append(netCDF2df(path+'/'+filename),ignore_index=True)\n"
     ]
    },
    {
     "name": "stdout",
     "output_type": "stream",
     "text": [
      "Correction = 0.1226465977000723\n",
      "(61343, 11)\n",
      "Epoch 1/100\n",
      "1917/1917 [==============================] - 13s 7ms/step - loss: 1.0199 - accuracy: 0.6270 - val_loss: 0.8003 - val_accuracy: 0.7334\n",
      "Epoch 2/100\n",
      "1917/1917 [==============================] - 13s 7ms/step - loss: 0.7267 - accuracy: 0.7573 - val_loss: 0.6927 - val_accuracy: 0.7753\n",
      "Epoch 3/100\n",
      "1917/1917 [==============================] - 14s 7ms/step - loss: 0.6662 - accuracy: 0.7800 - val_loss: 0.6482 - val_accuracy: 0.7868\n",
      "Epoch 4/100\n",
      "1917/1917 [==============================] - 14s 7ms/step - loss: 0.6331 - accuracy: 0.7878 - val_loss: 0.6463 - val_accuracy: 0.7847\n",
      "Epoch 5/100\n",
      "1917/1917 [==============================] - 13s 7ms/step - loss: 0.6129 - accuracy: 0.7918 - val_loss: 0.6081 - val_accuracy: 0.7898\n",
      "Epoch 6/100\n",
      "1917/1917 [==============================] - 14s 7ms/step - loss: 0.5991 - accuracy: 0.7954 - val_loss: 0.5994 - val_accuracy: 0.7904\n",
      "Epoch 7/100\n",
      "1917/1917 [==============================] - 13s 7ms/step - loss: 0.5837 - accuracy: 0.7982 - val_loss: 0.5863 - val_accuracy: 0.7956\n",
      "Epoch 8/100\n",
      "1917/1917 [==============================] - 13s 7ms/step - loss: 0.5742 - accuracy: 0.7998 - val_loss: 0.5753 - val_accuracy: 0.7951\n",
      "Epoch 9/100\n",
      "1917/1917 [==============================] - 13s 7ms/step - loss: 0.5662 - accuracy: 0.8017 - val_loss: 0.6050 - val_accuracy: 0.7866\n",
      "Epoch 10/100\n",
      "1917/1917 [==============================] - 14s 7ms/step - loss: 0.5587 - accuracy: 0.8030 - val_loss: 0.5948 - val_accuracy: 0.7900\n",
      "Epoch 11/100\n",
      "1917/1917 [==============================] - 13s 7ms/step - loss: 0.5523 - accuracy: 0.8045 - val_loss: 0.5713 - val_accuracy: 0.7930\n",
      "Epoch 12/100\n",
      "1917/1917 [==============================] - 13s 7ms/step - loss: 0.5472 - accuracy: 0.8048 - val_loss: 0.5691 - val_accuracy: 0.7983\n",
      "Epoch 13/100\n",
      "1917/1917 [==============================] - 12s 6ms/step - loss: 0.5433 - accuracy: 0.8052 - val_loss: 0.5541 - val_accuracy: 0.8007\n",
      "Epoch 14/100\n",
      "1917/1917 [==============================] - 12s 6ms/step - loss: 0.5402 - accuracy: 0.8064 - val_loss: 0.5467 - val_accuracy: 0.7978\n",
      "Epoch 15/100\n",
      "1917/1917 [==============================] - 12s 6ms/step - loss: 0.5336 - accuracy: 0.8078 - val_loss: 0.5645 - val_accuracy: 0.7939\n",
      "Epoch 16/100\n",
      "1917/1917 [==============================] - 12s 6ms/step - loss: 0.5286 - accuracy: 0.8109 - val_loss: 0.5461 - val_accuracy: 0.8024\n",
      "Epoch 17/100\n",
      "1917/1917 [==============================] - 12s 6ms/step - loss: 0.5248 - accuracy: 0.8106 - val_loss: 0.5504 - val_accuracy: 0.7991\n",
      "Epoch 18/100\n",
      "1917/1917 [==============================] - 14s 7ms/step - loss: 0.5209 - accuracy: 0.8111 - val_loss: 0.5610 - val_accuracy: 0.7927\n",
      "Epoch 19/100\n",
      "1917/1917 [==============================] - 13s 7ms/step - loss: 0.5172 - accuracy: 0.8132 - val_loss: 0.5499 - val_accuracy: 0.7986\n",
      "Epoch 20/100\n",
      "1917/1917 [==============================] - 13s 7ms/step - loss: 0.5161 - accuracy: 0.8117 - val_loss: 0.5590 - val_accuracy: 0.7928\n",
      "273/273 [==============================] - 1s 2ms/step\n",
      "0.7927876114845276\n"
     ]
    },
    {
     "name": "stderr",
     "output_type": "stream",
     "text": [
      "c:\\Studia\\maciej-romanski\\wind_dir_classifier.py:34: FutureWarning: The frame.append method is deprecated and will be removed from pandas in a future version. Use pandas.concat instead.\n",
      "  df = df.append(netCDF2df(path+'/'+filename),ignore_index=True)\n"
     ]
    },
    {
     "name": "stdout",
     "output_type": "stream",
     "text": [
      "Correction = 0.10499765891909231\n",
      "(61343, 13)\n",
      "Epoch 1/100\n",
      "1917/1917 [==============================] - 14s 7ms/step - loss: 1.1737 - accuracy: 0.5547 - val_loss: 0.8941 - val_accuracy: 0.6950\n",
      "Epoch 2/100\n",
      "1917/1917 [==============================] - 13s 7ms/step - loss: 0.8487 - accuracy: 0.7027 - val_loss: 0.8394 - val_accuracy: 0.7154\n",
      "Epoch 3/100\n",
      "1917/1917 [==============================] - 13s 7ms/step - loss: 0.7783 - accuracy: 0.7314 - val_loss: 0.7504 - val_accuracy: 0.7492\n",
      "Epoch 4/100\n",
      "1917/1917 [==============================] - 12s 6ms/step - loss: 0.7377 - accuracy: 0.7441 - val_loss: 0.7209 - val_accuracy: 0.7566\n",
      "Epoch 5/100\n",
      "1917/1917 [==============================] - 13s 7ms/step - loss: 0.7144 - accuracy: 0.7527 - val_loss: 0.7117 - val_accuracy: 0.7564\n",
      "Epoch 6/100\n",
      "1917/1917 [==============================] - 13s 7ms/step - loss: 0.6991 - accuracy: 0.7545 - val_loss: 0.6895 - val_accuracy: 0.7590\n",
      "Epoch 7/100\n",
      "1917/1917 [==============================] - 14s 7ms/step - loss: 0.6812 - accuracy: 0.7581 - val_loss: 0.6598 - val_accuracy: 0.7703\n",
      "Epoch 8/100\n",
      "1917/1917 [==============================] - 13s 7ms/step - loss: 0.6757 - accuracy: 0.7598 - val_loss: 0.6538 - val_accuracy: 0.7702\n",
      "Epoch 9/100\n",
      "1917/1917 [==============================] - 12s 6ms/step - loss: 0.6602 - accuracy: 0.7629 - val_loss: 0.6590 - val_accuracy: 0.7678\n",
      "Epoch 10/100\n",
      "1917/1917 [==============================] - 12s 6ms/step - loss: 0.6537 - accuracy: 0.7659 - val_loss: 0.6464 - val_accuracy: 0.7714\n",
      "Epoch 11/100\n",
      "1917/1917 [==============================] - 12s 6ms/step - loss: 0.6478 - accuracy: 0.7666 - val_loss: 0.6594 - val_accuracy: 0.7653\n",
      "Epoch 12/100\n",
      "1917/1917 [==============================] - 12s 6ms/step - loss: 0.6430 - accuracy: 0.7675 - val_loss: 0.6266 - val_accuracy: 0.7749\n",
      "Epoch 13/100\n",
      "1917/1917 [==============================] - 13s 7ms/step - loss: 0.6356 - accuracy: 0.7692 - val_loss: 0.6321 - val_accuracy: 0.7712\n",
      "Epoch 14/100\n",
      "1917/1917 [==============================] - 12s 7ms/step - loss: 0.6285 - accuracy: 0.7722 - val_loss: 0.6190 - val_accuracy: 0.7744\n",
      "Epoch 15/100\n",
      "1917/1917 [==============================] - 12s 6ms/step - loss: 0.6272 - accuracy: 0.7731 - val_loss: 0.6224 - val_accuracy: 0.7734\n",
      "Epoch 16/100\n",
      "1917/1917 [==============================] - 12s 6ms/step - loss: 0.6186 - accuracy: 0.7741 - val_loss: 0.6126 - val_accuracy: 0.7780\n",
      "Epoch 17/100\n",
      "1917/1917 [==============================] - 12s 6ms/step - loss: 0.6180 - accuracy: 0.7740 - val_loss: 0.6413 - val_accuracy: 0.7671\n",
      "Epoch 18/100\n",
      "1917/1917 [==============================] - 12s 6ms/step - loss: 0.6160 - accuracy: 0.7745 - val_loss: 0.6217 - val_accuracy: 0.7758\n",
      "Epoch 19/100\n",
      "1917/1917 [==============================] - 12s 6ms/step - loss: 0.6132 - accuracy: 0.7751 - val_loss: 0.6467 - val_accuracy: 0.7608\n",
      "Epoch 20/100\n",
      "1917/1917 [==============================] - 14s 7ms/step - loss: 0.6069 - accuracy: 0.7757 - val_loss: 0.6307 - val_accuracy: 0.7670\n",
      "273/273 [==============================] - 1s 3ms/step\n",
      "0.7670291662216187\n"
     ]
    },
    {
     "name": "stderr",
     "output_type": "stream",
     "text": [
      "c:\\Studia\\maciej-romanski\\wind_dir_classifier.py:34: FutureWarning: The frame.append method is deprecated and will be removed from pandas in a future version. Use pandas.concat instead.\n",
      "  df = df.append(netCDF2df(path+'/'+filename),ignore_index=True)\n"
     ]
    },
    {
     "name": "stdout",
     "output_type": "stream",
     "text": [
      "Correction = 0.09137769908280088\n",
      "(61343, 15)\n",
      "Epoch 1/100\n",
      "1917/1917 [==============================] - 13s 7ms/step - loss: 1.3328 - accuracy: 0.4873 - val_loss: 1.0350 - val_accuracy: 0.6164\n",
      "Epoch 2/100\n",
      "1917/1917 [==============================] - 13s 7ms/step - loss: 0.9702 - accuracy: 0.6397 - val_loss: 0.8939 - val_accuracy: 0.6813\n",
      "Epoch 3/100\n",
      "1917/1917 [==============================] - 14s 7ms/step - loss: 0.8889 - accuracy: 0.6780 - val_loss: 0.8530 - val_accuracy: 0.6958\n",
      "Epoch 4/100\n",
      "1917/1917 [==============================] - 12s 6ms/step - loss: 0.8436 - accuracy: 0.6969 - val_loss: 0.8314 - val_accuracy: 0.7068\n",
      "Epoch 5/100\n",
      "1917/1917 [==============================] - 13s 7ms/step - loss: 0.8161 - accuracy: 0.7069 - val_loss: 0.7838 - val_accuracy: 0.7211\n",
      "Epoch 6/100\n",
      "1917/1917 [==============================] - 12s 6ms/step - loss: 0.7952 - accuracy: 0.7116 - val_loss: 0.7697 - val_accuracy: 0.7189\n",
      "Epoch 7/100\n",
      "1917/1917 [==============================] - 12s 6ms/step - loss: 0.7765 - accuracy: 0.7179 - val_loss: 0.7758 - val_accuracy: 0.7257\n",
      "Epoch 8/100\n",
      "1917/1917 [==============================] - 13s 7ms/step - loss: 0.7669 - accuracy: 0.7204 - val_loss: 0.7609 - val_accuracy: 0.7268\n",
      "Epoch 9/100\n",
      "1917/1917 [==============================] - 12s 6ms/step - loss: 0.7589 - accuracy: 0.7241 - val_loss: 0.7184 - val_accuracy: 0.7391\n",
      "Epoch 10/100\n",
      "1917/1917 [==============================] - 12s 7ms/step - loss: 0.7452 - accuracy: 0.7250 - val_loss: 0.7608 - val_accuracy: 0.7211\n",
      "Epoch 11/100\n",
      "1917/1917 [==============================] - 12s 6ms/step - loss: 0.7381 - accuracy: 0.7273 - val_loss: 0.7300 - val_accuracy: 0.7286\n",
      "Epoch 12/100\n",
      "1917/1917 [==============================] - 12s 6ms/step - loss: 0.7340 - accuracy: 0.7291 - val_loss: 0.6971 - val_accuracy: 0.7439\n",
      "Epoch 13/100\n",
      "1917/1917 [==============================] - 12s 6ms/step - loss: 0.7263 - accuracy: 0.7294 - val_loss: 0.7299 - val_accuracy: 0.7343\n",
      "Epoch 14/100\n",
      "1917/1917 [==============================] - 12s 6ms/step - loss: 0.7228 - accuracy: 0.7317 - val_loss: 0.7257 - val_accuracy: 0.7322\n",
      "Epoch 15/100\n",
      "1917/1917 [==============================] - 12s 6ms/step - loss: 0.7086 - accuracy: 0.7366 - val_loss: 0.7327 - val_accuracy: 0.7370\n",
      "Epoch 16/100\n",
      "1917/1917 [==============================] - 12s 6ms/step - loss: 0.7117 - accuracy: 0.7360 - val_loss: 0.7072 - val_accuracy: 0.7414\n",
      "273/273 [==============================] - 1s 2ms/step\n",
      "0.7413852214813232\n"
     ]
    }
   ],
   "source": [
    "accuracies = []\n",
    "noClasses = []\n",
    "models = []\n",
    "corrections = []\n",
    "f_scores = []\n",
    "\n",
    "for i in range(3, 17, 2):\n",
    "    acc, model, corr, f_score = evaluate_model(i)\n",
    "    print(acc)\n",
    "    models.append(model)\n",
    "    accuracies.append(acc)\n",
    "    noClasses.append(i)\n",
    "    corrections.append(corr)\n",
    "    f_scores.append(f_score)"
   ]
  },
  {
   "cell_type": "code",
   "execution_count": 49,
   "metadata": {},
   "outputs": [
    {
     "data": {
      "text/plain": [
       "Text(0, 0.5, 'Accuracy')"
      ]
     },
     "execution_count": 49,
     "metadata": {},
     "output_type": "execute_result"
    },
    {
     "data": {
      "image/png": "[encoded data removed]",
      "text/plain": [
       "<Figure size 640x480 with 1 Axes>"
      ]
     },
     "metadata": {},
     "output_type": "display_data"
    }
   ],
   "source": [
    "plt.plot(noClasses, accuracies)\n",
    "plt.xlabel(\"Number of classes\")\n",
    "plt.ylabel(\"Accuracy\")"
   ]
  },
  {
   "cell_type": "code",
   "execution_count": 50,
   "metadata": {},
   "outputs": [
    {
     "data": {
      "text/plain": [
       "Text(0, 0.5, 'Accuracy / correction')"
      ]
     },
     "execution_count": 50,
     "metadata": {},
     "output_type": "execute_result"
    },
    {
     "data": {
      "image/png": "[encoded data removed]",
      "text/plain": [
       "<Figure size 640x480 with 1 Axes>"
      ]
     },
     "metadata": {},
     "output_type": "display_data"
    }
   ],
   "source": [
    "plt.plot(noClasses, np.divide(accuracies, corrections))\n",
    "plt.xlabel(\"Number of classes\")\n",
    "plt.ylabel(\"Accuracy / correction\")"
   ]
  },
  {
   "cell_type": "code",
   "execution_count": 51,
   "metadata": {},
   "outputs": [
    {
     "data": {
      "text/plain": [
       "Text(0, 0.5, 'F1 score')"
      ]
     },
     "execution_count": 51,
     "metadata": {},
     "output_type": "execute_result"
    },
    {
     "data": {
      "image/png": "[encoded data removed]",
      "text/plain": [
       "<Figure size 640x480 with 1 Axes>"
      ]
     },
     "metadata": {},
     "output_type": "display_data"
    }
   ],
   "source": [
    "plt.plot(noClasses, f_scores)\n",
    "plt.xlabel(\"Number of classes\")\n",
    "plt.ylabel(\"F1 score\")"
   ]
  },
  {
   "attachments": {},
   "cell_type": "markdown",
   "metadata": {},
   "source": [
    "# Direction by speed components"
   ]
  },
  {
   "cell_type": "code",
   "execution_count": 59,
   "metadata": {},
   "outputs": [],
   "source": [
    "from sklearn.preprocessing import MinMaxScaler\n",
    "\n",
    "def datetimeToSignal(df):\n",
    "    date_time = pd.to_datetime(df.pop('Date Time'), infer_datetime_format=True)\n",
    "\n",
    "    def datetime_to_seconds(dates):\n",
    "        return (float)((dates - pd.Timestamp(\"1970-01-01\")) // pd.Timedelta('1s'))\n",
    "\n",
    "    timestamp_s = date_time.map(datetime_to_seconds)\n",
    "\n",
    "    day = 24*60*60\n",
    "    year = (365.2425)*day\n",
    "\n",
    "    df['Day sin'] = np.sin(timestamp_s * (2 * np.pi / day))\n",
    "    df['Day cos'] = np.cos(timestamp_s * (2 * np.pi / day))\n",
    "    df['Year sin'] = np.sin(timestamp_s * (2 * np.pi / year))\n",
    "    df['Year cos'] = np.cos(timestamp_s * (2 * np.pi / year))\n",
    "    \n",
    "    return df\n",
    "\n",
    "def to_supervised(data, n_input, n_out, y_index):\n",
    "    X, y1, y2 = list(), list(), list()\n",
    "    in_start = 0\n",
    "    # step over the entire history one time step at a time\n",
    "    for _ in range(len(data)):\n",
    "        # define the end of the input sequence\n",
    "        in_end = in_start + n_input\n",
    "        out_end = in_end + n_out\n",
    "        # ensure we have enough data for this instance\n",
    "        if out_end < len(data):\n",
    "            X.append(data[in_start:in_end, :])\n",
    "            y1.append(data[out_end-1, y_index[0]])\n",
    "            y2.append(data[out_end-1, y_index[1]])\n",
    "        # move along one time step\n",
    "        in_start += 1\n",
    "    return np.array(X), np.array([y1, y2]).reshape((len(y1),2))\n",
    "\n",
    "def data_prep(df, trainFrom, trainTo, testFrom, testTo, lookback, toFuture, y_featurename):\n",
    "    train = df[df['Date Time']>='{}-01-01'.format(trainFrom)]\n",
    "    train = train[train['Date Time']<'{}-01-01'.format(trainTo+1)]\n",
    "    test = df[df['Date Time']>='{}-01-01'.format(testFrom)]\n",
    "    test = test[test['Date Time']<'{}-01-01'.format(testTo+1)]\n",
    "\n",
    "    train = datetimeToSignal(train)\n",
    "    test = datetimeToSignal(test)\n",
    "    \n",
    "    y_indexes = [train.columns.get_loc(feature) for feature in y_featurename]\n",
    "    print(y_indexes)\n",
    "\n",
    "    values_train = train.values\n",
    "    values_test = test.values\n",
    "\n",
    "    # normalize features\n",
    "    scaler = MinMaxScaler(feature_range=(0, 1))\n",
    "    scaler.fit(values_train)\n",
    "    # scaler_y = MinMaxScaler(feature_range=(0, 1))\n",
    "    # scaler_y.fit(values_train[:,y_index].reshape(len(values_train),1))\n",
    "\n",
    "    values_train = scaler.transform(values_train)\n",
    "    values_test = scaler.transform(values_test)\n",
    "\n",
    "    X_train, y_train = to_supervised(values_train, n_input=lookback, n_out=toFuture, y_index=y_indexes)\n",
    "    X_test, y_test = to_supervised(values_test, n_input=lookback, n_out=toFuture, y_index=y_indexes)\n",
    "\n",
    "    return X_train, y_train, X_test, y_test"
   ]
  },
  {
   "cell_type": "code",
   "execution_count": 66,
   "metadata": {},
   "outputs": [
    {
     "name": "stderr",
     "output_type": "stream",
     "text": [
      "c:\\Studia\\maciej-romanski\\wind_dir_classifier.py:34: FutureWarning: The frame.append method is deprecated and will be removed from pandas in a future version. Use pandas.concat instead.\n",
      "  df = df.append(netCDF2df(path+'/'+filename),ignore_index=True)\n"
     ]
    },
    {
     "name": "stdout",
     "output_type": "stream",
     "text": [
      "[4, 5]\n",
      "Model: \"sequential_29\"\n",
      "_________________________________________________________________\n",
      " Layer (type)                Output Shape              Param #   \n",
      "=================================================================\n",
      " dense_154 (Dense)           (None, 24, 200)           3200      \n",
      "                                                                 \n",
      " dropout_82 (Dropout)        (None, 24, 200)           0         \n",
      "                                                                 \n",
      " dense_155 (Dense)           (None, 24, 200)           40200     \n",
      "                                                                 \n",
      " dropout_83 (Dropout)        (None, 24, 200)           0         \n",
      "                                                                 \n",
      " dense_156 (Dense)           (None, 24, 200)           40200     \n",
      "                                                                 \n",
      " dropout_84 (Dropout)        (None, 24, 200)           0         \n",
      "                                                                 \n",
      " dense_157 (Dense)           (None, 24, 2)             402       \n",
      "                                                                 \n",
      " reshape_37 (Reshape)        (None, 2, 24)             0         \n",
      "                                                                 \n",
      " dense_158 (Dense)           (None, 2, 1)              25        \n",
      "                                                                 \n",
      " reshape_38 (Reshape)        (None, 2)                 0         \n",
      "                                                                 \n",
      "=================================================================\n",
      "Total params: 84,027\n",
      "Trainable params: 84,027\n",
      "Non-trainable params: 0\n",
      "_________________________________________________________________\n",
      "Epoch 1/20\n",
      "1917/1917 [==============================] - 14s 7ms/step - loss: 0.0170\n",
      "Epoch 2/20\n",
      "1917/1917 [==============================] - 13s 7ms/step - loss: 0.0155\n",
      "Epoch 3/20\n",
      "1917/1917 [==============================] - 13s 7ms/step - loss: 0.0152\n",
      "Epoch 4/20\n",
      "1917/1917 [==============================] - 13s 7ms/step - loss: 0.0150\n",
      "Epoch 5/20\n",
      "1917/1917 [==============================] - 13s 7ms/step - loss: 0.0148\n",
      "Epoch 6/20\n",
      "1917/1917 [==============================] - 13s 7ms/step - loss: 0.0146\n",
      "Epoch 7/20\n",
      "1917/1917 [==============================] - 13s 7ms/step - loss: 0.0143\n",
      "Epoch 8/20\n",
      "1917/1917 [==============================] - 13s 7ms/step - loss: 0.0141\n",
      "Epoch 9/20\n",
      "1917/1917 [==============================] - 13s 7ms/step - loss: 0.0138\n",
      "Epoch 10/20\n",
      "1917/1917 [==============================] - 13s 7ms/step - loss: 0.0135\n",
      "Epoch 11/20\n",
      "1917/1917 [==============================] - 13s 7ms/step - loss: 0.0132\n",
      "Epoch 12/20\n",
      "1917/1917 [==============================] - 13s 7ms/step - loss: 0.0130\n",
      "Epoch 13/20\n",
      "1917/1917 [==============================] - 13s 7ms/step - loss: 0.0128\n",
      "Epoch 14/20\n",
      "1917/1917 [==============================] - 13s 7ms/step - loss: 0.0124\n",
      "Epoch 15/20\n",
      "1917/1917 [==============================] - 13s 7ms/step - loss: 0.0122\n",
      "Epoch 16/20\n",
      "1917/1917 [==============================] - 13s 7ms/step - loss: 0.0120\n",
      "Epoch 17/20\n",
      "1917/1917 [==============================] - 13s 7ms/step - loss: 0.0118\n",
      "Epoch 18/20\n",
      "1917/1917 [==============================] - 13s 7ms/step - loss: 0.0116\n",
      "Epoch 19/20\n",
      "1917/1917 [==============================] - 13s 7ms/step - loss: 0.0114\n",
      "Epoch 20/20\n",
      "1917/1917 [==============================] - 13s 7ms/step - loss: 0.0112\n"
     ]
    }
   ],
   "source": [
    "## loading needed data\n",
    "df = load_netcdf('C:/Studia/maciej-romanski/data/gaj_olawski')\n",
    "\n",
    "# df['wd_10'] = np.arctan2(df['v10'], df['u10'])\n",
    "# df['wd_100'] = np.arctan2(df['v100'], df['u100'])\n",
    "# df['wd_10'] = df['wd_10'].where(df['wd_10']>0, df['wd_10']+2*np.pi)\n",
    "# df['wd_100'] = df['wd_100'].where(df['wd_100']>0, df['wd_100']+2*np.pi)\n",
    "\n",
    "X_train, y_train, X_test, y_test = data_prep(df, 2014, 2020, 2021, 2021, 24, 1, y_featurename=['u10', 'v10'])\n",
    "\n",
    "# defining models\n",
    "dense_regression = Sequential([\n",
    "    Dense(units=200, activation='relu', input_shape=(24, X_train.shape[2])),\n",
    "    Dropout(0.2),\n",
    "    Dense(units=200, activation='relu'),\n",
    "    Dropout(0.2),\n",
    "    Dense(units=200, activation='relu'),\n",
    "    Dropout(0.2),\n",
    "    Dense(2),\n",
    "    Reshape([2,24]),\n",
    "    Dense(1),\n",
    "    Reshape([2]),\n",
    "])\n",
    "dense_regression.summary()\n",
    "\n",
    "compile_and_fit(dense_regression, X_train, y_train)"
   ]
  },
  {
   "cell_type": "code",
   "execution_count": 67,
   "metadata": {},
   "outputs": [
    {
     "name": "stdout",
     "output_type": "stream",
     "text": [
      "273/273 [==============================] - 1s 2ms/step\n"
     ]
    }
   ],
   "source": [
    "pred = dense_regression.predict(X_test)"
   ]
  },
  {
   "cell_type": "code",
   "execution_count": 68,
   "metadata": {},
   "outputs": [
    {
     "data": {
      "text/plain": [
       "array([[0.35957056, 0.51224065],\n",
       "       [0.3827056 , 0.5076072 ],\n",
       "       [0.40719822, 0.5023119 ],\n",
       "       ...,\n",
       "       [0.47142917, 0.44664478],\n",
       "       [0.4667135 , 0.44574577],\n",
       "       [0.45587963, 0.44036376]], dtype=float32)"
      ]
     },
     "execution_count": 68,
     "metadata": {},
     "output_type": "execute_result"
    }
   ],
   "source": [
    "pred"
   ]
  },
  {
   "cell_type": "code",
   "execution_count": 72,
   "metadata": {},
   "outputs": [
    {
     "data": {
      "text/plain": [
       "[<matplotlib.lines.Line2D at 0x2002b784430>]"
      ]
     },
     "execution_count": 72,
     "metadata": {},
     "output_type": "execute_result"
    },
    {
     "data": {
      "image/png": "[encoded data removed]",
      "text/plain": [
       "<Figure size 640x480 with 1 Axes>"
      ]
     },
     "metadata": {},
     "output_type": "display_data"
    }
   ],
   "source": [
    "plt.plot(pred[:500,0])\n",
    "plt.plot(y_test[:500,0])"
   ]
  },
  {
   "cell_type": "code",
   "execution_count": null,
   "metadata": {},
   "outputs": [],
   "source": []
  }
 ],
 "metadata": {
  "kernelspec": {
   "display_name": "venv",
   "language": "python",
   "name": "python3"
  },
  "language_info": {
   "codemirror_mode": {
    "name": "ipython",
    "version": 3
   },
   "file_extension": ".py",
   "mimetype": "text/x-python",
   "name": "python",
   "nbconvert_exporter": "python",
   "pygments_lexer": "ipython3",
   "version": "3.10.8"
  },
  "orig_nbformat": 4,
  "vscode": {
   "interpreter": {
    "hash": "b5cebe08acdd860ff96e3c3c17e7ada513656993e7f2922a4ca7ed92e4ea20c7"
   }
  }
 },
 "nbformat": 4,
 "nbformat_minor": 2
}
