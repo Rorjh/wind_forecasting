{
 "cells": [
  {
   "cell_type": "code",
   "execution_count": 5,
   "metadata": {},
   "outputs": [],
   "source": [
    "from pvlib import location\n",
    "from pvlib import irradiance\n",
    "import pandas as pd\n",
    "from matplotlib import pyplot as plt\n",
    "import numpy as np"
   ]
  },
  {
   "cell_type": "code",
   "execution_count": 4,
   "metadata": {},
   "outputs": [
    {
     "data": {
      "text/html": [
       "<div>\n",
       "<style scoped>\n",
       "    .dataframe tbody tr th:only-of-type {\n",
       "        vertical-align: middle;\n",
       "    }\n",
       "\n",
       "    .dataframe tbody tr th {\n",
       "        vertical-align: top;\n",
       "    }\n",
       "\n",
       "    .dataframe thead th {\n",
       "        text-align: right;\n",
       "    }\n",
       "</style>\n",
       "<table border=\"1\" class=\"dataframe\">\n",
       "  <thead>\n",
       "    <tr style=\"text-align: right;\">\n",
       "      <th></th>\n",
       "      <th>t2m</th>\n",
       "      <th>d2m</th>\n",
       "      <th>msl</th>\n",
       "      <th>tp</th>\n",
       "      <th>ssrd</th>\n",
       "      <th>Date Time</th>\n",
       "      <th>windspeed_10</th>\n",
       "      <th>windspeed_100</th>\n",
       "    </tr>\n",
       "  </thead>\n",
       "  <tbody>\n",
       "    <tr>\n",
       "      <th>0</th>\n",
       "      <td>262.714033</td>\n",
       "      <td>259.900872</td>\n",
       "      <td>103298.015394</td>\n",
       "      <td>0.000000</td>\n",
       "      <td>0.0</td>\n",
       "      <td>1950-01-01 00:00:00</td>\n",
       "      <td>2.489513</td>\n",
       "      <td>3.817744</td>\n",
       "    </tr>\n",
       "    <tr>\n",
       "      <th>1</th>\n",
       "      <td>260.695745</td>\n",
       "      <td>258.184905</td>\n",
       "      <td>103401.866726</td>\n",
       "      <td>0.000000</td>\n",
       "      <td>0.0</td>\n",
       "      <td>1950-01-01 01:00:00</td>\n",
       "      <td>1.837656</td>\n",
       "      <td>3.726080</td>\n",
       "    </tr>\n",
       "    <tr>\n",
       "      <th>2</th>\n",
       "      <td>260.195929</td>\n",
       "      <td>257.699157</td>\n",
       "      <td>103434.928307</td>\n",
       "      <td>0.000000</td>\n",
       "      <td>0.0</td>\n",
       "      <td>1950-01-01 02:00:00</td>\n",
       "      <td>2.599009</td>\n",
       "      <td>3.537574</td>\n",
       "    </tr>\n",
       "    <tr>\n",
       "      <th>3</th>\n",
       "      <td>259.350219</td>\n",
       "      <td>256.948053</td>\n",
       "      <td>103418.318422</td>\n",
       "      <td>0.000000</td>\n",
       "      <td>0.0</td>\n",
       "      <td>1950-01-01 03:00:00</td>\n",
       "      <td>2.534284</td>\n",
       "      <td>3.147813</td>\n",
       "    </tr>\n",
       "    <tr>\n",
       "      <th>4</th>\n",
       "      <td>258.763065</td>\n",
       "      <td>256.665744</td>\n",
       "      <td>103419.030274</td>\n",
       "      <td>0.000000</td>\n",
       "      <td>0.0</td>\n",
       "      <td>1950-01-01 04:00:00</td>\n",
       "      <td>2.623488</td>\n",
       "      <td>3.713367</td>\n",
       "    </tr>\n",
       "    <tr>\n",
       "      <th>...</th>\n",
       "      <td>...</td>\n",
       "      <td>...</td>\n",
       "      <td>...</td>\n",
       "      <td>...</td>\n",
       "      <td>...</td>\n",
       "      <td>...</td>\n",
       "      <td>...</td>\n",
       "      <td>...</td>\n",
       "    </tr>\n",
       "    <tr>\n",
       "      <th>622387</th>\n",
       "      <td>274.643734</td>\n",
       "      <td>274.172750</td>\n",
       "      <td>100974.912154</td>\n",
       "      <td>0.000006</td>\n",
       "      <td>0.0</td>\n",
       "      <td>2020-12-31 19:00:00</td>\n",
       "      <td>0.809895</td>\n",
       "      <td>1.810642</td>\n",
       "    </tr>\n",
       "    <tr>\n",
       "      <th>622388</th>\n",
       "      <td>274.719036</td>\n",
       "      <td>274.144356</td>\n",
       "      <td>100973.148236</td>\n",
       "      <td>0.000005</td>\n",
       "      <td>0.0</td>\n",
       "      <td>2020-12-31 20:00:00</td>\n",
       "      <td>0.868971</td>\n",
       "      <td>1.490224</td>\n",
       "    </tr>\n",
       "    <tr>\n",
       "      <th>622389</th>\n",
       "      <td>274.310849</td>\n",
       "      <td>273.971416</td>\n",
       "      <td>100980.668096</td>\n",
       "      <td>0.000003</td>\n",
       "      <td>0.0</td>\n",
       "      <td>2020-12-31 21:00:00</td>\n",
       "      <td>0.774225</td>\n",
       "      <td>1.328229</td>\n",
       "    </tr>\n",
       "    <tr>\n",
       "      <th>622390</th>\n",
       "      <td>273.450250</td>\n",
       "      <td>273.092257</td>\n",
       "      <td>100972.962561</td>\n",
       "      <td>0.000002</td>\n",
       "      <td>0.0</td>\n",
       "      <td>2020-12-31 22:00:00</td>\n",
       "      <td>0.649268</td>\n",
       "      <td>0.561700</td>\n",
       "    </tr>\n",
       "    <tr>\n",
       "      <th>622391</th>\n",
       "      <td>273.331320</td>\n",
       "      <td>273.086579</td>\n",
       "      <td>100962.471893</td>\n",
       "      <td>0.000001</td>\n",
       "      <td>0.0</td>\n",
       "      <td>2020-12-31 23:00:00</td>\n",
       "      <td>0.674605</td>\n",
       "      <td>0.693577</td>\n",
       "    </tr>\n",
       "  </tbody>\n",
       "</table>\n",
       "<p>622392 rows × 8 columns</p>\n",
       "</div>"
      ],
      "text/plain": [
       "               t2m         d2m            msl        tp  ssrd  \\\n",
       "0       262.714033  259.900872  103298.015394  0.000000   0.0   \n",
       "1       260.695745  258.184905  103401.866726  0.000000   0.0   \n",
       "2       260.195929  257.699157  103434.928307  0.000000   0.0   \n",
       "3       259.350219  256.948053  103418.318422  0.000000   0.0   \n",
       "4       258.763065  256.665744  103419.030274  0.000000   0.0   \n",
       "...            ...         ...            ...       ...   ...   \n",
       "622387  274.643734  274.172750  100974.912154  0.000006   0.0   \n",
       "622388  274.719036  274.144356  100973.148236  0.000005   0.0   \n",
       "622389  274.310849  273.971416  100980.668096  0.000003   0.0   \n",
       "622390  273.450250  273.092257  100972.962561  0.000002   0.0   \n",
       "622391  273.331320  273.086579  100962.471893  0.000001   0.0   \n",
       "\n",
       "                  Date Time  windspeed_10  windspeed_100  \n",
       "0       1950-01-01 00:00:00      2.489513       3.817744  \n",
       "1       1950-01-01 01:00:00      1.837656       3.726080  \n",
       "2       1950-01-01 02:00:00      2.599009       3.537574  \n",
       "3       1950-01-01 03:00:00      2.534284       3.147813  \n",
       "4       1950-01-01 04:00:00      2.623488       3.713367  \n",
       "...                     ...           ...            ...  \n",
       "622387  2020-12-31 19:00:00      0.809895       1.810642  \n",
       "622388  2020-12-31 20:00:00      0.868971       1.490224  \n",
       "622389  2020-12-31 21:00:00      0.774225       1.328229  \n",
       "622390  2020-12-31 22:00:00      0.649268       0.561700  \n",
       "622391  2020-12-31 23:00:00      0.674605       0.693577  \n",
       "\n",
       "[622392 rows x 8 columns]"
      ]
     },
     "execution_count": 4,
     "metadata": {},
     "output_type": "execute_result"
    }
   ],
   "source": [
    "df = pd.read_csv('data/data_single_loc.csv')\n",
    "df"
   ]
  },
  {
   "cell_type": "code",
   "execution_count": 20,
   "metadata": {},
   "outputs": [],
   "source": [
    "df['Date Time'] = pd.to_datetime(df['Date Time'])\n",
    "df['yyyy'] = pd.to_datetime(df['Date Time']).dt.year\n",
    "df['mm'] = pd.to_datetime(df['Date Time']).dt.month\n",
    "df['dd'] = pd.to_datetime(df['Date Time']).dt.day\n",
    "df['DOY'] = pd.to_datetime(df['Date Time']).dt.dayofyear\n",
    "df['hour'] = pd.to_datetime(df['Date Time']).dt.hour"
   ]
  },
  {
   "cell_type": "code",
   "execution_count": 22,
   "metadata": {},
   "outputs": [],
   "source": [
    "fract_year = 2*np.pi/365*(df['DOY']-1+(df['hour']-12)/24)"
   ]
  },
  {
   "cell_type": "code",
   "execution_count": 23,
   "metadata": {},
   "outputs": [],
   "source": [
    "EoT = 229.18*(0.000075+0.001868*np.cos(fract_year)-0.032077*np.sin(fract_year)-0.014615*np.cos(2*fract_year)-0.040849*np.sin(2*fract_year))"
   ]
  },
  {
   "cell_type": "code",
   "execution_count": 24,
   "metadata": {},
   "outputs": [],
   "source": [
    "offset = EoT + 4*(50-15*1)"
   ]
  },
  {
   "cell_type": "code",
   "execution_count": 25,
   "metadata": {},
   "outputs": [],
   "source": [
    "LST = df['hour'] + offset"
   ]
  },
  {
   "cell_type": "code",
   "execution_count": 26,
   "metadata": {},
   "outputs": [],
   "source": [
    "h = 15*(LST - 12)"
   ]
  },
  {
   "cell_type": "code",
   "execution_count": 27,
   "metadata": {},
   "outputs": [],
   "source": [
    "solar_decl = -23.44*np.cos(360/365*(df['DOY']-10))"
   ]
  },
  {
   "cell_type": "code",
   "execution_count": 45,
   "metadata": {},
   "outputs": [],
   "source": [
    "zenith_angle_cos = np.sin(50*np.pi/180)*np.sin(solar_decl)+np.cos(50*np.pi/180)*np.cos(solar_decl)*np.cos(h)"
   ]
  },
  {
   "cell_type": "code",
   "execution_count": 34,
   "metadata": {},
   "outputs": [],
   "source": [
    "def solar_flux_teor(zenith_angle_cos):\n",
    "    if zenith_angle_cos>0:\n",
    "        return 1.3608*1*zenith_angle_cos\n",
    "    else:\n",
    "        return 0\n",
    "\n",
    "df['toa_irradiation'] = zenith_angle_cos\n",
    "df['toa_irradiation'] = df['toa_irradiation'].apply(solar_flux_teor)"
   ]
  },
  {
   "cell_type": "code",
   "execution_count": 37,
   "metadata": {},
   "outputs": [
    {
     "data": {
      "text/plain": [
       "[<matplotlib.lines.Line2D at 0x20629e089a0>]"
      ]
     },
     "execution_count": 37,
     "metadata": {},
     "output_type": "execute_result"
    },
    {
     "data": {
      "image/png": "[encoded data removed]",
      "text/plain": [
       "<Figure size 432x288 with 1 Axes>"
      ]
     },
     "metadata": {
      "needs_background": "light"
     },
     "output_type": "display_data"
    }
   ],
   "source": [
    "plt.plot(df['toa_irradiation'][:24])\n",
    "plt.plot(df['ssrd'][:24])"
   ]
  },
  {
   "cell_type": "code",
   "execution_count": 47,
   "metadata": {},
   "outputs": [
    {
     "data": {
      "text/plain": [
       "[<matplotlib.lines.Line2D at 0x2062e2fe8e0>]"
      ]
     },
     "execution_count": 47,
     "metadata": {},
     "output_type": "execute_result"
    },
    {
     "data": {
      "image/png": "[encoded data removed]",
      "text/plain": [
       "<Figure size 432x288 with 1 Axes>"
      ]
     },
     "metadata": {
      "needs_background": "light"
     },
     "output_type": "display_data"
    }
   ],
   "source": [
    "plt.plot(h[:24])"
   ]
  },
  {
   "cell_type": "code",
   "execution_count": 9,
   "metadata": {},
   "outputs": [],
   "source": [
    "tz = 'CET'\n",
    "lat, lon = 20, 50\n",
    "\n",
    "site = location.Location(lat, lon, tz=tz)"
   ]
  },
  {
   "cell_type": "code",
   "execution_count": 10,
   "metadata": {},
   "outputs": [],
   "source": [
    "times = pd.date_range('06-01-2000', freq='10min', periods=6*24,\n",
    "                          tz=site.tz)"
   ]
  },
  {
   "cell_type": "code",
   "execution_count": 15,
   "metadata": {},
   "outputs": [
    {
     "data": {
      "text/plain": [
       "pandas.core.indexes.datetimes.DatetimeIndex"
      ]
     },
     "execution_count": 15,
     "metadata": {},
     "output_type": "execute_result"
    }
   ],
   "source": [
    "type(times)"
   ]
  },
  {
   "cell_type": "code",
   "execution_count": 11,
   "metadata": {},
   "outputs": [],
   "source": [
    "clearsky = site.get_clearsky(times)"
   ]
  },
  {
   "cell_type": "code",
   "execution_count": 12,
   "metadata": {},
   "outputs": [
    {
     "data": {
      "text/plain": [
       "<matplotlib.legend.Legend at 0x21c0e6e8940>"
      ]
     },
     "execution_count": 12,
     "metadata": {},
     "output_type": "execute_result"
    },
    {
     "data": {
      "image/png": "[encoded data removed]",
      "text/plain": [
       "<Figure size 432x288 with 1 Axes>"
      ]
     },
     "metadata": {
      "needs_background": "light"
     },
     "output_type": "display_data"
    }
   ],
   "source": [
    "plt.plot(clearsky['ghi'])\n",
    "plt.plot(clearsky['dni'])\n",
    "plt.plot(clearsky['dhi'])\n",
    "plt.legend(labels = ['ghi','dni','dhi'])"
   ]
  },
  {
   "cell_type": "code",
   "execution_count": 14,
   "metadata": {},
   "outputs": [
    {
     "data": {
      "text/plain": [
       "DatetimeIndex(['2000-06-01 00:00:00+02:00', '2000-06-01 00:10:00+02:00',\n",
       "               '2000-06-01 00:20:00+02:00', '2000-06-01 00:30:00+02:00',\n",
       "               '2000-06-01 00:40:00+02:00', '2000-06-01 00:50:00+02:00',\n",
       "               '2000-06-01 01:00:00+02:00', '2000-06-01 01:10:00+02:00',\n",
       "               '2000-06-01 01:20:00+02:00', '2000-06-01 01:30:00+02:00',\n",
       "               ...\n",
       "               '2000-06-01 22:20:00+02:00', '2000-06-01 22:30:00+02:00',\n",
       "               '2000-06-01 22:40:00+02:00', '2000-06-01 22:50:00+02:00',\n",
       "               '2000-06-01 23:00:00+02:00', '2000-06-01 23:10:00+02:00',\n",
       "               '2000-06-01 23:20:00+02:00', '2000-06-01 23:30:00+02:00',\n",
       "               '2000-06-01 23:40:00+02:00', '2000-06-01 23:50:00+02:00'],\n",
       "              dtype='datetime64[ns, CET]', length=144, freq='10T')"
      ]
     },
     "execution_count": 14,
     "metadata": {},
     "output_type": "execute_result"
    }
   ],
   "source": [
    "times"
   ]
  },
  {
   "cell_type": "code",
   "execution_count": null,
   "metadata": {},
   "outputs": [],
   "source": []
  }
 ],
 "metadata": {
  "interpreter": {
   "hash": "8420e14ffc0620a853927d0d4feb4e90de91bae3b0a41c2b35fe66c147e210b9"
  },
  "kernelspec": {
   "display_name": "Python 3.9.7 ('tf_gpu')",
   "language": "python",
   "name": "python3"
  },
  "language_info": {
   "codemirror_mode": {
    "name": "ipython",
    "version": 3
   },
   "file_extension": ".py",
   "mimetype": "text/x-python",
   "name": "python",
   "nbconvert_exporter": "python",
   "pygments_lexer": "ipython3",
   "version": "3.9.7"
  },
  "orig_nbformat": 4
 },
 "nbformat": 4,
 "nbformat_minor": 2
}
