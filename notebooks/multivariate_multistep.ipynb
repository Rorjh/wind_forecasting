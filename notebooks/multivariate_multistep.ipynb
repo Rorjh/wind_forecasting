{
 "cells": [
  {
   "cell_type": "code",
   "execution_count": 22,
   "metadata": {},
   "outputs": [],
   "source": [
    "import pandas as pd\n",
    "import numpy as np\n",
    "import matplotlib.pyplot as plt\n",
    "import random\n",
    "\n",
    "from math import sqrt\n",
    "from numpy import split\n",
    "from numpy import array\n",
    "from pandas import read_csv\n",
    "from sklearn.metrics import mean_squared_error\n",
    "from sklearn.preprocessing import MinMaxScaler\n",
    "from matplotlib import pyplot\n",
    "from tensorflow.keras.models import Sequential\n",
    "from tensorflow.keras.layers import Dense\n",
    "from tensorflow.keras.layers import Dropout\n",
    "from tensorflow.keras.layers import LSTM\n",
    "from tensorflow.keras.layers import RepeatVector\n",
    "from tensorflow.keras.layers import TimeDistributed\n",
    "from tensorflow.keras.layers import Reshape\n",
    "from tensorflow import keras"
   ]
  },
  {
   "cell_type": "markdown",
   "metadata": {},
   "source": [
    "# Przygotowanie danych:"
   ]
  },
  {
   "cell_type": "markdown",
   "metadata": {},
   "source": [
    "Wczytanie z pliku csv:"
   ]
  },
  {
   "cell_type": "code",
   "execution_count": 23,
   "metadata": {},
   "outputs": [
    {
     "data": {
      "text/html": [
       "<div>\n",
       "<style scoped>\n",
       "    .dataframe tbody tr th:only-of-type {\n",
       "        vertical-align: middle;\n",
       "    }\n",
       "\n",
       "    .dataframe tbody tr th {\n",
       "        vertical-align: top;\n",
       "    }\n",
       "\n",
       "    .dataframe thead th {\n",
       "        text-align: right;\n",
       "    }\n",
       "</style>\n",
       "<table border=\"1\" class=\"dataframe\">\n",
       "  <thead>\n",
       "    <tr style=\"text-align: right;\">\n",
       "      <th></th>\n",
       "      <th>t2m</th>\n",
       "      <th>d2m</th>\n",
       "      <th>msl</th>\n",
       "      <th>tp</th>\n",
       "      <th>ssrd</th>\n",
       "      <th>Date Time</th>\n",
       "      <th>windspeed_10</th>\n",
       "      <th>windspeed_100</th>\n",
       "    </tr>\n",
       "  </thead>\n",
       "  <tbody>\n",
       "    <tr>\n",
       "      <th>0</th>\n",
       "      <td>262.714033</td>\n",
       "      <td>259.900872</td>\n",
       "      <td>103298.015394</td>\n",
       "      <td>0.000000</td>\n",
       "      <td>0.0</td>\n",
       "      <td>1950-01-01 00:00:00</td>\n",
       "      <td>2.489513</td>\n",
       "      <td>3.817744</td>\n",
       "    </tr>\n",
       "    <tr>\n",
       "      <th>1</th>\n",
       "      <td>260.695745</td>\n",
       "      <td>258.184905</td>\n",
       "      <td>103401.866726</td>\n",
       "      <td>0.000000</td>\n",
       "      <td>0.0</td>\n",
       "      <td>1950-01-01 01:00:00</td>\n",
       "      <td>1.837656</td>\n",
       "      <td>3.726080</td>\n",
       "    </tr>\n",
       "    <tr>\n",
       "      <th>2</th>\n",
       "      <td>260.195929</td>\n",
       "      <td>257.699157</td>\n",
       "      <td>103434.928307</td>\n",
       "      <td>0.000000</td>\n",
       "      <td>0.0</td>\n",
       "      <td>1950-01-01 02:00:00</td>\n",
       "      <td>2.599009</td>\n",
       "      <td>3.537574</td>\n",
       "    </tr>\n",
       "    <tr>\n",
       "      <th>3</th>\n",
       "      <td>259.350219</td>\n",
       "      <td>256.948053</td>\n",
       "      <td>103418.318422</td>\n",
       "      <td>0.000000</td>\n",
       "      <td>0.0</td>\n",
       "      <td>1950-01-01 03:00:00</td>\n",
       "      <td>2.534284</td>\n",
       "      <td>3.147813</td>\n",
       "    </tr>\n",
       "    <tr>\n",
       "      <th>4</th>\n",
       "      <td>258.763065</td>\n",
       "      <td>256.665744</td>\n",
       "      <td>103419.030274</td>\n",
       "      <td>0.000000</td>\n",
       "      <td>0.0</td>\n",
       "      <td>1950-01-01 04:00:00</td>\n",
       "      <td>2.623488</td>\n",
       "      <td>3.713367</td>\n",
       "    </tr>\n",
       "    <tr>\n",
       "      <th>...</th>\n",
       "      <td>...</td>\n",
       "      <td>...</td>\n",
       "      <td>...</td>\n",
       "      <td>...</td>\n",
       "      <td>...</td>\n",
       "      <td>...</td>\n",
       "      <td>...</td>\n",
       "      <td>...</td>\n",
       "    </tr>\n",
       "    <tr>\n",
       "      <th>622387</th>\n",
       "      <td>274.643734</td>\n",
       "      <td>274.172750</td>\n",
       "      <td>100974.912154</td>\n",
       "      <td>0.000006</td>\n",
       "      <td>0.0</td>\n",
       "      <td>2020-12-31 19:00:00</td>\n",
       "      <td>0.809895</td>\n",
       "      <td>1.810642</td>\n",
       "    </tr>\n",
       "    <tr>\n",
       "      <th>622388</th>\n",
       "      <td>274.719036</td>\n",
       "      <td>274.144356</td>\n",
       "      <td>100973.148236</td>\n",
       "      <td>0.000005</td>\n",
       "      <td>0.0</td>\n",
       "      <td>2020-12-31 20:00:00</td>\n",
       "      <td>0.868971</td>\n",
       "      <td>1.490224</td>\n",
       "    </tr>\n",
       "    <tr>\n",
       "      <th>622389</th>\n",
       "      <td>274.310849</td>\n",
       "      <td>273.971416</td>\n",
       "      <td>100980.668096</td>\n",
       "      <td>0.000003</td>\n",
       "      <td>0.0</td>\n",
       "      <td>2020-12-31 21:00:00</td>\n",
       "      <td>0.774225</td>\n",
       "      <td>1.328229</td>\n",
       "    </tr>\n",
       "    <tr>\n",
       "      <th>622390</th>\n",
       "      <td>273.450250</td>\n",
       "      <td>273.092257</td>\n",
       "      <td>100972.962561</td>\n",
       "      <td>0.000002</td>\n",
       "      <td>0.0</td>\n",
       "      <td>2020-12-31 22:00:00</td>\n",
       "      <td>0.649268</td>\n",
       "      <td>0.561700</td>\n",
       "    </tr>\n",
       "    <tr>\n",
       "      <th>622391</th>\n",
       "      <td>273.331320</td>\n",
       "      <td>273.086579</td>\n",
       "      <td>100962.471893</td>\n",
       "      <td>0.000001</td>\n",
       "      <td>0.0</td>\n",
       "      <td>2020-12-31 23:00:00</td>\n",
       "      <td>0.674605</td>\n",
       "      <td>0.693577</td>\n",
       "    </tr>\n",
       "  </tbody>\n",
       "</table>\n",
       "<p>622392 rows × 8 columns</p>\n",
       "</div>"
      ],
      "text/plain": [
       "               t2m         d2m            msl        tp  ssrd  \\\n",
       "0       262.714033  259.900872  103298.015394  0.000000   0.0   \n",
       "1       260.695745  258.184905  103401.866726  0.000000   0.0   \n",
       "2       260.195929  257.699157  103434.928307  0.000000   0.0   \n",
       "3       259.350219  256.948053  103418.318422  0.000000   0.0   \n",
       "4       258.763065  256.665744  103419.030274  0.000000   0.0   \n",
       "...            ...         ...            ...       ...   ...   \n",
       "622387  274.643734  274.172750  100974.912154  0.000006   0.0   \n",
       "622388  274.719036  274.144356  100973.148236  0.000005   0.0   \n",
       "622389  274.310849  273.971416  100980.668096  0.000003   0.0   \n",
       "622390  273.450250  273.092257  100972.962561  0.000002   0.0   \n",
       "622391  273.331320  273.086579  100962.471893  0.000001   0.0   \n",
       "\n",
       "                  Date Time  windspeed_10  windspeed_100  \n",
       "0       1950-01-01 00:00:00      2.489513       3.817744  \n",
       "1       1950-01-01 01:00:00      1.837656       3.726080  \n",
       "2       1950-01-01 02:00:00      2.599009       3.537574  \n",
       "3       1950-01-01 03:00:00      2.534284       3.147813  \n",
       "4       1950-01-01 04:00:00      2.623488       3.713367  \n",
       "...                     ...           ...            ...  \n",
       "622387  2020-12-31 19:00:00      0.809895       1.810642  \n",
       "622388  2020-12-31 20:00:00      0.868971       1.490224  \n",
       "622389  2020-12-31 21:00:00      0.774225       1.328229  \n",
       "622390  2020-12-31 22:00:00      0.649268       0.561700  \n",
       "622391  2020-12-31 23:00:00      0.674605       0.693577  \n",
       "\n",
       "[622392 rows x 8 columns]"
      ]
     },
     "execution_count": 23,
     "metadata": {},
     "output_type": "execute_result"
    }
   ],
   "source": [
    "df = read_csv('data/data_single_loc.csv')\n",
    "df"
   ]
  },
  {
   "cell_type": "markdown",
   "metadata": {},
   "source": [
    "## Wybór zestawu uczacego i testowego:"
   ]
  },
  {
   "cell_type": "code",
   "execution_count": 24,
   "metadata": {},
   "outputs": [],
   "source": [
    "train = df[df['Date Time']>='1994-01-01']\n",
    "train = train[train['Date Time']<'2002-01-01']\n",
    "\n",
    "test = df[df['Date Time']>='2002-01-01']\n",
    "test = test[test['Date Time']<'2003-01-01']"
   ]
  },
  {
   "cell_type": "markdown",
   "metadata": {},
   "source": [
    "## Zamiana daty na sygnał"
   ]
  },
  {
   "cell_type": "code",
   "execution_count": 25,
   "metadata": {},
   "outputs": [],
   "source": [
    "def datetimeToSignal(df):\n",
    "    date_time = pd.to_datetime(df.pop('Date Time'), infer_datetime_format=True)\n",
    "\n",
    "    def datetime_to_seconds(dates):\n",
    "        return (float)((dates - pd.Timestamp(\"1970-01-01\")) // pd.Timedelta('1s'))\n",
    "\n",
    "    timestamp_s = date_time.map(datetime_to_seconds)\n",
    "\n",
    "    day = 24*60*60\n",
    "    year = (365.2425)*day\n",
    "\n",
    "    df['Day sin'] = np.sin(timestamp_s * (2 * np.pi / day))\n",
    "    df['Day cos'] = np.cos(timestamp_s * (2 * np.pi / day))\n",
    "    df['Year sin'] = np.sin(timestamp_s * (2 * np.pi / year))\n",
    "    df['Year cos'] = np.cos(timestamp_s * (2 * np.pi / year))\n",
    "    \n",
    "    return df"
   ]
  },
  {
   "cell_type": "code",
   "execution_count": 26,
   "metadata": {},
   "outputs": [
    {
     "data": {
      "text/plain": [
       "Text(0.5, 1.0, 'Time of day signal')"
      ]
     },
     "execution_count": 26,
     "metadata": {},
     "output_type": "execute_result"
    },
    {
     "data": {
      "image/png": "[encoded data removed]",
      "text/plain": [
       "<Figure size 432x288 with 1 Axes>"
      ]
     },
     "metadata": {
      "needs_background": "light"
     },
     "output_type": "display_data"
    }
   ],
   "source": [
    "train = datetimeToSignal(train)\n",
    "test = datetimeToSignal(test)\n",
    "\n",
    "plt.plot(np.array(train['Day sin'])[:25])\n",
    "plt.plot(np.array(train['Day cos'])[:25])\n",
    "plt.xlabel('Time [h]')\n",
    "plt.title('Time of day signal')"
   ]
  },
  {
   "cell_type": "code",
   "execution_count": 27,
   "metadata": {},
   "outputs": [
    {
     "data": {
      "text/html": [
       "<div>\n",
       "<style scoped>\n",
       "    .dataframe tbody tr th:only-of-type {\n",
       "        vertical-align: middle;\n",
       "    }\n",
       "\n",
       "    .dataframe tbody tr th {\n",
       "        vertical-align: top;\n",
       "    }\n",
       "\n",
       "    .dataframe thead th {\n",
       "        text-align: right;\n",
       "    }\n",
       "</style>\n",
       "<table border=\"1\" class=\"dataframe\">\n",
       "  <thead>\n",
       "    <tr style=\"text-align: right;\">\n",
       "      <th></th>\n",
       "      <th>t2m</th>\n",
       "      <th>d2m</th>\n",
       "      <th>msl</th>\n",
       "      <th>tp</th>\n",
       "      <th>ssrd</th>\n",
       "      <th>windspeed_10</th>\n",
       "      <th>windspeed_100</th>\n",
       "      <th>Day sin</th>\n",
       "      <th>Day cos</th>\n",
       "      <th>Year sin</th>\n",
       "      <th>Year cos</th>\n",
       "    </tr>\n",
       "  </thead>\n",
       "  <tbody>\n",
       "    <tr>\n",
       "      <th>385704</th>\n",
       "      <td>276.591343</td>\n",
       "      <td>273.596620</td>\n",
       "      <td>100506.632367</td>\n",
       "      <td>1.932132e-06</td>\n",
       "      <td>0.0</td>\n",
       "      <td>2.114060</td>\n",
       "      <td>5.361759</td>\n",
       "      <td>-1.194924e-12</td>\n",
       "      <td>1.000000</td>\n",
       "      <td>0.003096</td>\n",
       "      <td>0.999995</td>\n",
       "    </tr>\n",
       "    <tr>\n",
       "      <th>385705</th>\n",
       "      <td>276.239701</td>\n",
       "      <td>273.369400</td>\n",
       "      <td>100396.343001</td>\n",
       "      <td>4.458765e-07</td>\n",
       "      <td>0.0</td>\n",
       "      <td>2.405930</td>\n",
       "      <td>5.321845</td>\n",
       "      <td>2.588190e-01</td>\n",
       "      <td>0.965926</td>\n",
       "      <td>0.003813</td>\n",
       "      <td>0.999993</td>\n",
       "    </tr>\n",
       "    <tr>\n",
       "      <th>385706</th>\n",
       "      <td>276.160200</td>\n",
       "      <td>273.007005</td>\n",
       "      <td>100208.231961</td>\n",
       "      <td>-4.336809e-19</td>\n",
       "      <td>0.0</td>\n",
       "      <td>2.965422</td>\n",
       "      <td>6.456552</td>\n",
       "      <td>5.000000e-01</td>\n",
       "      <td>0.866025</td>\n",
       "      <td>0.004530</td>\n",
       "      <td>0.999990</td>\n",
       "    </tr>\n",
       "    <tr>\n",
       "      <th>385707</th>\n",
       "      <td>276.464446</td>\n",
       "      <td>273.140248</td>\n",
       "      <td>100168.421244</td>\n",
       "      <td>-4.336809e-19</td>\n",
       "      <td>0.0</td>\n",
       "      <td>2.014878</td>\n",
       "      <td>4.494060</td>\n",
       "      <td>7.071068e-01</td>\n",
       "      <td>0.707107</td>\n",
       "      <td>0.005247</td>\n",
       "      <td>0.999986</td>\n",
       "    </tr>\n",
       "    <tr>\n",
       "      <th>385708</th>\n",
       "      <td>276.756462</td>\n",
       "      <td>273.067511</td>\n",
       "      <td>100306.858875</td>\n",
       "      <td>1.426805e-05</td>\n",
       "      <td>0.0</td>\n",
       "      <td>2.988442</td>\n",
       "      <td>6.387299</td>\n",
       "      <td>8.660254e-01</td>\n",
       "      <td>0.500000</td>\n",
       "      <td>0.005964</td>\n",
       "      <td>0.999982</td>\n",
       "    </tr>\n",
       "    <tr>\n",
       "      <th>...</th>\n",
       "      <td>...</td>\n",
       "      <td>...</td>\n",
       "      <td>...</td>\n",
       "      <td>...</td>\n",
       "      <td>...</td>\n",
       "      <td>...</td>\n",
       "      <td>...</td>\n",
       "      <td>...</td>\n",
       "      <td>...</td>\n",
       "      <td>...</td>\n",
       "      <td>...</td>\n",
       "    </tr>\n",
       "    <tr>\n",
       "      <th>455827</th>\n",
       "      <td>268.716680</td>\n",
       "      <td>266.967547</td>\n",
       "      <td>102182.755406</td>\n",
       "      <td>3.642718e-04</td>\n",
       "      <td>0.0</td>\n",
       "      <td>4.235441</td>\n",
       "      <td>7.019842</td>\n",
       "      <td>-9.659258e-01</td>\n",
       "      <td>0.258819</td>\n",
       "      <td>0.000545</td>\n",
       "      <td>1.000000</td>\n",
       "    </tr>\n",
       "    <tr>\n",
       "      <th>455828</th>\n",
       "      <td>268.546564</td>\n",
       "      <td>266.426877</td>\n",
       "      <td>102303.220947</td>\n",
       "      <td>2.379452e-04</td>\n",
       "      <td>0.0</td>\n",
       "      <td>4.918338</td>\n",
       "      <td>7.976831</td>\n",
       "      <td>-8.660254e-01</td>\n",
       "      <td>0.500000</td>\n",
       "      <td>0.001262</td>\n",
       "      <td>0.999999</td>\n",
       "    </tr>\n",
       "    <tr>\n",
       "      <th>455829</th>\n",
       "      <td>268.176845</td>\n",
       "      <td>266.142083</td>\n",
       "      <td>102400.963686</td>\n",
       "      <td>2.041077e-04</td>\n",
       "      <td>0.0</td>\n",
       "      <td>5.307397</td>\n",
       "      <td>8.410755</td>\n",
       "      <td>-7.071068e-01</td>\n",
       "      <td>0.707107</td>\n",
       "      <td>0.001978</td>\n",
       "      <td>0.999998</td>\n",
       "    </tr>\n",
       "    <tr>\n",
       "      <th>455830</th>\n",
       "      <td>267.034420</td>\n",
       "      <td>264.758975</td>\n",
       "      <td>102492.461991</td>\n",
       "      <td>1.640441e-04</td>\n",
       "      <td>0.0</td>\n",
       "      <td>5.672091</td>\n",
       "      <td>9.402890</td>\n",
       "      <td>-5.000000e-01</td>\n",
       "      <td>0.866025</td>\n",
       "      <td>0.002695</td>\n",
       "      <td>0.999996</td>\n",
       "    </tr>\n",
       "    <tr>\n",
       "      <th>455831</th>\n",
       "      <td>266.688140</td>\n",
       "      <td>264.539564</td>\n",
       "      <td>102579.016786</td>\n",
       "      <td>1.296652e-04</td>\n",
       "      <td>0.0</td>\n",
       "      <td>5.949078</td>\n",
       "      <td>9.746495</td>\n",
       "      <td>-2.588190e-01</td>\n",
       "      <td>0.965926</td>\n",
       "      <td>0.003412</td>\n",
       "      <td>0.999994</td>\n",
       "    </tr>\n",
       "  </tbody>\n",
       "</table>\n",
       "<p>70128 rows × 11 columns</p>\n",
       "</div>"
      ],
      "text/plain": [
       "               t2m         d2m            msl            tp  ssrd  \\\n",
       "385704  276.591343  273.596620  100506.632367  1.932132e-06   0.0   \n",
       "385705  276.239701  273.369400  100396.343001  4.458765e-07   0.0   \n",
       "385706  276.160200  273.007005  100208.231961 -4.336809e-19   0.0   \n",
       "385707  276.464446  273.140248  100168.421244 -4.336809e-19   0.0   \n",
       "385708  276.756462  273.067511  100306.858875  1.426805e-05   0.0   \n",
       "...            ...         ...            ...           ...   ...   \n",
       "455827  268.716680  266.967547  102182.755406  3.642718e-04   0.0   \n",
       "455828  268.546564  266.426877  102303.220947  2.379452e-04   0.0   \n",
       "455829  268.176845  266.142083  102400.963686  2.041077e-04   0.0   \n",
       "455830  267.034420  264.758975  102492.461991  1.640441e-04   0.0   \n",
       "455831  266.688140  264.539564  102579.016786  1.296652e-04   0.0   \n",
       "\n",
       "        windspeed_10  windspeed_100       Day sin   Day cos  Year sin  \\\n",
       "385704      2.114060       5.361759 -1.194924e-12  1.000000  0.003096   \n",
       "385705      2.405930       5.321845  2.588190e-01  0.965926  0.003813   \n",
       "385706      2.965422       6.456552  5.000000e-01  0.866025  0.004530   \n",
       "385707      2.014878       4.494060  7.071068e-01  0.707107  0.005247   \n",
       "385708      2.988442       6.387299  8.660254e-01  0.500000  0.005964   \n",
       "...              ...            ...           ...       ...       ...   \n",
       "455827      4.235441       7.019842 -9.659258e-01  0.258819  0.000545   \n",
       "455828      4.918338       7.976831 -8.660254e-01  0.500000  0.001262   \n",
       "455829      5.307397       8.410755 -7.071068e-01  0.707107  0.001978   \n",
       "455830      5.672091       9.402890 -5.000000e-01  0.866025  0.002695   \n",
       "455831      5.949078       9.746495 -2.588190e-01  0.965926  0.003412   \n",
       "\n",
       "        Year cos  \n",
       "385704  0.999995  \n",
       "385705  0.999993  \n",
       "385706  0.999990  \n",
       "385707  0.999986  \n",
       "385708  0.999982  \n",
       "...          ...  \n",
       "455827  1.000000  \n",
       "455828  0.999999  \n",
       "455829  0.999998  \n",
       "455830  0.999996  \n",
       "455831  0.999994  \n",
       "\n",
       "[70128 rows x 11 columns]"
      ]
     },
     "execution_count": 27,
     "metadata": {},
     "output_type": "execute_result"
    }
   ],
   "source": [
    "train"
   ]
  },
  {
   "cell_type": "markdown",
   "metadata": {},
   "source": [
    "## Normalizacja"
   ]
  },
  {
   "cell_type": "code",
   "execution_count": 28,
   "metadata": {},
   "outputs": [],
   "source": [
    "values_train = train.values\n",
    "values_test = test.values\n",
    "\n",
    "# normalize features\n",
    "scaler = MinMaxScaler(feature_range=(0, 1))\n",
    "scaler.fit(values_train)\n",
    "scaler_y = MinMaxScaler(feature_range=(0, 1))\n",
    "scaler_y.fit(values_train[:,5].reshape(len(values_train),1))\n",
    "\n",
    "values_train = scaler.transform(values_train)\n",
    "values_test = scaler.transform(values_test)"
   ]
  },
  {
   "cell_type": "code",
   "execution_count": 29,
   "metadata": {},
   "outputs": [
    {
     "data": {
      "image/png": "[encoded data removed]",
      "text/plain": [
       "<Figure size 720x360 with 1 Axes>"
      ]
     },
     "metadata": {
      "needs_background": "light"
     },
     "output_type": "display_data"
    }
   ],
   "source": [
    "plt.figure(figsize=[10,5])\n",
    "plt.xlabel('TimePoint in hours')\n",
    "plt.ylabel('Normalized $u_{10}$[m/s]')\n",
    "plt.grid()\n",
    "plt.plot(range(len(values_train)),values_train[:,5],'b')\n",
    "plt.plot(range(len(values_train),len(values_train)+len(values_test)),values_test[:,5],'r')\n",
    "plt.legend(['Norm Train','Norm Test']);"
   ]
  },
  {
   "cell_type": "markdown",
   "metadata": {},
   "source": [
    "## Zmiana szeregu czasowego na input/output"
   ]
  },
  {
   "cell_type": "code",
   "execution_count": 30,
   "metadata": {},
   "outputs": [],
   "source": [
    "# Multiple steps predicted:\n",
    "\n",
    "# convert history into inputs and outputs\n",
    "def to_supervised_multistep(data, n_input, n_out=1):\n",
    "    X, y = list(), list()\n",
    "    in_start = 0\n",
    "    # step over the entire history one time step at a time\n",
    "    for _ in range(len(data)):\n",
    "        # define the end of the input sequence\n",
    "        in_end = in_start + n_input\n",
    "        out_end = in_end + n_out\n",
    "        # ensure we have enough data for this instance\n",
    "        if out_end < len(data):\n",
    "            X.append(data[in_start:in_end, :])\n",
    "            y.append(data[in_end:out_end, 5])\n",
    "        # move along one time step\n",
    "        in_start += 1\n",
    "    return array(X), array(y)\n",
    "\n",
    "# One step predicted:\n",
    "def to_supervised(data, n_input, n_out=1):\n",
    "    X, y = list(), list()\n",
    "    in_start = 0\n",
    "    # step over the entire history one time step at a time\n",
    "    for _ in range(len(data)):\n",
    "        # define the end of the input sequence\n",
    "        in_end = in_start + n_input\n",
    "        out_end = in_end + n_out\n",
    "        # ensure we have enough data for this instance\n",
    "        if out_end < len(data):\n",
    "            X.append(data[in_start:in_end, :])\n",
    "            y.append(data[out_end-1, 5]) # 5 indicates 'windspeed10' parameter\n",
    "        # move along one time step\n",
    "        in_start += 1\n",
    "    return array(X), array(y).reshape((len(y),1))\n",
    "\n",
    "X_train, y_train = to_supervised_multistep(values_train, n_input=24, n_out=6)\n",
    "X_test, y_test = to_supervised_multistep(values_test, n_input=24, n_out=6)"
   ]
  },
  {
   "cell_type": "code",
   "execution_count": 31,
   "metadata": {},
   "outputs": [
    {
     "name": "stdout",
     "output_type": "stream",
     "text": [
      "(70098, 24, 11)\n",
      "(70098, 6)\n",
      "(8730, 24, 11)\n",
      "(8730, 6)\n"
     ]
    }
   ],
   "source": [
    "print(X_train.shape)\n",
    "print(y_train.shape)\n",
    "print(X_test.shape)\n",
    "print(y_test.shape)"
   ]
  },
  {
   "cell_type": "code",
   "execution_count": 32,
   "metadata": {},
   "outputs": [
    {
     "data": {
      "text/plain": [
       "[<matplotlib.lines.Line2D at 0x198ab058c70>]"
      ]
     },
     "execution_count": 32,
     "metadata": {},
     "output_type": "execute_result"
    },
    {
     "data": {
      "image/png": "[encoded data removed]",
      "text/plain": [
       "<Figure size 432x288 with 1 Axes>"
      ]
     },
     "metadata": {
      "needs_background": "light"
     },
     "output_type": "display_data"
    }
   ],
   "source": [
    "n = random.randrange(len(X_train))\n",
    "plt.plot(np.arange(24), X_train[n,:,5])\n",
    "plt.plot(np.arange(24,30), y_train[n,:])"
   ]
  },
  {
   "cell_type": "markdown",
   "metadata": {},
   "source": [
    "# Stworzenie i trening modeli"
   ]
  },
  {
   "cell_type": "code",
   "execution_count": 33,
   "metadata": {},
   "outputs": [],
   "source": [
    "def compile_and_fit(model, X_train, y_train):\n",
    "    early_stopping = keras.callbacks.EarlyStopping(monitor='loss',\n",
    "                                                   patience=2,\n",
    "                                                   mode='min')\n",
    "\n",
    "    model.compile(loss='mean_squared_error',\n",
    "                  optimizer='adam')\n",
    "\n",
    "    model.fit(X_train, y_train, epochs=100, batch_size=32, callbacks=[early_stopping])\n",
    "\n",
    "def evaluate(model, X_test, y_test, display = True):\n",
    "    # make predictions\n",
    "    testPredictions = model.predict(X_test)\n",
    "\n",
    "    # invert scalling\n",
    "    testPredictions = scaler_y.inverse_transform(testPredictions)\n",
    "    testYTrue = scaler_y.inverse_transform(y_test)\n",
    "\n",
    "    # calculate RMSE\n",
    "    testScore = sqrt(mean_squared_error(testYTrue, testPredictions))\n",
    "    \n",
    "    if display:\n",
    "        print('Test Score: %.4f RMSE' % (testScore))\n",
    "        length = 168\n",
    "        start = random.randrange(len(testYTrue)-length)\n",
    "        end = start+length\n",
    "        plt.figure(figsize=[10,5])\n",
    "        plt.xlabel('TimePoint in hours')\n",
    "        plt.ylabel('$windspeed_{10}[m/s]$')\n",
    "        plt.grid()\n",
    "        plt.plot(range(length), testYTrue[start:end,-1],'k.')\n",
    "        plt.plot(range(length),testPredictions[start:end,-1],'r')\n",
    "        plt.legend(['Actual','Predicted'])\n",
    "\n",
    "    return testScore\n",
    "\n",
    "def cross_corr(model, X_test, y_test):\n",
    "    # make predictions\n",
    "    testPredictions = model.predict(X_test)\n",
    "\n",
    "    # invert scalling\n",
    "    testPredictions = scaler_y.inverse_transform(testPredictions)\n",
    "    testYTrue = scaler_y.inverse_transform(y_test)\n",
    "    testPredictions = testPredictions[:,-1].reshape((testPredictions.shape[0]))\n",
    "    testYTrue = testYTrue[:,-1].reshape((testYTrue.shape[0]))\n",
    "\n",
    "    plt.figure(figsize=[10,5])\n",
    "    plt.xcorr(testYTrue, testPredictions, usevlines=False)\n",
    "    plt.grid()\n",
    "    plt.title(\"Cross correlation between predictions and actual values\")\n"
   ]
  },
  {
   "cell_type": "markdown",
   "metadata": {},
   "source": [
    "## Dense:"
   ]
  },
  {
   "cell_type": "code",
   "execution_count": 34,
   "metadata": {},
   "outputs": [
    {
     "name": "stdout",
     "output_type": "stream",
     "text": [
      "Model: \"sequential_1\"\n",
      "_________________________________________________________________\n",
      "Layer (type)                 Output Shape              Param #   \n",
      "=================================================================\n",
      "dense_5 (Dense)              (None, 24, 100)           1200      \n",
      "_________________________________________________________________\n",
      "dropout_2 (Dropout)          (None, 24, 100)           0         \n",
      "_________________________________________________________________\n",
      "dense_6 (Dense)              (None, 24, 100)           10100     \n",
      "_________________________________________________________________\n",
      "dropout_3 (Dropout)          (None, 24, 100)           0         \n",
      "_________________________________________________________________\n",
      "dense_7 (Dense)              (None, 24, 24)            2424      \n",
      "_________________________________________________________________\n",
      "dense_8 (Dense)              (None, 24, 6)             150       \n",
      "_________________________________________________________________\n",
      "reshape_2 (Reshape)          (None, 6, 24)             0         \n",
      "_________________________________________________________________\n",
      "dense_9 (Dense)              (None, 6, 1)              25        \n",
      "_________________________________________________________________\n",
      "reshape_3 (Reshape)          (None, 6)                 0         \n",
      "=================================================================\n",
      "Total params: 13,899\n",
      "Trainable params: 13,899\n",
      "Non-trainable params: 0\n",
      "_________________________________________________________________\n",
      "Epoch 1/100\n",
      "2191/2191 [==============================] - 20s 9ms/step - loss: 0.0130\n",
      "Epoch 2/100\n",
      "2191/2191 [==============================] - 20s 9ms/step - loss: 0.0120\n",
      "Epoch 3/100\n",
      "2191/2191 [==============================] - 21s 9ms/step - loss: 0.0119\n",
      "Epoch 4/100\n",
      "2191/2191 [==============================] - 20s 9ms/step - loss: 0.0118\n",
      "Epoch 5/100\n",
      "2191/2191 [==============================] - 21s 10ms/step - loss: 0.0117\n",
      "Epoch 6/100\n",
      "2191/2191 [==============================] - 20s 9ms/step - loss: 0.0116\n",
      "Epoch 7/100\n",
      "2191/2191 [==============================] - 20s 9ms/step - loss: 0.0115\n",
      "Epoch 8/100\n",
      "2191/2191 [==============================] - 20s 9ms/step - loss: 0.0115\n",
      "Epoch 9/100\n",
      "2191/2191 [==============================] - 21s 10ms/step - loss: 0.0114\n",
      "Epoch 10/100\n",
      "2191/2191 [==============================] - 20s 9ms/step - loss: 0.0114\n",
      "Epoch 11/100\n",
      "2191/2191 [==============================] - 21s 9ms/step - loss: 0.0113\n",
      "Epoch 12/100\n",
      "2191/2191 [==============================] - 22s 10ms/step - loss: 0.0113\n",
      "Epoch 13/100\n",
      "2191/2191 [==============================] - 21s 9ms/step - loss: 0.0112\n",
      "Epoch 14/100\n",
      "2191/2191 [==============================] - 21s 10ms/step - loss: 0.0112\n",
      "Epoch 15/100\n",
      "2191/2191 [==============================] - 21s 10ms/step - loss: 0.0111\n",
      "Epoch 16/100\n",
      "2191/2191 [==============================] - 22s 10ms/step - loss: 0.0111\n",
      "Epoch 17/100\n",
      "2191/2191 [==============================] - 21s 10ms/step - loss: 0.0111\n",
      "Epoch 18/100\n",
      "2191/2191 [==============================] - 21s 9ms/step - loss: 0.0110\n",
      "Epoch 19/100\n",
      "2191/2191 [==============================] - 21s 9ms/step - loss: 0.0110\n",
      "Epoch 20/100\n",
      "2191/2191 [==============================] - 20s 9ms/step - loss: 0.0110\n",
      "Epoch 21/100\n",
      "2191/2191 [==============================] - 20s 9ms/step - loss: 0.0109\n",
      "Epoch 22/100\n",
      "2191/2191 [==============================] - 20s 9ms/step - loss: 0.0109\n",
      "Epoch 23/100\n",
      "2191/2191 [==============================] - 20s 9ms/step - loss: 0.0109\n",
      "Epoch 24/100\n",
      "2191/2191 [==============================] - 20s 9ms/step - loss: 0.0109\n",
      "Epoch 25/100\n",
      "2191/2191 [==============================] - 20s 9ms/step - loss: 0.0108\n",
      "Epoch 26/100\n",
      "2191/2191 [==============================] - 21s 9ms/step - loss: 0.0108\n",
      "Epoch 27/100\n",
      "2191/2191 [==============================] - 21s 9ms/step - loss: 0.0107\n",
      "Epoch 28/100\n",
      "2191/2191 [==============================] - 21s 9ms/step - loss: 0.0107\n",
      "Epoch 29/100\n",
      "2191/2191 [==============================] - 21s 9ms/step - loss: 0.0107\n",
      "Epoch 30/100\n",
      "2191/2191 [==============================] - 20s 9ms/step - loss: 0.0107\n",
      "Epoch 31/100\n",
      "2191/2191 [==============================] - 21s 9ms/step - loss: 0.0106\n",
      "Epoch 32/100\n",
      "2191/2191 [==============================] - 20s 9ms/step - loss: 0.0107\n",
      "Epoch 33/100\n",
      "2191/2191 [==============================] - 20s 9ms/step - loss: 0.0106\n",
      "Epoch 34/100\n",
      "2191/2191 [==============================] - 20s 9ms/step - loss: 0.0106\n",
      "Epoch 35/100\n",
      "2191/2191 [==============================] - 20s 9ms/step - loss: 0.0106\n",
      "Epoch 36/100\n",
      "2191/2191 [==============================] - 21s 9ms/step - loss: 0.0105\n",
      "Epoch 37/100\n",
      "2191/2191 [==============================] - 21s 9ms/step - loss: 0.0105\n",
      "Epoch 38/100\n",
      "2191/2191 [==============================] - 21s 9ms/step - loss: 0.0105\n",
      "Epoch 39/100\n",
      "2191/2191 [==============================] - 21s 9ms/step - loss: 0.0105\n",
      "Epoch 40/100\n",
      "2191/2191 [==============================] - 20s 9ms/step - loss: 0.0105\n",
      "Epoch 41/100\n",
      "2191/2191 [==============================] - 21s 9ms/step - loss: 0.0105\n",
      "Epoch 42/100\n",
      "2191/2191 [==============================] - 20s 9ms/step - loss: 0.0104\n",
      "Epoch 43/100\n",
      "2191/2191 [==============================] - 21s 9ms/step - loss: 0.0104\n",
      "Epoch 44/100\n",
      "2191/2191 [==============================] - 21s 9ms/step - loss: 0.0104\n",
      "Epoch 45/100\n",
      "2191/2191 [==============================] - 20s 9ms/step - loss: 0.0104\n",
      "Epoch 46/100\n",
      "2191/2191 [==============================] - 20s 9ms/step - loss: 0.0104\n",
      "Epoch 47/100\n",
      "2191/2191 [==============================] - 20s 9ms/step - loss: 0.0103\n",
      "Epoch 48/100\n",
      "2191/2191 [==============================] - 20s 9ms/step - loss: 0.0103\n",
      "Epoch 49/100\n",
      "2191/2191 [==============================] - 21s 9ms/step - loss: 0.0103\n",
      "Epoch 50/100\n",
      "2191/2191 [==============================] - 21s 9ms/step - loss: 0.0103\n",
      "Epoch 51/100\n",
      "2191/2191 [==============================] - 21s 9ms/step - loss: 0.0103\n",
      "Epoch 52/100\n",
      "2191/2191 [==============================] - 21s 9ms/step - loss: 0.0103\n",
      "Epoch 53/100\n",
      "2191/2191 [==============================] - 21s 9ms/step - loss: 0.0103\n",
      "Epoch 54/100\n",
      "2191/2191 [==============================] - 21s 9ms/step - loss: 0.0102\n",
      "Epoch 55/100\n",
      "2191/2191 [==============================] - 20s 9ms/step - loss: 0.0102\n",
      "Epoch 56/100\n",
      "2191/2191 [==============================] - 21s 9ms/step - loss: 0.0102\n",
      "Epoch 57/100\n",
      "2191/2191 [==============================] - 21s 10ms/step - loss: 0.0102\n",
      "Epoch 58/100\n",
      "2191/2191 [==============================] - 21s 9ms/step - loss: 0.0102\n"
     ]
    }
   ],
   "source": [
    "dense = Sequential([\n",
    "    Dense(units=100, activation='relu', input_shape=(24,11)),\n",
    "    Dropout(0.2),\n",
    "    Dense(units=100, activation='relu'),\n",
    "    Dropout(0.2),\n",
    "    Dense(units=24, activation='relu'),\n",
    "    Dense(6),\n",
    "    Reshape([6,24]),\n",
    "    Dense(1),\n",
    "    Reshape([6])\n",
    "])\n",
    "dense.summary()\n",
    "compile_and_fit(dense, X_train, y_train)\n"
   ]
  },
  {
   "cell_type": "code",
   "execution_count": 35,
   "metadata": {},
   "outputs": [
    {
     "name": "stdout",
     "output_type": "stream",
     "text": [
      "Test Score: 1.5018 RMSE\n"
     ]
    },
    {
     "data": {
      "text/plain": [
       "1.5017867580873467"
      ]
     },
     "execution_count": 35,
     "metadata": {},
     "output_type": "execute_result"
    },
    {
     "data": {
      "image/png": "[encoded data removed]",
      "text/plain": [
       "<Figure size 720x360 with 1 Axes>"
      ]
     },
     "metadata": {
      "needs_background": "light"
     },
     "output_type": "display_data"
    }
   ],
   "source": [
    "evaluate(dense, X_test, y_test)"
   ]
  },
  {
   "cell_type": "code",
   "execution_count": 36,
   "metadata": {},
   "outputs": [
    {
     "data": {
      "image/png": "[encoded data removed]",
      "text/plain": [
       "<Figure size 720x360 with 1 Axes>"
      ]
     },
     "metadata": {
      "needs_background": "light"
     },
     "output_type": "display_data"
    }
   ],
   "source": [
    "cross_corr(dense, X_test, y_test)"
   ]
  },
  {
   "cell_type": "code",
   "execution_count": 40,
   "metadata": {},
   "outputs": [
    {
     "data": {
      "text/plain": [
       "<matplotlib.legend.Legend at 0x199f76aed00>"
      ]
     },
     "execution_count": 40,
     "metadata": {},
     "output_type": "execute_result"
    },
    {
     "data": {
      "image/png": "[encoded data removed]",
      "text/plain": [
       "<Figure size 432x288 with 1 Axes>"
      ]
     },
     "metadata": {
      "needs_background": "light"
     },
     "output_type": "display_data"
    }
   ],
   "source": [
    "testPredictions = dense.predict(X_test)\n",
    "n = random.randrange(len(X_test))\n",
    "plt.plot(np.arange(24), X_test[n,:,5])\n",
    "plt.plot(np.arange(24,30), y_test[n,:])\n",
    "plt.plot(np.arange(24,30), testPredictions[n,:])\n",
    "plt.legend(['history','actual','predicted'])"
   ]
  },
  {
   "cell_type": "code",
   "execution_count": 38,
   "metadata": {},
   "outputs": [
    {
     "data": {
      "text/plain": [
       "(8730, 6)"
      ]
     },
     "execution_count": 38,
     "metadata": {},
     "output_type": "execute_result"
    }
   ],
   "source": [
    "y_test.shape"
   ]
  },
  {
   "cell_type": "code",
   "execution_count": 39,
   "metadata": {},
   "outputs": [
    {
     "data": {
      "image/png": "[encoded data removed]",
      "text/plain": [
       "<Figure size 720x360 with 1 Axes>"
      ]
     },
     "metadata": {
      "needs_background": "light"
     },
     "output_type": "display_data"
    }
   ],
   "source": [
    "def cross_corr_multistep(model, X_test, y_test):\n",
    "    # make predictions\n",
    "    testPredictions = model.predict(X_test)\n",
    "\n",
    "    # invert scalling\n",
    "    testPredictions = scaler_y.inverse_transform(testPredictions)\n",
    "    testYTrue = scaler_y.inverse_transform(y_test)\n",
    "\n",
    "    plt.figure(figsize=[10,5])\n",
    "    plt.grid()\n",
    "    plt.title(\"Cross correlation between predictions and actual values\")\n",
    "    n = y_test.shape[1]\n",
    "    labels = []\n",
    "    for i in range(1,n+1):  \n",
    "        testPredictionsPlot = testPredictions[:,-i].reshape((testPredictions.shape[0]))\n",
    "        testYTruePlot = testYTrue[:,-1].reshape((testYTrue.shape[0]))\n",
    "        plt.xcorr(testYTruePlot, testPredictionsPlot, usevlines=False)\n",
    "        labels.append(\"+{}h\".format(7-i))\n",
    "    plt.legend(labels)\n",
    "\n",
    "cross_corr_multistep(dense, X_test, y_test)"
   ]
  }
 ],
 "metadata": {
  "interpreter": {
   "hash": "8420e14ffc0620a853927d0d4feb4e90de91bae3b0a41c2b35fe66c147e210b9"
  },
  "kernelspec": {
   "display_name": "Python 3.9.7 ('tf_gpu')",
   "language": "python",
   "name": "python3"
  },
  "language_info": {
   "codemirror_mode": {
    "name": "ipython",
    "version": 3
   },
   "file_extension": ".py",
   "mimetype": "text/x-python",
   "name": "python",
   "nbconvert_exporter": "python",
   "pygments_lexer": "ipython3",
   "version": "3.9.7"
  }
 },
 "nbformat": 4,
 "nbformat_minor": 2
}
