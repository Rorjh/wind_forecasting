{
 "cells": [
  {
   "cell_type": "code",
   "execution_count": 1,
   "metadata": {},
   "outputs": [],
   "source": [
    "import datetime as dt\n",
    "import numpy as np\n",
    "import os\n",
    "import math\n",
    "import pandas as pd\n",
    "import netCDF4\n",
    "import matplotlib.pyplot as plt\n",
    "%matplotlib inline\n",
    "\n",
    "from netCDF4 import num2date\n",
    "from astral import LocationInfo\n",
    "from astral.sun import sun\n",
    "from functions import *\n",
    "\n",
    "from sklearn.preprocessing import MinMaxScaler\n",
    "from sklearn.metrics import mean_squared_error\n",
    "\n",
    "from keras.models import Sequential\n",
    "from keras.layers import Dense\n",
    "from keras.layers import Activation\n",
    "from keras.layers import Dropout\n",
    "from keras.layers import LSTM\n",
    "from keras.layers import Reshape"
   ]
  },
  {
   "cell_type": "markdown",
   "metadata": {},
   "source": [
    "Zmiana formatu danych z netCDF na Pandas DataFrame:"
   ]
  },
  {
   "cell_type": "code",
   "execution_count": 2,
   "metadata": {},
   "outputs": [],
   "source": [
    "def netCDF2df (filename):\n",
    "    f = netCDF4.Dataset(filename)\n",
    "    var_names = ['t2m', 'd2m', 'msl', 'tp', 'u10', 'v10', 'u100', 'v100', 'ssrd'] #100m u,v and ssrd data for evalutation\n",
    "    variables = {key: f.variables[key][:].flatten() for key in var_names} # dictionary of variable name and data, already flattened for pd\n",
    "    \n",
    "    # Extract variable - każdy parametr ma przypisane time, lat, lon\n",
    "    t2m = f.variables['t2m']\n",
    "    # Get dimensions assuming 3D: time, latitude, longitude\n",
    "    time_dim, lat_dim, lon_dim = t2m.get_dims()\n",
    "    time_var = f.variables[time_dim.name]\n",
    "    times = num2date(time_var[:], time_var.units, only_use_cftime_datetimes=False, only_use_python_datetimes=True)\n",
    "    latitudes = f.variables[lat_dim.name][:]\n",
    "    longitudes = f.variables[lon_dim.name][:]\n",
    "    lat, lon = latitudes[0], longitudes[0]\n",
    "    times_grid, latitudes_grid, longitudes_grid = [x.flatten() for x in np.meshgrid(times, latitudes, longitudes, indexing='ij')]\n",
    "    \n",
    "    # additional processing of ssrd data- getting rid of negative values\n",
    "    ssrd_d = f.variables['ssrd'][:].flatten()\n",
    "    ssrd_d = np.where(ssrd_d < 10, 0, ssrd_d) / 3600 / 1000 #divide by 3600 s so [J/m2]-->[W/m2], divide by 1000 so finally [kW/m2]\n",
    "    variables.update({'ssrd' : ssrd_d})\n",
    "    \n",
    "    #time variables transformation - rotating vector to u,v components    \n",
    "    yd_i = [np.sin(t.timetuple()[7]*2*np.pi/year_len(t.year)) for t in times_grid]\n",
    "    yd_j = [np.cos(t.timetuple()[7]*2*np.pi/year_len(t.year)) for t in times_grid]\n",
    "    h_i = [np.sin(t.hour*np.pi/12) for t in times_grid]\n",
    "    h_j = [np.cos(t.hour*np.pi/12) for t in times_grid]\n",
    "    time = {'yday_i': yd_i, 'yday_j' : yd_j, 'hour_i' : h_i, 'hour_j' : h_j}\n",
    "    \n",
    "    #final df build\n",
    "    df = pd.DataFrame({**{\n",
    "        'Date Time': [t.isoformat() for t in times_grid],\n",
    "        #'year' : [t.year for t in times_grid], #used for df division\n",
    "        #'month' : [t.month for t in times_grid], #used for df trim when full_year = False\n",
    "        #'yday' : [t.timetuple()[7] for t in times_grid],\n",
    "        #'hour' : [t.hour for t in times_grid],\n",
    "        #'dorn' : [day_or_night(t,lat,lon) for t in times_grid],\n",
    "        #**time,\n",
    "        **variables\n",
    "        }})\n",
    "    f.close()\n",
    "    return df"
   ]
  },
  {
   "cell_type": "code",
   "execution_count": 3,
   "metadata": {},
   "outputs": [],
   "source": [
    "years = range(1950,2021)\n",
    "files = ['./data/ERA5/dane_[50,20]_12m_'+str(year)+'.nc' for year in years]\n",
    "df = pd.DataFrame()\n",
    "for file in files:\n",
    "    df = df.append(netCDF2df(file),ignore_index=True)"
   ]
  },
  {
   "cell_type": "code",
   "execution_count": 4,
   "metadata": {},
   "outputs": [
    {
     "data": {
      "text/html": [
       "<div>\n",
       "<style scoped>\n",
       "    .dataframe tbody tr th:only-of-type {\n",
       "        vertical-align: middle;\n",
       "    }\n",
       "\n",
       "    .dataframe tbody tr th {\n",
       "        vertical-align: top;\n",
       "    }\n",
       "\n",
       "    .dataframe thead th {\n",
       "        text-align: right;\n",
       "    }\n",
       "</style>\n",
       "<table border=\"1\" class=\"dataframe\">\n",
       "  <thead>\n",
       "    <tr style=\"text-align: right;\">\n",
       "      <th></th>\n",
       "      <th>Date Time</th>\n",
       "      <th>t2m</th>\n",
       "      <th>d2m</th>\n",
       "      <th>msl</th>\n",
       "      <th>tp</th>\n",
       "      <th>u10</th>\n",
       "      <th>v10</th>\n",
       "      <th>u100</th>\n",
       "      <th>v100</th>\n",
       "      <th>ssrd</th>\n",
       "    </tr>\n",
       "  </thead>\n",
       "  <tbody>\n",
       "    <tr>\n",
       "      <th>0</th>\n",
       "      <td>1950-01-01T00:00:00</td>\n",
       "      <td>262.714033</td>\n",
       "      <td>259.900872</td>\n",
       "      <td>103298.015394</td>\n",
       "      <td>NaN</td>\n",
       "      <td>0.637819</td>\n",
       "      <td>-2.406421</td>\n",
       "      <td>0.903655</td>\n",
       "      <td>-3.709255</td>\n",
       "      <td>0.0</td>\n",
       "    </tr>\n",
       "    <tr>\n",
       "      <th>1</th>\n",
       "      <td>1950-01-01T01:00:00</td>\n",
       "      <td>260.695745</td>\n",
       "      <td>258.184905</td>\n",
       "      <td>103401.866726</td>\n",
       "      <td>NaN</td>\n",
       "      <td>0.922727</td>\n",
       "      <td>-1.589199</td>\n",
       "      <td>1.500161</td>\n",
       "      <td>-3.410746</td>\n",
       "      <td>0.0</td>\n",
       "    </tr>\n",
       "    <tr>\n",
       "      <th>2</th>\n",
       "      <td>1950-01-01T02:00:00</td>\n",
       "      <td>260.195929</td>\n",
       "      <td>257.699157</td>\n",
       "      <td>103434.928307</td>\n",
       "      <td>NaN</td>\n",
       "      <td>1.599350</td>\n",
       "      <td>-2.048641</td>\n",
       "      <td>1.843544</td>\n",
       "      <td>-3.019235</td>\n",
       "      <td>0.0</td>\n",
       "    </tr>\n",
       "    <tr>\n",
       "      <th>3</th>\n",
       "      <td>1950-01-01T03:00:00</td>\n",
       "      <td>259.350219</td>\n",
       "      <td>256.948053</td>\n",
       "      <td>103418.318422</td>\n",
       "      <td>NaN</td>\n",
       "      <td>1.825593</td>\n",
       "      <td>-1.757785</td>\n",
       "      <td>2.032306</td>\n",
       "      <td>-2.403842</td>\n",
       "      <td>0.0</td>\n",
       "    </tr>\n",
       "    <tr>\n",
       "      <th>4</th>\n",
       "      <td>1950-01-01T04:00:00</td>\n",
       "      <td>258.763065</td>\n",
       "      <td>256.665744</td>\n",
       "      <td>103419.030274</td>\n",
       "      <td>NaN</td>\n",
       "      <td>1.989750</td>\n",
       "      <td>-1.709849</td>\n",
       "      <td>2.543653</td>\n",
       "      <td>-2.705351</td>\n",
       "      <td>0.0</td>\n",
       "    </tr>\n",
       "  </tbody>\n",
       "</table>\n",
       "</div>"
      ],
      "text/plain": [
       "             Date Time         t2m         d2m            msl  tp       u10  \\\n",
       "0  1950-01-01T00:00:00  262.714033  259.900872  103298.015394 NaN  0.637819   \n",
       "1  1950-01-01T01:00:00  260.695745  258.184905  103401.866726 NaN  0.922727   \n",
       "2  1950-01-01T02:00:00  260.195929  257.699157  103434.928307 NaN  1.599350   \n",
       "3  1950-01-01T03:00:00  259.350219  256.948053  103418.318422 NaN  1.825593   \n",
       "4  1950-01-01T04:00:00  258.763065  256.665744  103419.030274 NaN  1.989750   \n",
       "\n",
       "        v10      u100      v100  ssrd  \n",
       "0 -2.406421  0.903655 -3.709255   0.0  \n",
       "1 -1.589199  1.500161 -3.410746   0.0  \n",
       "2 -2.048641  1.843544 -3.019235   0.0  \n",
       "3 -1.757785  2.032306 -2.403842   0.0  \n",
       "4 -1.709849  2.543653 -2.705351   0.0  "
      ]
     },
     "execution_count": 4,
     "metadata": {},
     "output_type": "execute_result"
    }
   ],
   "source": [
    "df.head(5)"
   ]
  },
  {
   "cell_type": "markdown",
   "metadata": {},
   "source": [
    "Zmiana formatu daty:"
   ]
  },
  {
   "cell_type": "code",
   "execution_count": 5,
   "metadata": {},
   "outputs": [],
   "source": [
    "df['Date Time'] = pd.to_datetime(df.pop('Date Time'), infer_datetime_format=True)"
   ]
  },
  {
   "cell_type": "code",
   "execution_count": 6,
   "metadata": {},
   "outputs": [
    {
     "data": {
      "text/html": [
       "<div>\n",
       "<style scoped>\n",
       "    .dataframe tbody tr th:only-of-type {\n",
       "        vertical-align: middle;\n",
       "    }\n",
       "\n",
       "    .dataframe tbody tr th {\n",
       "        vertical-align: top;\n",
       "    }\n",
       "\n",
       "    .dataframe thead th {\n",
       "        text-align: right;\n",
       "    }\n",
       "</style>\n",
       "<table border=\"1\" class=\"dataframe\">\n",
       "  <thead>\n",
       "    <tr style=\"text-align: right;\">\n",
       "      <th></th>\n",
       "      <th>t2m</th>\n",
       "      <th>d2m</th>\n",
       "      <th>msl</th>\n",
       "      <th>tp</th>\n",
       "      <th>u10</th>\n",
       "      <th>v10</th>\n",
       "      <th>u100</th>\n",
       "      <th>v100</th>\n",
       "      <th>ssrd</th>\n",
       "      <th>Date Time</th>\n",
       "    </tr>\n",
       "  </thead>\n",
       "  <tbody>\n",
       "    <tr>\n",
       "      <th>0</th>\n",
       "      <td>262.714033</td>\n",
       "      <td>259.900872</td>\n",
       "      <td>103298.015394</td>\n",
       "      <td>NaN</td>\n",
       "      <td>0.637819</td>\n",
       "      <td>-2.406421</td>\n",
       "      <td>0.903655</td>\n",
       "      <td>-3.709255</td>\n",
       "      <td>0.0</td>\n",
       "      <td>1950-01-01 00:00:00</td>\n",
       "    </tr>\n",
       "    <tr>\n",
       "      <th>1</th>\n",
       "      <td>260.695745</td>\n",
       "      <td>258.184905</td>\n",
       "      <td>103401.866726</td>\n",
       "      <td>NaN</td>\n",
       "      <td>0.922727</td>\n",
       "      <td>-1.589199</td>\n",
       "      <td>1.500161</td>\n",
       "      <td>-3.410746</td>\n",
       "      <td>0.0</td>\n",
       "      <td>1950-01-01 01:00:00</td>\n",
       "    </tr>\n",
       "    <tr>\n",
       "      <th>2</th>\n",
       "      <td>260.195929</td>\n",
       "      <td>257.699157</td>\n",
       "      <td>103434.928307</td>\n",
       "      <td>NaN</td>\n",
       "      <td>1.599350</td>\n",
       "      <td>-2.048641</td>\n",
       "      <td>1.843544</td>\n",
       "      <td>-3.019235</td>\n",
       "      <td>0.0</td>\n",
       "      <td>1950-01-01 02:00:00</td>\n",
       "    </tr>\n",
       "    <tr>\n",
       "      <th>3</th>\n",
       "      <td>259.350219</td>\n",
       "      <td>256.948053</td>\n",
       "      <td>103418.318422</td>\n",
       "      <td>NaN</td>\n",
       "      <td>1.825593</td>\n",
       "      <td>-1.757785</td>\n",
       "      <td>2.032306</td>\n",
       "      <td>-2.403842</td>\n",
       "      <td>0.0</td>\n",
       "      <td>1950-01-01 03:00:00</td>\n",
       "    </tr>\n",
       "    <tr>\n",
       "      <th>4</th>\n",
       "      <td>258.763065</td>\n",
       "      <td>256.665744</td>\n",
       "      <td>103419.030274</td>\n",
       "      <td>NaN</td>\n",
       "      <td>1.989750</td>\n",
       "      <td>-1.709849</td>\n",
       "      <td>2.543653</td>\n",
       "      <td>-2.705351</td>\n",
       "      <td>0.0</td>\n",
       "      <td>1950-01-01 04:00:00</td>\n",
       "    </tr>\n",
       "  </tbody>\n",
       "</table>\n",
       "</div>"
      ],
      "text/plain": [
       "          t2m         d2m            msl  tp       u10       v10      u100  \\\n",
       "0  262.714033  259.900872  103298.015394 NaN  0.637819 -2.406421  0.903655   \n",
       "1  260.695745  258.184905  103401.866726 NaN  0.922727 -1.589199  1.500161   \n",
       "2  260.195929  257.699157  103434.928307 NaN  1.599350 -2.048641  1.843544   \n",
       "3  259.350219  256.948053  103418.318422 NaN  1.825593 -1.757785  2.032306   \n",
       "4  258.763065  256.665744  103419.030274 NaN  1.989750 -1.709849  2.543653   \n",
       "\n",
       "       v100  ssrd           Date Time  \n",
       "0 -3.709255   0.0 1950-01-01 00:00:00  \n",
       "1 -3.410746   0.0 1950-01-01 01:00:00  \n",
       "2 -3.019235   0.0 1950-01-01 02:00:00  \n",
       "3 -2.403842   0.0 1950-01-01 03:00:00  \n",
       "4 -2.705351   0.0 1950-01-01 04:00:00  "
      ]
     },
     "execution_count": 6,
     "metadata": {},
     "output_type": "execute_result"
    }
   ],
   "source": [
    "df.head()"
   ]
  },
  {
   "cell_type": "markdown",
   "metadata": {},
   "source": [
    "Wypełnienie NA:"
   ]
  },
  {
   "cell_type": "code",
   "execution_count": 7,
   "metadata": {},
   "outputs": [],
   "source": [
    "df['tp'] = df['tp'].fillna(0)"
   ]
  },
  {
   "cell_type": "markdown",
   "metadata": {},
   "source": [
    "Zmiana skladowych wektora na długość wektora:"
   ]
  },
  {
   "cell_type": "code",
   "execution_count": 8,
   "metadata": {},
   "outputs": [],
   "source": [
    "df['windspeed_10'] = (df['u10']**2 + df['v10']**2)**(1/2)\n",
    "df['windspeed_100'] = (df['u100']**2 + df['v100']**2)**(1/2)\n",
    "df.drop(labels=['u10', 'v10', 'u100', 'v100'], axis=1, inplace = True)"
   ]
  },
  {
   "cell_type": "markdown",
   "metadata": {},
   "source": [
    "Zapisanie tabeli do csv:"
   ]
  },
  {
   "cell_type": "code",
   "execution_count": 109,
   "metadata": {},
   "outputs": [],
   "source": [
    "df.to_csv('data/table.csv', index = False)"
   ]
  },
  {
   "cell_type": "markdown",
   "metadata": {},
   "source": [
    "# Wybranie zakresu danych:"
   ]
  },
  {
   "cell_type": "markdown",
   "metadata": {},
   "source": [
    "Univariate:"
   ]
  },
  {
   "cell_type": "code",
   "execution_count": 9,
   "metadata": {},
   "outputs": [],
   "source": [
    "train = df[df['Date Time']>='2001-01-01']\n",
    "train = train[train['Date Time']<'2002-01-01']\n",
    "\n",
    "test = df[df['Date Time']>='2002-01-01']\n",
    "test = test[test['Date Time']<'2003-01-01']"
   ]
  },
  {
   "cell_type": "code",
   "execution_count": 10,
   "metadata": {},
   "outputs": [],
   "source": [
    "train = train['windspeed_10'].values\n",
    "test = test['windspeed_10'].values\n",
    "\n",
    "train = train.reshape((len(train),1))\n",
    "test = test.reshape((len(test),1))"
   ]
  },
  {
   "cell_type": "code",
   "execution_count": 78,
   "metadata": {},
   "outputs": [
    {
     "data": {
      "text/plain": [
       "[<matplotlib.lines.Line2D at 0x2a741029a90>]"
      ]
     },
     "execution_count": 78,
     "metadata": {},
     "output_type": "execute_result"
    },
    {
     "data": {
      "image/png": "[encoded data removed]",
      "text/plain": [
       "<Figure size 720x360 with 1 Axes>"
      ]
     },
     "metadata": {
      "needs_background": "light"
     },
     "output_type": "display_data"
    }
   ],
   "source": [
    "plt.figure(figsize=[10,5])\n",
    "plt.xlabel('TimePoint in hours')\n",
    "plt.ylabel('$u_{10}[m/s]$')\n",
    "plt.grid()\n",
    "plt.plot(train)"
   ]
  },
  {
   "cell_type": "markdown",
   "metadata": {},
   "source": [
    "Normalizacja danych:"
   ]
  },
  {
   "cell_type": "code",
   "execution_count": 11,
   "metadata": {},
   "outputs": [],
   "source": [
    "# add code here\n",
    "scaler = MinMaxScaler()\n",
    "scaler.fit(train)\n",
    "\n",
    "norm_train = scaler.transform(train)\n",
    "norm_test = scaler.transform(test)"
   ]
  },
  {
   "cell_type": "code",
   "execution_count": 80,
   "metadata": {},
   "outputs": [
    {
     "data": {
      "image/png": "[encoded data removed]",
      "text/plain": [
       "<Figure size 720x360 with 1 Axes>"
      ]
     },
     "metadata": {
      "needs_background": "light"
     },
     "output_type": "display_data"
    }
   ],
   "source": [
    "plt.figure(figsize=[10,5])\n",
    "plt.xlabel('TimePoint in hours')\n",
    "plt.ylabel('Normalized $u_{10}$[m/s]')\n",
    "plt.grid()\n",
    "plt.plot(range(len(train)),norm_train,'b')\n",
    "plt.plot(range(len(train),len(train)+len(test)),norm_test,'r')\n",
    "plt.legend(['Norm Train','Norm Test']);"
   ]
  },
  {
   "cell_type": "markdown",
   "metadata": {},
   "source": [
    "Podział szeregu czasowego na input/output:"
   ]
  },
  {
   "cell_type": "code",
   "execution_count": 12,
   "metadata": {},
   "outputs": [],
   "source": [
    "def split_X_y(data, look_back = 1, pred_forward = 1):\n",
    "    dataX, dataY = [], []\n",
    "    for i in range(len(data)-look_back-pred_forward):\n",
    "        a = data[i:(i+look_back), 0]\n",
    "        dataX.append(a)\n",
    "        dataY.append(data[i + look_back + pred_forward -1 , 0])\n",
    "    return np.array(dataX), np.array(dataY).reshape((len(dataY),1))"
   ]
  },
  {
   "cell_type": "code",
   "execution_count": 14,
   "metadata": {},
   "outputs": [],
   "source": [
    "# reshape into X contains the data for times t-i ... t-2 t-1 and Y contains the data for times t\n",
    "look_back = 1 # here we will only look at the previous datapoint to predict the next one\n",
    "trainX, trainY = split_X_y(norm_train, look_back)\n",
    "testX, testY = split_X_y(norm_test, look_back)"
   ]
  },
  {
   "cell_type": "code",
   "execution_count": 15,
   "metadata": {},
   "outputs": [],
   "source": [
    "# # reshape input to be [samples, time steps, features]\n",
    "trainX = np.reshape(trainX, (trainX.shape[0], 1, trainX.shape[1]))\n",
    "testX = np.reshape(testX, (testX.shape[0], 1, testX.shape[1]))"
   ]
  },
  {
   "cell_type": "code",
   "execution_count": 16,
   "metadata": {},
   "outputs": [
    {
     "name": "stdout",
     "output_type": "stream",
     "text": [
      "(8758, 1, 1)\n",
      "(8758, 1)\n",
      "(8758, 1, 1)\n",
      "(8758, 1)\n"
     ]
    }
   ],
   "source": [
    "print(trainX.shape)\n",
    "print(trainY.shape)\n",
    "print(testX.shape)\n",
    "print(testY.shape)"
   ]
  },
  {
   "cell_type": "markdown",
   "metadata": {},
   "source": [
    "Stworzenie i trening modelu LSTM:"
   ]
  },
  {
   "cell_type": "code",
   "execution_count": 17,
   "metadata": {},
   "outputs": [
    {
     "name": "stdout",
     "output_type": "stream",
     "text": [
      "Epoch 1/20\n",
      "8758/8758 - 32s - loss: 0.0058\n",
      "Epoch 2/20\n",
      "8758/8758 - 25s - loss: 8.4160e-04\n",
      "Epoch 3/20\n",
      "8758/8758 - 25s - loss: 8.3862e-04\n",
      "Epoch 4/20\n",
      "8758/8758 - 28s - loss: 8.3601e-04\n",
      "Epoch 5/20\n",
      "8758/8758 - 27s - loss: 8.3946e-04\n",
      "Epoch 6/20\n",
      "8758/8758 - 27s - loss: 8.3108e-04\n",
      "Epoch 7/20\n",
      "8758/8758 - 28s - loss: 8.3643e-04\n",
      "Epoch 8/20\n",
      "8758/8758 - 27s - loss: 8.3320e-04\n",
      "Epoch 9/20\n",
      "8758/8758 - 27s - loss: 8.3464e-04\n",
      "Epoch 10/20\n",
      "8758/8758 - 26s - loss: 8.3996e-04\n",
      "Epoch 11/20\n",
      "8758/8758 - 26s - loss: 8.3812e-04\n",
      "Epoch 12/20\n",
      "8758/8758 - 26s - loss: 8.3609e-04\n",
      "Epoch 13/20\n",
      "8758/8758 - 27s - loss: 8.3510e-04\n",
      "Epoch 14/20\n",
      "8758/8758 - 27s - loss: 8.3594e-04\n",
      "Epoch 15/20\n",
      "8758/8758 - 26s - loss: 8.3896e-04\n",
      "Epoch 16/20\n",
      "8758/8758 - 25s - loss: 8.3217e-04\n",
      "Epoch 17/20\n",
      "8758/8758 - 25s - loss: 8.3510e-04\n",
      "Epoch 18/20\n",
      "8758/8758 - 25s - loss: 8.3073e-04\n",
      "Epoch 19/20\n",
      "8758/8758 - 25s - loss: 8.3847e-04\n",
      "Epoch 20/20\n",
      "8758/8758 - 25s - loss: 8.3058e-04\n"
     ]
    },
    {
     "data": {
      "text/plain": [
       "<keras.callbacks.History at 0x13a4eb61e20>"
      ]
     },
     "execution_count": 17,
     "metadata": {},
     "output_type": "execute_result"
    }
   ],
   "source": [
    "# create and fit the LSTM network\n",
    "model = Sequential()\n",
    "model.add(LSTM(4, input_shape=(1, look_back)))\n",
    "model.add(Dense(1))\n",
    "model.compile(loss='mean_squared_error', optimizer='adam')\n",
    "model.fit(trainX, trainY, epochs=20, batch_size=1, verbose=2)"
   ]
  },
  {
   "cell_type": "markdown",
   "metadata": {},
   "source": [
    "Dokonanie predykcji i wyświetlenie przykładu:"
   ]
  },
  {
   "cell_type": "code",
   "execution_count": 18,
   "metadata": {},
   "outputs": [
    {
     "name": "stdout",
     "output_type": "stream",
     "text": [
      "Train Score: 0.4588 RMSE\n",
      "Test Score: 0.4870 RMSE\n"
     ]
    }
   ],
   "source": [
    "# make predictions\n",
    "trainPredict = model.predict(trainX)\n",
    "testPredict = model.predict(testX)\n",
    "\n",
    "# invert predictions\n",
    "trainPredict = scaler.inverse_transform(trainPredict)\n",
    "trainYTrue = scaler.inverse_transform(trainY)\n",
    "testPredict = scaler.inverse_transform(testPredict)\n",
    "testYTrue = scaler.inverse_transform(testY)\n",
    "\n",
    "# calculate root mean squared error\n",
    "trainScore = math.sqrt(mean_squared_error(trainYTrue, trainPredict))\n",
    "print('Train Score: %.4f RMSE' % (trainScore))\n",
    "testScore = math.sqrt(mean_squared_error(testYTrue, testPredict))\n",
    "print('Test Score: %.4f RMSE' % (testScore))"
   ]
  },
  {
   "cell_type": "code",
   "execution_count": 20,
   "metadata": {},
   "outputs": [
    {
     "data": {
      "text/plain": [
       "<matplotlib.legend.Legend at 0x13a4aa63040>"
      ]
     },
     "execution_count": 20,
     "metadata": {},
     "output_type": "execute_result"
    },
    {
     "data": {
      "image/png": "[encoded data removed]",
      "text/plain": [
       "<Figure size 720x360 with 1 Axes>"
      ]
     },
     "metadata": {
      "needs_background": "light"
     },
     "output_type": "display_data"
    }
   ],
   "source": [
    "plt.figure(figsize=[10,5])\n",
    "plt.xlabel('TimePoint in hours')\n",
    "plt.ylabel('$u_{10}[m/s]$')\n",
    "plt.grid()\n",
    "plt.plot(range(250), testYTrue[:250],'k.')\n",
    "plt.plot(range(250),testPredict[:250],'r')\n",
    "plt.legend(['Actual','Predicted'])"
   ]
  },
  {
   "cell_type": "markdown",
   "metadata": {},
   "source": [
    "## Lookback = 6h"
   ]
  },
  {
   "cell_type": "code",
   "execution_count": 103,
   "metadata": {},
   "outputs": [
    {
     "name": "stdout",
     "output_type": "stream",
     "text": [
      "(8753, 1, 6)\n",
      "(8753,)\n",
      "(8753, 1, 6)\n",
      "(8753,)\n"
     ]
    }
   ],
   "source": [
    "# reshape into X contains the data for times t-i ... t-2 t-1 and Y contains the data for times t\n",
    "look_back = 6 # here we will only look at the previous datapoint to predict the next one\n",
    "trainX_6h, trainY_6h = split_X_y(norm_train, look_back)\n",
    "testX_6h, testY_6h = split_X_y(norm_test, look_back)\n",
    "\n",
    "# # reshape input to be [samples, time steps, features]\n",
    "trainX_6h = np.reshape(trainX_6h, (trainX_6h.shape[0], 1, trainX_6h.shape[1]))\n",
    "testX_6h = np.reshape(testX_6h, (testX_6h.shape[0], 1, testX_6h.shape[1]))\n",
    "\n",
    "print(trainX_6h.shape)\n",
    "print(trainY_6h.shape)\n",
    "print(testX_6h.shape)\n",
    "print(testY_6h.shape)"
   ]
  },
  {
   "cell_type": "code",
   "execution_count": 104,
   "metadata": {},
   "outputs": [
    {
     "name": "stdout",
     "output_type": "stream",
     "text": [
      "Epoch 1/20\n",
      "8753/8753 - 32s - loss: 0.0051\n",
      "Epoch 2/20\n",
      "8753/8753 - 30s - loss: 8.2780e-04\n",
      "Epoch 3/20\n",
      "8753/8753 - 29s - loss: 7.7019e-04\n",
      "Epoch 4/20\n",
      "8753/8753 - 30s - loss: 7.5007e-04\n",
      "Epoch 5/20\n",
      "8753/8753 - 30s - loss: 7.3422e-04\n",
      "Epoch 6/20\n",
      "8753/8753 - 26s - loss: 7.2052e-04\n",
      "Epoch 7/20\n",
      "8753/8753 - 29s - loss: 7.1783e-04\n",
      "Epoch 8/20\n",
      "8753/8753 - 26s - loss: 7.0452e-04\n",
      "Epoch 9/20\n",
      "8753/8753 - 27s - loss: 7.0325e-04\n",
      "Epoch 10/20\n",
      "8753/8753 - 28s - loss: 7.0163e-04\n",
      "Epoch 11/20\n",
      "8753/8753 - 29s - loss: 7.0062e-04\n",
      "Epoch 12/20\n",
      "8753/8753 - 27s - loss: 6.9273e-04\n",
      "Epoch 13/20\n",
      "8753/8753 - 30s - loss: 6.9736e-04\n",
      "Epoch 14/20\n",
      "8753/8753 - 29s - loss: 6.9384e-04\n",
      "Epoch 15/20\n",
      "8753/8753 - 30s - loss: 6.9365e-04\n",
      "Epoch 16/20\n",
      "8753/8753 - 29s - loss: 6.8643e-04\n",
      "Epoch 17/20\n",
      "8753/8753 - 28s - loss: 6.9002e-04\n",
      "Epoch 18/20\n",
      "8753/8753 - 28s - loss: 6.8181e-04\n",
      "Epoch 19/20\n",
      "8753/8753 - 31s - loss: 6.8789e-04\n",
      "Epoch 20/20\n",
      "8753/8753 - 31s - loss: 6.8240e-04\n"
     ]
    },
    {
     "data": {
      "text/plain": [
       "<keras.callbacks.History at 0x197f146a490>"
      ]
     },
     "execution_count": 104,
     "metadata": {},
     "output_type": "execute_result"
    }
   ],
   "source": [
    "# create and fit the LSTM network\n",
    "model_6h = Sequential()\n",
    "model_6h.add(LSTM(4, input_shape=(1, look_back)))\n",
    "model_6h.add(Dense(1))\n",
    "model_6h.compile(loss='mean_squared_error', optimizer='adam')\n",
    "model_6h.fit(trainX_6h, trainY_6h, epochs=20, batch_size=1, verbose=2)"
   ]
  },
  {
   "cell_type": "code",
   "execution_count": 109,
   "metadata": {},
   "outputs": [
    {
     "data": {
      "text/plain": [
       "array([0.46072971, 0.47218958, 0.4668335 , ..., 0.58234782, 0.59804984,\n",
       "       0.60334488])"
      ]
     },
     "execution_count": 109,
     "metadata": {},
     "output_type": "execute_result"
    }
   ],
   "source": [
    "trainY_6h"
   ]
  },
  {
   "cell_type": "code",
   "execution_count": 111,
   "metadata": {},
   "outputs": [
    {
     "name": "stdout",
     "output_type": "stream",
     "text": [
      "Train Score: 0.4116 RMSE\n",
      "Test Score: 0.4402 RMSE\n"
     ]
    }
   ],
   "source": [
    "# make predictions\n",
    "trainPredict_6h = model_6h.predict(trainX_6h)\n",
    "testPredict_6h = model_6h.predict(testX_6h)\n",
    "\n",
    "# reshape labels\n",
    "trainY_6h = trainY_6h.reshape((len(trainY_6h), 1))\n",
    "testY_6h = testY_6h.reshape((len(testY_6h), 1))\n",
    "\n",
    "# invert predictions\n",
    "trainPredict_6h = scaler.inverse_transform(trainPredict_6h)\n",
    "trainYTrue_6h = scaler.inverse_transform(trainY_6h)\n",
    "testPredict_6h = scaler.inverse_transform(testPredict_6h)\n",
    "testYTrue_6h = scaler.inverse_transform(testY_6h)\n",
    "\n",
    "# calculate root mean squared error\n",
    "trainScore_6h = math.sqrt(mean_squared_error(trainYTrue_6h, trainPredict_6h))\n",
    "print('Train Score: %.4f RMSE' % (trainScore_6h))\n",
    "testScore_6h = math.sqrt(mean_squared_error(testYTrue_6h, testPredict_6h))\n",
    "print('Test Score: %.4f RMSE' % (testScore_6h))"
   ]
  },
  {
   "cell_type": "code",
   "execution_count": 127,
   "metadata": {},
   "outputs": [
    {
     "data": {
      "text/plain": [
       "<matplotlib.legend.Legend at 0x196b7e550d0>"
      ]
     },
     "execution_count": 127,
     "metadata": {},
     "output_type": "execute_result"
    },
    {
     "data": {
      "image/png": "[encoded data removed]",
      "text/plain": [
       "<Figure size 720x360 with 1 Axes>"
      ]
     },
     "metadata": {
      "needs_background": "light"
     },
     "output_type": "display_data"
    }
   ],
   "source": [
    "plt.figure(figsize=[10,5])\n",
    "plt.xlabel('TimePoint in hours')\n",
    "plt.ylabel('$u_{10}[m/s]$')\n",
    "plt.grid()\n",
    "plt.plot(range(250), testYTrue_6h[:250],'k.')\n",
    "plt.plot(range(250),testPredict_6h[:250],'r')\n",
    "plt.legend(['Actual','Predicted'])"
   ]
  },
  {
   "cell_type": "markdown",
   "metadata": {},
   "source": [
    "## Przewidywania na 6h do przodu - lookback = 1:"
   ]
  },
  {
   "cell_type": "code",
   "execution_count": 129,
   "metadata": {},
   "outputs": [
    {
     "name": "stdout",
     "output_type": "stream",
     "text": [
      "(8753, 1, 1)\n",
      "(8753, 1)\n",
      "(8753, 1, 1)\n",
      "(8753, 1)\n"
     ]
    }
   ],
   "source": [
    "# reshape into X contains the data for times t-i ... t-2 t-1 and Y contains the data for times t\n",
    "look_back = 1 # here we will only look at the previous datapoint to predict the next one\n",
    "forward = 6\n",
    "trainX_1_6, trainY_1_6 = split_X_y(norm_train, look_back, forward)\n",
    "testX_1_6, testY_1_6 = split_X_y(norm_test, look_back, forward)\n",
    "\n",
    "# # reshape input to be [samples, time steps, features]\n",
    "trainX_1_6 = np.reshape(trainX_1_6, (trainX_1_6.shape[0], 1, trainX_1_6.shape[1]))\n",
    "testX_1_6 = np.reshape(testX_1_6, (testX_1_6.shape[0], 1, testX_1_6.shape[1]))\n",
    "\n",
    "print(trainX_1_6.shape)\n",
    "print(trainY_1_6.shape)\n",
    "print(testX_1_6.shape)\n",
    "print(testY_1_6.shape)"
   ]
  },
  {
   "cell_type": "code",
   "execution_count": 130,
   "metadata": {},
   "outputs": [
    {
     "name": "stdout",
     "output_type": "stream",
     "text": [
      "Epoch 1/20\n",
      "8753/8753 - 27s - loss: 0.0139\n",
      "Epoch 2/20\n",
      "8753/8753 - 26s - loss: 0.0087\n",
      "Epoch 3/20\n",
      "8753/8753 - 23s - loss: 0.0087\n",
      "Epoch 4/20\n",
      "8753/8753 - 23s - loss: 0.0087\n",
      "Epoch 5/20\n",
      "8753/8753 - 22s - loss: 0.0087\n",
      "Epoch 6/20\n",
      "8753/8753 - 23s - loss: 0.0087\n",
      "Epoch 7/20\n",
      "8753/8753 - 22s - loss: 0.0087\n",
      "Epoch 8/20\n",
      "8753/8753 - 22s - loss: 0.0087\n",
      "Epoch 9/20\n",
      "8753/8753 - 22s - loss: 0.0087\n",
      "Epoch 10/20\n",
      "8753/8753 - 22s - loss: 0.0086\n",
      "Epoch 11/20\n",
      "8753/8753 - 22s - loss: 0.0087\n",
      "Epoch 12/20\n",
      "8753/8753 - 26s - loss: 0.0086\n",
      "Epoch 13/20\n",
      "8753/8753 - 27s - loss: 0.0087\n",
      "Epoch 14/20\n",
      "8753/8753 - 28s - loss: 0.0087\n",
      "Epoch 15/20\n",
      "8753/8753 - 27s - loss: 0.0087\n",
      "Epoch 16/20\n",
      "8753/8753 - 27s - loss: 0.0087\n",
      "Epoch 17/20\n",
      "8753/8753 - 26s - loss: 0.0087\n",
      "Epoch 18/20\n",
      "8753/8753 - 26s - loss: 0.0087\n",
      "Epoch 19/20\n",
      "8753/8753 - 27s - loss: 0.0087\n",
      "Epoch 20/20\n",
      "8753/8753 - 28s - loss: 0.0087\n"
     ]
    },
    {
     "data": {
      "text/plain": [
       "<keras.callbacks.History at 0x1981796c610>"
      ]
     },
     "execution_count": 130,
     "metadata": {},
     "output_type": "execute_result"
    }
   ],
   "source": [
    "# create and fit the LSTM network\n",
    "model_1_6 = Sequential()\n",
    "model_1_6.add(LSTM(4, input_shape=(1, look_back)))\n",
    "model_1_6.add(Dense(1))\n",
    "model_1_6.compile(loss='mean_squared_error', optimizer='adam')\n",
    "model_1_6.fit(trainX_1_6, trainY_1_6, epochs=20, batch_size=1, verbose=2)"
   ]
  },
  {
   "cell_type": "code",
   "execution_count": 131,
   "metadata": {},
   "outputs": [
    {
     "name": "stdout",
     "output_type": "stream",
     "text": [
      "Train Score: 1.4987 RMSE\n",
      "Test Score: 1.5597 RMSE\n"
     ]
    }
   ],
   "source": [
    "# make predictions\n",
    "trainPredict_1_6 = model_1_6.predict(trainX_1_6)\n",
    "testPredict_1_6 = model_1_6.predict(testX_1_6)\n",
    "\n",
    "# reshape labels\n",
    "# trainY_6h = trainY_6h.reshape((len(trainY_6h), 1))\n",
    "# testY_6h = testY_6h.reshape((len(testY_6h), 1))\n",
    "\n",
    "# invert predictions\n",
    "trainPredict_1_6 = scaler.inverse_transform(trainPredict_1_6)\n",
    "trainYTrue_1_6 = scaler.inverse_transform(trainY_1_6)\n",
    "testPredict_1_6 = scaler.inverse_transform(testPredict_1_6)\n",
    "testYTrue_1_6 = scaler.inverse_transform(testY_1_6)\n",
    "\n",
    "# calculate root mean squared error\n",
    "trainScore_1_6 = math.sqrt(mean_squared_error(trainYTrue_1_6, trainPredict_1_6))\n",
    "print('Train Score: %.4f RMSE' % (trainScore_1_6))\n",
    "testScore_1_6 = math.sqrt(mean_squared_error(testYTrue_1_6, testPredict_1_6))\n",
    "print('Test Score: %.4f RMSE' % (testScore_1_6))"
   ]
  },
  {
   "cell_type": "code",
   "execution_count": 141,
   "metadata": {},
   "outputs": [
    {
     "data": {
      "text/plain": [
       "<matplotlib.legend.Legend at 0x1983bb38a90>"
      ]
     },
     "execution_count": 141,
     "metadata": {},
     "output_type": "execute_result"
    },
    {
     "data": {
      "image/png": "[encoded data removed]",
      "text/plain": [
       "<Figure size 720x360 with 1 Axes>"
      ]
     },
     "metadata": {
      "needs_background": "light"
     },
     "output_type": "display_data"
    }
   ],
   "source": [
    "plt.figure(figsize=[10,5])\n",
    "plt.xlabel('TimePoint in hours')\n",
    "plt.ylabel('$u_{10}[m/s]$')\n",
    "plt.grid()\n",
    "plt.plot(range(250), testYTrue_1_6[:250],'k.')\n",
    "plt.plot(range(250),testPredict_1_6[:250],'r')\n",
    "plt.legend(['Actual','Predicted'])"
   ]
  },
  {
   "cell_type": "markdown",
   "metadata": {},
   "source": [
    "## 6h lookback, 6h w przód:"
   ]
  },
  {
   "cell_type": "code",
   "execution_count": 135,
   "metadata": {},
   "outputs": [
    {
     "name": "stdout",
     "output_type": "stream",
     "text": [
      "(8748, 1, 6)\n",
      "(8748, 1)\n",
      "(8748, 1, 6)\n",
      "(8748, 1)\n"
     ]
    }
   ],
   "source": [
    "# reshape into X contains the data for times t-i ... t-2 t-1 and Y contains the data for times t\n",
    "look_back = 6 # here we will only look at the previous datapoint to predict the next one\n",
    "forward = 6\n",
    "trainX_6_6, trainY_6_6 = split_X_y(norm_train, look_back, forward)\n",
    "testX_6_6, testY_6_6 = split_X_y(norm_test, look_back, forward)\n",
    "\n",
    "# # reshape input to be [samples, time steps, features]\n",
    "trainX_6_6 = np.reshape(trainX_6_6, (trainX_6_6.shape[0], 1, trainX_6_6.shape[1]))\n",
    "testX_6_6 = np.reshape(testX_6_6, (testX_6_6.shape[0], 1, testX_6_6.shape[1]))\n",
    "\n",
    "print(trainX_6_6.shape)\n",
    "print(trainY_6_6.shape)\n",
    "print(testX_6_6.shape)\n",
    "print(testY_6_6.shape)"
   ]
  },
  {
   "cell_type": "code",
   "execution_count": 136,
   "metadata": {},
   "outputs": [
    {
     "name": "stdout",
     "output_type": "stream",
     "text": [
      "Epoch 1/20\n",
      "8748/8748 - 31s - loss: 0.0103\n",
      "Epoch 2/20\n",
      "8748/8748 - 27s - loss: 0.0090\n",
      "Epoch 3/20\n",
      "8748/8748 - 27s - loss: 0.0089\n",
      "Epoch 4/20\n",
      "8748/8748 - 29s - loss: 0.0088\n",
      "Epoch 5/20\n",
      "8748/8748 - 29s - loss: 0.0087\n",
      "Epoch 6/20\n",
      "8748/8748 - 28s - loss: 0.0087\n",
      "Epoch 7/20\n",
      "8748/8748 - 29s - loss: 0.0086\n",
      "Epoch 8/20\n",
      "8748/8748 - 28s - loss: 0.0086\n",
      "Epoch 9/20\n",
      "8748/8748 - 27s - loss: 0.0086\n",
      "Epoch 10/20\n",
      "8748/8748 - 29s - loss: 0.0085\n",
      "Epoch 11/20\n",
      "8748/8748 - 28s - loss: 0.0086\n",
      "Epoch 12/20\n",
      "8748/8748 - 28s - loss: 0.0085\n",
      "Epoch 13/20\n",
      "8748/8748 - 29s - loss: 0.0085\n",
      "Epoch 14/20\n",
      "8748/8748 - 29s - loss: 0.0085\n",
      "Epoch 15/20\n",
      "8748/8748 - 29s - loss: 0.0085\n",
      "Epoch 16/20\n",
      "8748/8748 - 30s - loss: 0.0084\n",
      "Epoch 17/20\n",
      "8748/8748 - 30s - loss: 0.0085\n",
      "Epoch 18/20\n",
      "8748/8748 - 30s - loss: 0.0084\n",
      "Epoch 19/20\n",
      "8748/8748 - 29s - loss: 0.0084\n",
      "Epoch 20/20\n",
      "8748/8748 - 29s - loss: 0.0084\n"
     ]
    },
    {
     "data": {
      "text/plain": [
       "<keras.callbacks.History at 0x1983a4e8a30>"
      ]
     },
     "execution_count": 136,
     "metadata": {},
     "output_type": "execute_result"
    }
   ],
   "source": [
    "# create and fit the LSTM network\n",
    "model_6_6 = Sequential()\n",
    "model_6_6.add(LSTM(4, input_shape=(1, look_back)))\n",
    "model_6_6.add(Dense(1))\n",
    "model_6_6.compile(loss='mean_squared_error', optimizer='adam')\n",
    "model_6_6.fit(trainX_6_6, trainY_6_6, epochs=20, batch_size=1, verbose=2)"
   ]
  },
  {
   "cell_type": "code",
   "execution_count": 137,
   "metadata": {},
   "outputs": [
    {
     "name": "stdout",
     "output_type": "stream",
     "text": [
      "Train Score: 1.5285 RMSE\n",
      "Test Score: 1.5732 RMSE\n"
     ]
    }
   ],
   "source": [
    "# make predictions\n",
    "trainPredict_6_6 = model_6_6.predict(trainX_6_6)\n",
    "testPredict_6_6 = model_6_6.predict(testX_6_6)\n",
    "\n",
    "# reshape labels\n",
    "# trainY_6h = trainY_6h.reshape((len(trainY_6h), 1))\n",
    "# testY_6h = testY_6h.reshape((len(testY_6h), 1))\n",
    "\n",
    "# invert predictions\n",
    "trainPredict_6_6 = scaler.inverse_transform(trainPredict_6_6)\n",
    "trainYTrue_6_6 = scaler.inverse_transform(trainY_6_6)\n",
    "testPredict_6_6 = scaler.inverse_transform(testPredict_6_6)\n",
    "testYTrue_6_6 = scaler.inverse_transform(testY_6_6)\n",
    "\n",
    "# calculate root mean squared error\n",
    "trainScore_6_6 = math.sqrt(mean_squared_error(trainYTrue_6_6, trainPredict_6_6))\n",
    "print('Train Score: %.4f RMSE' % (trainScore_6_6))\n",
    "testScore_6_6 = math.sqrt(mean_squared_error(testYTrue_6_6, testPredict_6_6))\n",
    "print('Test Score: %.4f RMSE' % (testScore_6_6))"
   ]
  },
  {
   "cell_type": "code",
   "execution_count": 138,
   "metadata": {},
   "outputs": [
    {
     "data": {
      "text/plain": [
       "<matplotlib.legend.Legend at 0x1983169e850>"
      ]
     },
     "execution_count": 138,
     "metadata": {},
     "output_type": "execute_result"
    },
    {
     "data": {
      "image/png": "[encoded data removed]",
      "text/plain": [
       "<Figure size 720x360 with 1 Axes>"
      ]
     },
     "metadata": {
      "needs_background": "light"
     },
     "output_type": "display_data"
    }
   ],
   "source": [
    "plt.figure(figsize=[10,5])\n",
    "plt.xlabel('TimePoint in hours')\n",
    "plt.ylabel('$u_{10}[m/s]$')\n",
    "plt.grid()\n",
    "plt.plot(range(250), testYTrue_6_6[:250],'k.')\n",
    "plt.plot(range(250),testPredict_6_6[:250],'r')\n",
    "plt.legend(['Actual','Predicted'])"
   ]
  },
  {
   "cell_type": "markdown",
   "metadata": {},
   "source": [
    "## 24h lookback, 6h w przód"
   ]
  },
  {
   "cell_type": "code",
   "execution_count": 123,
   "metadata": {},
   "outputs": [
    {
     "name": "stdout",
     "output_type": "stream",
     "text": [
      "(8730, 1, 24)\n",
      "(8730, 1)\n",
      "(8730, 1, 24)\n",
      "(8730, 1)\n"
     ]
    }
   ],
   "source": [
    "# reshape into X contains the data for times t-i ... t-2 t-1 and Y contains the data for times t\n",
    "look_back = 24 # here we will only look at the previous datapoint to predict the next one\n",
    "forward = 6\n",
    "trainX_24_6, trainY_24_6 = split_X_y(norm_train, look_back, forward)\n",
    "testX_24_6, testY_24_6 = split_X_y(norm_test, look_back, forward)\n",
    "\n",
    "# # reshape input to be [samples, time steps, features]\n",
    "trainX_24_6 = np.reshape(trainX_24_6, (trainX_24_6.shape[0], 1, trainX_24_6.shape[1]))\n",
    "testX_24_6 = np.reshape(testX_24_6, (testX_24_6.shape[0], 1, testX_24_6.shape[1]))\n",
    "\n",
    "print(trainX_24_6.shape)\n",
    "print(trainY_24_6.shape)\n",
    "print(testX_24_6.shape)\n",
    "print(testY_24_6.shape)"
   ]
  },
  {
   "cell_type": "code",
   "execution_count": 124,
   "metadata": {},
   "outputs": [
    {
     "name": "stdout",
     "output_type": "stream",
     "text": [
      "Epoch 1/20\n",
      "273/273 [==============================] - 3s 5ms/step - loss: 0.0224\n",
      "Epoch 2/20\n",
      "273/273 [==============================] - 1s 4ms/step - loss: 0.0126\n",
      "Epoch 3/20\n",
      "273/273 [==============================] - 1s 5ms/step - loss: 0.0113\n",
      "Epoch 4/20\n",
      "273/273 [==============================] - 1s 5ms/step - loss: 0.0105\n",
      "Epoch 5/20\n",
      "273/273 [==============================] - 1s 5ms/step - loss: 0.0099\n",
      "Epoch 6/20\n",
      "273/273 [==============================] - 1s 5ms/step - loss: 0.0096\n",
      "Epoch 7/20\n",
      "273/273 [==============================] - 1s 5ms/step - loss: 0.0093\n",
      "Epoch 8/20\n",
      "273/273 [==============================] - 1s 5ms/step - loss: 0.0092\n",
      "Epoch 9/20\n",
      "273/273 [==============================] - 1s 5ms/step - loss: 0.0092\n",
      "Epoch 10/20\n",
      "273/273 [==============================] - 1s 5ms/step - loss: 0.0091\n",
      "Epoch 11/20\n",
      "273/273 [==============================] - 1s 5ms/step - loss: 0.0090\n",
      "Epoch 12/20\n",
      "273/273 [==============================] - 1s 5ms/step - loss: 0.0089\n",
      "Epoch 13/20\n",
      "273/273 [==============================] - 1s 5ms/step - loss: 0.0089\n",
      "Epoch 14/20\n",
      "273/273 [==============================] - 1s 5ms/step - loss: 0.0088\n",
      "Epoch 15/20\n",
      "273/273 [==============================] - 1s 5ms/step - loss: 0.0088\n",
      "Epoch 16/20\n",
      "273/273 [==============================] - 1s 5ms/step - loss: 0.0088\n",
      "Epoch 17/20\n",
      "273/273 [==============================] - 1s 5ms/step - loss: 0.0087\n",
      "Epoch 18/20\n",
      "273/273 [==============================] - 1s 5ms/step - loss: 0.0087\n",
      "Epoch 19/20\n",
      "273/273 [==============================] - 1s 5ms/step - loss: 0.0087\n",
      "Epoch 20/20\n",
      "273/273 [==============================] - 1s 5ms/step - loss: 0.0086\n"
     ]
    },
    {
     "data": {
      "text/plain": [
       "<keras.callbacks.History at 0x13bf71056a0>"
      ]
     },
     "execution_count": 124,
     "metadata": {},
     "output_type": "execute_result"
    }
   ],
   "source": [
    "# create and fit the LSTM network\n",
    "model_24_6 = Sequential()\n",
    "model_24_6.add(LSTM(4, input_shape=(1, look_back)))\n",
    "model_24_6.add(Dense(1))\n",
    "model_24_6.compile(loss='mean_squared_error', optimizer='adam')\n",
    "model_24_6.fit(trainX_24_6, trainY_24_6, epochs=20, batch_size=32, verbose=1)"
   ]
  },
  {
   "cell_type": "code",
   "execution_count": 125,
   "metadata": {},
   "outputs": [
    {
     "name": "stdout",
     "output_type": "stream",
     "text": [
      "Train Score: 1.5001 RMSE\n",
      "Test Score: 1.5706 RMSE\n"
     ]
    }
   ],
   "source": [
    "# make predictions\n",
    "trainPredict_24_6 = model_24_6.predict(trainX_24_6)\n",
    "testPredict_24_6 = model_24_6.predict(testX_24_6)\n",
    "\n",
    "# invert predictions\n",
    "trainPredict_24_6 = scaler.inverse_transform(trainPredict_24_6)\n",
    "trainYTrue_24_6 = scaler.inverse_transform(trainY_24_6)\n",
    "testPredict_24_6 = scaler.inverse_transform(testPredict_24_6)\n",
    "testYTrue_24_6 = scaler.inverse_transform(testY_24_6)\n",
    "\n",
    "# calculate root mean squared error\n",
    "trainScore_24_6 = math.sqrt(mean_squared_error(trainYTrue_24_6, trainPredict_24_6))\n",
    "print('Train Score: %.4f RMSE' % (trainScore_24_6))\n",
    "testScore_24_6 = math.sqrt(mean_squared_error(testYTrue_24_6, testPredict_24_6))\n",
    "print('Test Score: %.4f RMSE' % (testScore_24_6))"
   ]
  },
  {
   "cell_type": "code",
   "execution_count": 126,
   "metadata": {},
   "outputs": [
    {
     "data": {
      "text/plain": [
       "<matplotlib.legend.Legend at 0x13c1ae44730>"
      ]
     },
     "execution_count": 126,
     "metadata": {},
     "output_type": "execute_result"
    },
    {
     "data": {
      "image/png": "[encoded data removed]",
      "text/plain": [
       "<Figure size 720x360 with 1 Axes>"
      ]
     },
     "metadata": {
      "needs_background": "light"
     },
     "output_type": "display_data"
    }
   ],
   "source": [
    "plt.figure(figsize=[10,5])\n",
    "plt.xlabel('TimePoint in hours')\n",
    "plt.ylabel('$u_{10}[m/s]$')\n",
    "plt.grid()\n",
    "plt.plot(range(250), testYTrue_24_6[:250],'k.')\n",
    "plt.plot(range(250),testPredict_24_6[:250],'r')\n",
    "plt.legend(['Actual','Predicted'])"
   ]
  },
  {
   "cell_type": "markdown",
   "metadata": {},
   "source": [
    "## Bardziej złożone modele (<-24h/6h->):"
   ]
  },
  {
   "cell_type": "markdown",
   "metadata": {},
   "source": [
    "Dense:"
   ]
  },
  {
   "cell_type": "code",
   "execution_count": 13,
   "metadata": {},
   "outputs": [
    {
     "name": "stdout",
     "output_type": "stream",
     "text": [
      "(8730, 1, 24)\n",
      "(8730, 1)\n",
      "(8730, 1, 24)\n",
      "(8730, 1)\n"
     ]
    }
   ],
   "source": [
    "# reshape into X contains the data for times t-i ... t-2 t-1 and Y contains the data for times t\n",
    "look_back = 24 # here we will only look at the previous datapoint to predict the next one\n",
    "forward = 6\n",
    "trainX_24_6, trainY_24_6 = split_X_y(norm_train, look_back, forward)\n",
    "testX_24_6, testY_24_6 = split_X_y(norm_test, look_back, forward)\n",
    "\n",
    "# # reshape input to be [samples, time steps, features]\n",
    "trainX_24_6 = np.reshape(trainX_24_6, (trainX_24_6.shape[0], 1, trainX_24_6.shape[1]))\n",
    "testX_24_6 = np.reshape(testX_24_6, (testX_24_6.shape[0], 1, testX_24_6.shape[1]))\n",
    "\n",
    "print(trainX_24_6.shape)\n",
    "print(trainY_24_6.shape)\n",
    "print(testX_24_6.shape)\n",
    "print(testY_24_6.shape)"
   ]
  },
  {
   "cell_type": "code",
   "execution_count": 17,
   "metadata": {},
   "outputs": [
    {
     "name": "stdout",
     "output_type": "stream",
     "text": [
      "Epoch 1/20\n",
      "273/273 [==============================] - 3s 8ms/step - loss: 0.0169\n",
      "Epoch 2/20\n",
      "273/273 [==============================] - 2s 8ms/step - loss: 0.0115\n",
      "Epoch 3/20\n",
      "273/273 [==============================] - 2s 7ms/step - loss: 0.0113\n",
      "Epoch 4/20\n",
      "273/273 [==============================] - 2s 7ms/step - loss: 0.0111\n",
      "Epoch 5/20\n",
      "273/273 [==============================] - 2s 7ms/step - loss: 0.0110\n",
      "Epoch 6/20\n",
      "273/273 [==============================] - 2s 7ms/step - loss: 0.0110\n",
      "Epoch 7/20\n",
      "273/273 [==============================] - 2s 6ms/step - loss: 0.0108\n",
      "Epoch 8/20\n",
      "273/273 [==============================] - 2s 8ms/step - loss: 0.0107\n",
      "Epoch 9/20\n",
      "273/273 [==============================] - 2s 6ms/step - loss: 0.0107\n",
      "Epoch 10/20\n",
      "273/273 [==============================] - 2s 7ms/step - loss: 0.0107\n",
      "Epoch 11/20\n",
      "273/273 [==============================] - 2s 7ms/step - loss: 0.0105\n",
      "Epoch 12/20\n",
      "273/273 [==============================] - 2s 6ms/step - loss: 0.0106\n",
      "Epoch 13/20\n",
      "273/273 [==============================] - 2s 8ms/step - loss: 0.0105\n",
      "Epoch 14/20\n",
      "273/273 [==============================] - 2s 8ms/step - loss: 0.0105\n",
      "Epoch 15/20\n",
      "273/273 [==============================] - 2s 7ms/step - loss: 0.0106\n"
     ]
    },
    {
     "data": {
      "text/plain": [
       "<keras.callbacks.History at 0x16f3e9b2790>"
      ]
     },
     "execution_count": 17,
     "metadata": {},
     "output_type": "execute_result"
    }
   ],
   "source": [
    "from tensorflow.keras.callbacks import EarlyStopping\n",
    "early_stopping = EarlyStopping(monitor='loss', patience=2, mode='min')\n",
    "\n",
    "model_24_6_dense = Sequential()\n",
    "model_24_6_dense.add(Dense(24, input_shape=(1, look_back), activation='relu'))\n",
    "# model_24_6_dense.add(Dropout(0.5))\n",
    "model_24_6_dense.add(Dense(24, activation='relu'))\n",
    "model_24_6_dense.add(Dense(24, activation='relu'))\n",
    "model_24_6_dense.add(Dense(1))\n",
    "model_24_6_dense.add(Reshape([1]))\n",
    "model_24_6_dense.compile(loss='mean_squared_error', optimizer='adam')\n",
    "\n",
    "model_24_6_dense.fit(trainX_24_6, trainY_24_6, epochs=20, batch_size=32, verbose=1, callbacks=[early_stopping])"
   ]
  },
  {
   "cell_type": "code",
   "execution_count": 27,
   "metadata": {},
   "outputs": [
    {
     "name": "stdout",
     "output_type": "stream",
     "text": [
      "Train Score: 1.1315 RMSE\n",
      "Test Score: 1.2029 RMSE\n"
     ]
    }
   ],
   "source": [
    "# make predictions\n",
    "trainPredict_24_6 = model_24_6_dense.predict(trainX_24_6)\n",
    "testPredict_24_6 = model_24_6_dense.predict(testX_24_6)\n",
    "\n",
    "# invert predictions\n",
    "trainPredict_24_6 = scaler.inverse_transform(trainPredict_24_6)\n",
    "trainYTrue_24_6 = scaler.inverse_transform(trainY_24_6)\n",
    "testPredict_24_6 = scaler.inverse_transform(testPredict_24_6)\n",
    "testYTrue_24_6 = scaler.inverse_transform(testY_24_6)\n",
    "\n",
    "# calculate root mean squared error\n",
    "trainScore_24_6 = math.sqrt(mean_squared_error(trainYTrue_24_6, trainPredict_24_6))\n",
    "print('Train Score: %.4f RMSE' % (trainScore_24_6))\n",
    "testScore_24_6 = math.sqrt(mean_squared_error(testYTrue_24_6, testPredict_24_6))\n",
    "print('Test Score: %.4f RMSE' % (testScore_24_6))"
   ]
  },
  {
   "cell_type": "code",
   "execution_count": 28,
   "metadata": {},
   "outputs": [
    {
     "data": {
      "text/plain": [
       "Text(0.5, 1.0, 'Sample predictions - dense model')"
      ]
     },
     "execution_count": 28,
     "metadata": {},
     "output_type": "execute_result"
    },
    {
     "data": {
      "image/png": "[encoded data removed]",
      "text/plain": [
       "<Figure size 720x360 with 1 Axes>"
      ]
     },
     "metadata": {
      "needs_background": "light"
     },
     "output_type": "display_data"
    }
   ],
   "source": [
    "plt.figure(figsize=[10,5])\n",
    "plt.xlabel('TimePoint in hours')\n",
    "plt.ylabel('$windspeed_{10}[m/s]$')\n",
    "# plt.grid()\n",
    "plt.plot(range(250), testYTrue_24_6[:250],'k.')\n",
    "plt.plot(range(250),testPredict_24_6[:250],'r')\n",
    "plt.legend(['Actual','Predicted'])\n",
    "plt.title(\"Sample predictions - dense model\")"
   ]
  },
  {
   "cell_type": "markdown",
   "metadata": {},
   "source": [
    "## LSTM"
   ]
  },
  {
   "cell_type": "code",
   "execution_count": 20,
   "metadata": {},
   "outputs": [
    {
     "name": "stdout",
     "output_type": "stream",
     "text": [
      "Epoch 1/20\n",
      "273/273 [==============================] - 10s 9ms/step - loss: 0.0215\n",
      "Epoch 2/20\n",
      "273/273 [==============================] - 2s 9ms/step - loss: 0.0121\n",
      "Epoch 3/20\n",
      "273/273 [==============================] - 3s 9ms/step - loss: 0.0114\n",
      "Epoch 4/20\n",
      "273/273 [==============================] - 3s 10ms/step - loss: 0.0113\n",
      "Epoch 5/20\n",
      "273/273 [==============================] - 3s 9ms/step - loss: 0.0111\n",
      "Epoch 6/20\n",
      "273/273 [==============================] - 3s 10ms/step - loss: 0.0111\n",
      "Epoch 7/20\n",
      "273/273 [==============================] - 3s 9ms/step - loss: 0.0110\n",
      "Epoch 8/20\n",
      "273/273 [==============================] - 3s 9ms/step - loss: 0.0109\n",
      "Epoch 9/20\n",
      "273/273 [==============================] - 3s 9ms/step - loss: 0.0109\n",
      "Epoch 10/20\n",
      "273/273 [==============================] - 3s 9ms/step - loss: 0.0108\n",
      "Epoch 11/20\n",
      "273/273 [==============================] - 2s 9ms/step - loss: 0.0109\n",
      "Epoch 12/20\n",
      "273/273 [==============================] - 2s 9ms/step - loss: 0.0108\n",
      "Epoch 13/20\n",
      "273/273 [==============================] - 3s 10ms/step - loss: 0.0108\n",
      "Epoch 14/20\n",
      "273/273 [==============================] - 3s 9ms/step - loss: 0.0108\n",
      "Epoch 15/20\n",
      "273/273 [==============================] - 3s 9ms/step - loss: 0.0108\n",
      "Epoch 16/20\n",
      "273/273 [==============================] - 3s 10ms/step - loss: 0.0107\n",
      "Epoch 17/20\n",
      "273/273 [==============================] - 2s 9ms/step - loss: 0.0107\n",
      "Epoch 18/20\n",
      "273/273 [==============================] - 2s 9ms/step - loss: 0.0108\n"
     ]
    },
    {
     "data": {
      "text/plain": [
       "<keras.callbacks.History at 0x16f2a75bd30>"
      ]
     },
     "execution_count": 20,
     "metadata": {},
     "output_type": "execute_result"
    }
   ],
   "source": [
    "model_24_6_lstm = Sequential()\n",
    "model_24_6_lstm.add(LSTM(24, input_shape=(1, look_back), return_sequences=True))\n",
    "# model_24_6_lstm.add(Dropout(0.5))\n",
    "model_24_6_lstm.add(LSTM(24, return_sequences=True))\n",
    "# model_24_6_lstm.add(Dropout(0.5))\n",
    "model_24_6_lstm.add(LSTM(24))\n",
    "# model_24_6_lstm.add(Dropout(0.5))\n",
    "model_24_6_lstm.add(Dense(1))\n",
    "model_24_6_lstm.compile(loss='mean_squared_error', optimizer='adam')\n",
    "model_24_6_lstm.fit(trainX_24_6, trainY_24_6, epochs=20, batch_size=32, verbose=1, callbacks=[early_stopping])"
   ]
  },
  {
   "cell_type": "code",
   "execution_count": 29,
   "metadata": {},
   "outputs": [
    {
     "name": "stdout",
     "output_type": "stream",
     "text": [
      "Train Score: 1.1574 RMSE\n",
      "Test Score: 1.2134 RMSE\n"
     ]
    }
   ],
   "source": [
    "# make predictions\n",
    "trainPredict_24_6 = model_24_6_lstm.predict(trainX_24_6)\n",
    "testPredict_24_6 = model_24_6_lstm.predict(testX_24_6)\n",
    "\n",
    "# invert predictions\n",
    "trainPredict_24_6 = scaler.inverse_transform(trainPredict_24_6)\n",
    "trainYTrue_24_6 = scaler.inverse_transform(trainY_24_6)\n",
    "testPredict_24_6 = scaler.inverse_transform(testPredict_24_6)\n",
    "testYTrue_24_6 = scaler.inverse_transform(testY_24_6)\n",
    "\n",
    "# calculate root mean squared error\n",
    "trainScore_24_6 = math.sqrt(mean_squared_error(trainYTrue_24_6, trainPredict_24_6))\n",
    "print('Train Score: %.4f RMSE' % (trainScore_24_6))\n",
    "testScore_24_6 = math.sqrt(mean_squared_error(testYTrue_24_6, testPredict_24_6))\n",
    "print('Test Score: %.4f RMSE' % (testScore_24_6))"
   ]
  },
  {
   "cell_type": "code",
   "execution_count": 22,
   "metadata": {},
   "outputs": [
    {
     "data": {
      "text/plain": [
       "<matplotlib.legend.Legend at 0x16f23ac8fd0>"
      ]
     },
     "execution_count": 22,
     "metadata": {},
     "output_type": "execute_result"
    },
    {
     "data": {
      "image/png": "[encoded data removed]",
      "text/plain": [
       "<Figure size 720x360 with 1 Axes>"
      ]
     },
     "metadata": {
      "needs_background": "light"
     },
     "output_type": "display_data"
    }
   ],
   "source": [
    "plt.figure(figsize=[10,5])\n",
    "plt.xlabel('TimePoint in hours')\n",
    "plt.ylabel('$windspeed_{10}[m/s]$')\n",
    "# plt.grid()\n",
    "plt.plot(range(250), testYTrue_24_6[:250],'k.')\n",
    "plt.plot(range(250),testPredict_24_6[:250],'r')\n",
    "plt.legend(['Actual','Predicted'])"
   ]
  },
  {
   "cell_type": "markdown",
   "metadata": {},
   "source": [
    "## GRU"
   ]
  },
  {
   "cell_type": "code",
   "execution_count": 89,
   "metadata": {},
   "outputs": [],
   "source": [
    "from tensorflow import keras\n",
    "model_24_6_gru = Sequential([\n",
    "    keras.layers.Conv1D(filters=20, kernel_size=1, strides=2, padding=\"valid\",\n",
    "                        input_shape=[1, look_back]),\n",
    "    keras.layers.GRU(20, return_sequences=True),\n",
    "    keras.layers.GRU(20, return_sequences=True),\n",
    "    keras.layers.Dense(1),\n",
    "    keras.layers.Reshape([1])\n",
    "])"
   ]
  },
  {
   "cell_type": "code",
   "execution_count": 90,
   "metadata": {},
   "outputs": [
    {
     "name": "stdout",
     "output_type": "stream",
     "text": [
      "Epoch 1/20\n",
      "273/273 [==============================] - 10s 8ms/step - loss: 0.0142: 0s - \n",
      "Epoch 2/20\n",
      "273/273 [==============================] - 2s 8ms/step - loss: 0.0118\n",
      "Epoch 3/20\n",
      "273/273 [==============================] - 2s 8ms/step - loss: 0.0114\n",
      "Epoch 4/20\n",
      "273/273 [==============================] - 2s 8ms/step - loss: 0.0112\n",
      "Epoch 5/20\n",
      "273/273 [==============================] - 2s 8ms/step - loss: 0.0109\n",
      "Epoch 6/20\n",
      "273/273 [==============================] - 2s 8ms/step - loss: 0.0108\n",
      "Epoch 7/20\n",
      "273/273 [==============================] - 2s 8ms/step - loss: 0.0109\n",
      "Epoch 8/20\n",
      "273/273 [==============================] - 2s 9ms/step - loss: 0.0109\n"
     ]
    },
    {
     "data": {
      "text/plain": [
       "<keras.callbacks.History at 0x2a8cc82d820>"
      ]
     },
     "execution_count": 90,
     "metadata": {},
     "output_type": "execute_result"
    }
   ],
   "source": [
    "model_24_6_gru.compile(loss='mean_squared_error', optimizer='adam')\n",
    "model_24_6_gru.fit(trainX_24_6, trainY_24_6, epochs=20, batch_size=32, verbose=1, callbacks=[early_stopping])"
   ]
  },
  {
   "cell_type": "code",
   "execution_count": 92,
   "metadata": {},
   "outputs": [
    {
     "name": "stdout",
     "output_type": "stream",
     "text": [
      "Train Score: 1.1489 RMSE\n",
      "Test Score: 1.1969 RMSE\n"
     ]
    }
   ],
   "source": [
    "# make predictions\n",
    "trainPredict_24_6 = model_24_6_gru.predict(trainX_24_6)\n",
    "testPredict_24_6 = model_24_6_gru.predict(testX_24_6)\n",
    "\n",
    "# invert predictions\n",
    "trainPredict_24_6 = scaler.inverse_transform(trainPredict_24_6)\n",
    "trainYTrue_24_6 = scaler.inverse_transform(trainY_24_6)\n",
    "testPredict_24_6 = scaler.inverse_transform(testPredict_24_6)\n",
    "testYTrue_24_6 = scaler.inverse_transform(testY_24_6)\n",
    "\n",
    "# calculate root mean squared error\n",
    "trainScore_24_6 = math.sqrt(mean_squared_error(trainYTrue_24_6, trainPredict_24_6))\n",
    "print('Train Score: %.4f RMSE' % (trainScore_24_6))\n",
    "testScore_24_6 = math.sqrt(mean_squared_error(testYTrue_24_6, testPredict_24_6))\n",
    "print('Test Score: %.4f RMSE' % (testScore_24_6))"
   ]
  },
  {
   "cell_type": "code",
   "execution_count": 93,
   "metadata": {},
   "outputs": [
    {
     "data": {
      "text/plain": [
       "<matplotlib.legend.Legend at 0x2a8e9e51850>"
      ]
     },
     "execution_count": 93,
     "metadata": {},
     "output_type": "execute_result"
    },
    {
     "data": {
      "image/png": "[encoded data removed]",
      "text/plain": [
       "<Figure size 720x360 with 1 Axes>"
      ]
     },
     "metadata": {
      "needs_background": "light"
     },
     "output_type": "display_data"
    }
   ],
   "source": [
    "plt.figure(figsize=[10,5])\n",
    "plt.xlabel('TimePoint in hours')\n",
    "plt.ylabel('$windspeed_{10}[m/s]$')\n",
    "# plt.grid()\n",
    "plt.plot(range(250), testYTrue_24_6[:250],'k.')\n",
    "plt.plot(range(250),testPredict_24_6[:250],'r')\n",
    "plt.legend(['Actual','Predicted'])"
   ]
  },
  {
   "cell_type": "markdown",
   "metadata": {},
   "source": [
    "## Inne okresy testowe:"
   ]
  },
  {
   "cell_type": "markdown",
   "metadata": {},
   "source": [
    "Preparing data:"
   ]
  },
  {
   "cell_type": "code",
   "execution_count": 23,
   "metadata": {},
   "outputs": [],
   "source": [
    "years = range(2002,2020)\n",
    "years = [str(x) for x in years]\n",
    "\n",
    "datas = []\n",
    "for year in years:\n",
    "    test = df[df['Date Time']>=(year+'-01-01')]\n",
    "    test = test[test['Date Time']<(str(int(year)+1)+'-01-01')]\n",
    "    test = test['windspeed_10'].values\n",
    "    test = test.reshape((len(test),1))\n",
    "    datas.append(test)\n",
    "\n",
    "Xs = []\n",
    "ys = []\n",
    "look_back = 24\n",
    "forward = 6\n",
    "\n",
    "for data in datas:\n",
    "    data = scaler.transform(data)\n",
    "    X, Y = split_X_y(data, look_back, forward)\n",
    "    X = np.reshape(X, (X.shape[0], 1, X.shape[1]))\n",
    "    Xs.append(X)\n",
    "    ys.append(Y)"
   ]
  },
  {
   "cell_type": "code",
   "execution_count": 65,
   "metadata": {},
   "outputs": [],
   "source": [
    "# def mean_baseline(X):\n",
    "#     Y = []\n",
    "#     for item in X:\n",
    "#         Y.append(np.mean(item[0]))\n",
    "#     Y = np.array(Y).reshape(len(Y),1)\n",
    "#     return Y\n",
    "\n",
    "# def last_baseline(X):\n",
    "#     Y = []\n",
    "#     for item in X:\n",
    "#         Y.append(item[0][-1])\n",
    "#     Y = np.array(Y).reshape(len(Y),1)\n",
    "#     return Y\n",
    "\n",
    "class mean_baseline():\n",
    "    def predict(X):\n",
    "        Y = []\n",
    "        for item in X:\n",
    "            Y.append(np.mean(item))\n",
    "        Y = np.array(Y).reshape(len(Y),1)\n",
    "        return Y\n",
    "\n",
    "class last_baseline():\n",
    "    def predict(X):\n",
    "        Y = []\n",
    "        for item in X:\n",
    "            Y.append(item[0][-1])\n",
    "        Y = np.array(Y).reshape(len(Y),1)\n",
    "        return Y\n",
    "\n",
    "mean = mean_baseline\n",
    "last = last_baseline"
   ]
  },
  {
   "cell_type": "code",
   "execution_count": 66,
   "metadata": {},
   "outputs": [
    {
     "data": {
      "text/plain": [
       "Text(0.5, 0, 'RMSE for years 2002-2020')"
      ]
     },
     "execution_count": 66,
     "metadata": {},
     "output_type": "execute_result"
    },
    {
     "data": {
      "image/png": "[encoded data removed]",
      "text/plain": [
       "<Figure size 720x576 with 1 Axes>"
      ]
     },
     "metadata": {
      "needs_background": "light"
     },
     "output_type": "display_data"
    }
   ],
   "source": [
    "models = {\n",
    "    \"dense\":model_24_6_dense, \n",
    "    \"lstm_dense\":model_24_6_lstm,\n",
    "    \"last\": last,\n",
    "    \"mean\": mean \n",
    "}\n",
    "scores = {}\n",
    "for key, model in models.items():\n",
    "    rmses = []\n",
    "    for i in range(len(years)):\n",
    "        pred = model.predict(Xs[i])\n",
    "        pred = scaler.inverse_transform(pred)\n",
    "        y_true = scaler.inverse_transform(ys[i])\n",
    "        rmse = math.sqrt(mean_squared_error(y_true, pred))\n",
    "        rmses.append(rmse)\n",
    "    scores[key] = rmses\n",
    "\n",
    "# rmses = []\n",
    "# for i in range(len(years)):\n",
    "#     pred = mean_baseline(Xs[i])\n",
    "#     pred = scaler.inverse_transform(pred)\n",
    "#     y_true = scaler.inverse_transform(ys[i])\n",
    "#     rmse = math.sqrt(mean_squared_error(y_true, pred))\n",
    "#     rmses.append(rmse)\n",
    "# scores['mean_24h'] = rmses\n",
    "\n",
    "# rmses = []\n",
    "# for i in range(len(years)):\n",
    "#     pred = last_baseline(Xs[i])\n",
    "#     pred = scaler.inverse_transform(pred)\n",
    "#     y_true = scaler.inverse_transform(ys[i])\n",
    "#     rmse = math.sqrt(mean_squared_error(y_true, pred))\n",
    "#     rmses.append(rmse)\n",
    "# scores['last'] = rmses\n",
    "\n",
    "plt.figure(figsize=(10,8))\n",
    "plt.boxplot(scores.values(), vert=False, labels=scores.keys())\n",
    "plt.xlabel(\"RMSE for years 2002-2020\")"
   ]
  },
  {
   "cell_type": "code",
   "execution_count": null,
   "metadata": {},
   "outputs": [],
   "source": []
  }
 ],
 "metadata": {
  "interpreter": {
   "hash": "14a0229653987ca61a2fb4fcf28baab3bb6e12876bc336ac679ed1cfe1e45d08"
  },
  "kernelspec": {
   "display_name": "Python 3.9.7 ('tf_gpu')",
   "language": "python",
   "name": "python3"
  },
  "language_info": {
   "codemirror_mode": {
    "name": "ipython",
    "version": 3
   },
   "file_extension": ".py",
   "mimetype": "text/x-python",
   "name": "python",
   "nbconvert_exporter": "python",
   "pygments_lexer": "ipython3",
   "version": "3.9.7"
  },
  "orig_nbformat": 4
 },
 "nbformat": 4,
 "nbformat_minor": 2
}
