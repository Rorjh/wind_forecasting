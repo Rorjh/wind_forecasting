{
 "cells": [
  {
   "cell_type": "code",
   "execution_count": 156,
   "metadata": {},
   "outputs": [],
   "source": [
    "import pandas as pd\n",
    "import numpy as np\n",
    "import matplotlib.pyplot as plt\n",
    "import random\n",
    "import netCDF4\n",
    "from functions import *\n",
    "\n",
    "from math import sqrt\n",
    "from numpy import split\n",
    "from numpy import array\n",
    "from pandas import read_csv\n",
    "from sklearn.metrics import mean_squared_error\n",
    "from sklearn.preprocessing import MinMaxScaler\n",
    "from matplotlib import pyplot\n",
    "from tensorflow.keras.models import Sequential\n",
    "from tensorflow.keras.layers import Dense\n",
    "from tensorflow.keras.layers import LSTM\n",
    "from tensorflow.keras.layers import RepeatVector\n",
    "from tensorflow.keras.layers import TimeDistributed\n",
    "from tensorflow.keras.layers import Reshape\n",
    "from tensorflow import keras"
   ]
  },
  {
   "cell_type": "markdown",
   "metadata": {},
   "source": [
    "# Przygotowanie danych:\n",
    "\n",
    "From netCDF4 to tabular:"
   ]
  },
  {
   "cell_type": "code",
   "execution_count": 157,
   "metadata": {},
   "outputs": [],
   "source": [
    "# create training set (1994 - 2001, one gridpoint):\n",
    "def create_trainset(to_csv=False):\n",
    "    data = pd.DataFrame()\n",
    "    years = range(1994, 2002)\n",
    "    for year in years:\n",
    "        filename = 'workdir/data_raw/ERA5_area/data_area_'+str(year)+'.nc'\n",
    "        f = netCDF4.Dataset(filename)\n",
    "        var_names = ['t2m', 'd2m', 'msl', 'tp', 'u10', 'v10', 'u100', 'v100', 'ssrd']\n",
    "        # latitudes = f.variables['latitude'][:]\n",
    "        # longitudes = f.variables['longitude'][:]\n",
    "        times = netCDF4.num2date(f.variables['time'][:], f.variables['time'].units, only_use_cftime_datetimes=False, only_use_python_datetimes=True)\n",
    "        times = [t.isoformat() for t in times]\n",
    "\n",
    "        variables = {key: f.variables[key][:,4,4] for key in var_names}\n",
    "        df = pd.DataFrame({**{\n",
    "            'Date Time': times,\n",
    "            **variables\n",
    "        }})\n",
    "        df['Date Time'] = pd.to_datetime(df.pop('Date Time'), infer_datetime_format=True)\n",
    "        df['tp'] = df['tp'].fillna(0)\n",
    "        ssrd_new = df['ssrd']\n",
    "        ssrd_new = ssrd_new.where(ssrd_new>10, 0) / 3600 / 1000 #unit from [J/m^2] to [kW/m^2]\n",
    "        df['ssrd'] = ssrd_new\n",
    "        df['windspeed_10'] = (df['u10']**2 + df['v10']**2)**(1/2)\n",
    "        df['windspeed_100'] = (df['u100']**2 + df['v100']**2)**(1/2)\n",
    "        df.drop(labels=['u10', 'v10', 'u100', 'v100'], axis=1, inplace = True)\n",
    "\n",
    "        data = data.append(df)\n",
    "\n",
    "    if to_csv:\n",
    "        data.to_csv('data/data_spacial/trainset_[50,20].csv', index = False)\n",
    "\n",
    "    f.close()\n",
    "    return data\n",
    "\n",
    "train = create_trainset(to_csv=True)"
   ]
  },
  {
   "cell_type": "code",
   "execution_count": 158,
   "metadata": {},
   "outputs": [],
   "source": [
    "# Creating testsets (year 2002, all gridpoint):\n",
    "def create_datasets(filename, to_csv=False):\n",
    "    f = netCDF4.Dataset(filename)\n",
    "    var_names = ['t2m', 'd2m', 'msl', 'tp', 'u10', 'v10', 'u100', 'v100', 'ssrd']\n",
    "    latitudes = f.variables['latitude'][:]\n",
    "    longitudes = f.variables['longitude'][:]\n",
    "    times = netCDF4.num2date(f.variables['time'][:], f.variables['time'].units, only_use_cftime_datetimes=False, only_use_python_datetimes=True)\n",
    "    times = [t.isoformat() for t in times]\n",
    "    dataframes = []\n",
    "    for i in range(len(latitudes)):\n",
    "        row = []\n",
    "        for j in range(len(longitudes)):\n",
    "            variables = {key: f.variables[key][:,i,j] for key in var_names}\n",
    "            df = pd.DataFrame({**{\n",
    "                'Date Time': times,\n",
    "                **variables\n",
    "            }})\n",
    "            df['Date Time'] = pd.to_datetime(df.pop('Date Time'), infer_datetime_format=True)\n",
    "            df['tp'] = df['tp'].fillna(0)\n",
    "            ssrd_new = df['ssrd']\n",
    "            ssrd_new = ssrd_new.where(ssrd_new>10, 0) / 3600 / 1000 #unit from [J/m^2] to [kW/m^2]\n",
    "            df['ssrd'] = ssrd_new\n",
    "            df['windspeed_10'] = (df['u10']**2 + df['v10']**2)**(1/2)\n",
    "            df['windspeed_100'] = (df['u100']**2 + df['v100']**2)**(1/2)\n",
    "            df.drop(labels=['u10', 'v10', 'u100', 'v100'], axis=1, inplace = True)\n",
    "            row.append(df)\n",
    "            if to_csv:\n",
    "                df.to_csv('data/data_spacial/data_[{},{}].csv'.format(latitudes[i],longitudes[j]), index = False)\n",
    "        dataframes.append(row)\n",
    "    f.close()\n",
    "    return dataframes\n",
    "\n",
    "test_sets = create_datasets('workdir/data_raw/ERA5_area/data_area_2002.nc', to_csv=True)\n"
   ]
  },
  {
   "cell_type": "code",
   "execution_count": 159,
   "metadata": {},
   "outputs": [
    {
     "data": {
      "text/html": [
       "<div>\n",
       "<style scoped>\n",
       "    .dataframe tbody tr th:only-of-type {\n",
       "        vertical-align: middle;\n",
       "    }\n",
       "\n",
       "    .dataframe tbody tr th {\n",
       "        vertical-align: top;\n",
       "    }\n",
       "\n",
       "    .dataframe thead th {\n",
       "        text-align: right;\n",
       "    }\n",
       "</style>\n",
       "<table border=\"1\" class=\"dataframe\">\n",
       "  <thead>\n",
       "    <tr style=\"text-align: right;\">\n",
       "      <th></th>\n",
       "      <th>t2m</th>\n",
       "      <th>d2m</th>\n",
       "      <th>msl</th>\n",
       "      <th>tp</th>\n",
       "      <th>ssrd</th>\n",
       "      <th>Date Time</th>\n",
       "      <th>windspeed_10</th>\n",
       "      <th>windspeed_100</th>\n",
       "    </tr>\n",
       "  </thead>\n",
       "  <tbody>\n",
       "    <tr>\n",
       "      <th>0</th>\n",
       "      <td>266.380440</td>\n",
       "      <td>264.058589</td>\n",
       "      <td>102678.363977</td>\n",
       "      <td>0.000076</td>\n",
       "      <td>0.0</td>\n",
       "      <td>2002-01-01 00:00:00</td>\n",
       "      <td>6.263798</td>\n",
       "      <td>9.871162</td>\n",
       "    </tr>\n",
       "    <tr>\n",
       "      <th>1</th>\n",
       "      <td>266.168470</td>\n",
       "      <td>263.678457</td>\n",
       "      <td>102777.784631</td>\n",
       "      <td>0.000039</td>\n",
       "      <td>0.0</td>\n",
       "      <td>2002-01-01 01:00:00</td>\n",
       "      <td>6.185724</td>\n",
       "      <td>9.817204</td>\n",
       "    </tr>\n",
       "    <tr>\n",
       "      <th>2</th>\n",
       "      <td>265.287029</td>\n",
       "      <td>262.801167</td>\n",
       "      <td>102832.547484</td>\n",
       "      <td>0.000024</td>\n",
       "      <td>0.0</td>\n",
       "      <td>2002-01-01 02:00:00</td>\n",
       "      <td>6.041196</td>\n",
       "      <td>9.536901</td>\n",
       "    </tr>\n",
       "    <tr>\n",
       "      <th>3</th>\n",
       "      <td>265.521079</td>\n",
       "      <td>263.113755</td>\n",
       "      <td>102840.533733</td>\n",
       "      <td>0.000035</td>\n",
       "      <td>0.0</td>\n",
       "      <td>2002-01-01 03:00:00</td>\n",
       "      <td>5.805256</td>\n",
       "      <td>9.601193</td>\n",
       "    </tr>\n",
       "    <tr>\n",
       "      <th>4</th>\n",
       "      <td>265.930004</td>\n",
       "      <td>263.685525</td>\n",
       "      <td>102868.404113</td>\n",
       "      <td>0.000048</td>\n",
       "      <td>0.0</td>\n",
       "      <td>2002-01-01 04:00:00</td>\n",
       "      <td>5.926083</td>\n",
       "      <td>9.747236</td>\n",
       "    </tr>\n",
       "  </tbody>\n",
       "</table>\n",
       "</div>"
      ],
      "text/plain": [
       "          t2m         d2m            msl        tp  ssrd           Date Time  \\\n",
       "0  266.380440  264.058589  102678.363977  0.000076   0.0 2002-01-01 00:00:00   \n",
       "1  266.168470  263.678457  102777.784631  0.000039   0.0 2002-01-01 01:00:00   \n",
       "2  265.287029  262.801167  102832.547484  0.000024   0.0 2002-01-01 02:00:00   \n",
       "3  265.521079  263.113755  102840.533733  0.000035   0.0 2002-01-01 03:00:00   \n",
       "4  265.930004  263.685525  102868.404113  0.000048   0.0 2002-01-01 04:00:00   \n",
       "\n",
       "   windspeed_10  windspeed_100  \n",
       "0      6.263798       9.871162  \n",
       "1      6.185724       9.817204  \n",
       "2      6.041196       9.536901  \n",
       "3      5.805256       9.601193  \n",
       "4      5.926083       9.747236  "
      ]
     },
     "execution_count": 159,
     "metadata": {},
     "output_type": "execute_result"
    }
   ],
   "source": [
    "test_sets[4][4].head()"
   ]
  },
  {
   "cell_type": "code",
   "execution_count": 160,
   "metadata": {},
   "outputs": [
    {
     "data": {
      "text/html": [
       "<div>\n",
       "<style scoped>\n",
       "    .dataframe tbody tr th:only-of-type {\n",
       "        vertical-align: middle;\n",
       "    }\n",
       "\n",
       "    .dataframe tbody tr th {\n",
       "        vertical-align: top;\n",
       "    }\n",
       "\n",
       "    .dataframe thead th {\n",
       "        text-align: right;\n",
       "    }\n",
       "</style>\n",
       "<table border=\"1\" class=\"dataframe\">\n",
       "  <thead>\n",
       "    <tr style=\"text-align: right;\">\n",
       "      <th></th>\n",
       "      <th>t2m</th>\n",
       "      <th>d2m</th>\n",
       "      <th>msl</th>\n",
       "      <th>tp</th>\n",
       "      <th>ssrd</th>\n",
       "      <th>Date Time</th>\n",
       "      <th>windspeed_10</th>\n",
       "      <th>windspeed_100</th>\n",
       "    </tr>\n",
       "  </thead>\n",
       "  <tbody>\n",
       "    <tr>\n",
       "      <th>0</th>\n",
       "      <td>276.591677</td>\n",
       "      <td>273.597511</td>\n",
       "      <td>100506.631227</td>\n",
       "      <td>1.948620e-06</td>\n",
       "      <td>0.0</td>\n",
       "      <td>1994-01-01 00:00:00</td>\n",
       "      <td>2.114012</td>\n",
       "      <td>5.362126</td>\n",
       "    </tr>\n",
       "    <tr>\n",
       "      <th>1</th>\n",
       "      <td>276.239812</td>\n",
       "      <td>273.369413</td>\n",
       "      <td>100396.295800</td>\n",
       "      <td>4.871549e-07</td>\n",
       "      <td>0.0</td>\n",
       "      <td>1994-01-01 01:00:00</td>\n",
       "      <td>2.405844</td>\n",
       "      <td>5.321953</td>\n",
       "    </tr>\n",
       "    <tr>\n",
       "      <th>2</th>\n",
       "      <td>276.160179</td>\n",
       "      <td>273.007498</td>\n",
       "      <td>100208.275227</td>\n",
       "      <td>8.673617e-19</td>\n",
       "      <td>0.0</td>\n",
       "      <td>1994-01-01 02:00:00</td>\n",
       "      <td>2.965654</td>\n",
       "      <td>6.456440</td>\n",
       "    </tr>\n",
       "    <tr>\n",
       "      <th>3</th>\n",
       "      <td>276.464820</td>\n",
       "      <td>273.139795</td>\n",
       "      <td>100168.467620</td>\n",
       "      <td>8.673617e-19</td>\n",
       "      <td>0.0</td>\n",
       "      <td>1994-01-01 03:00:00</td>\n",
       "      <td>2.014695</td>\n",
       "      <td>4.494271</td>\n",
       "    </tr>\n",
       "    <tr>\n",
       "      <th>4</th>\n",
       "      <td>276.756498</td>\n",
       "      <td>273.067564</td>\n",
       "      <td>100306.869420</td>\n",
       "      <td>1.428988e-05</td>\n",
       "      <td>0.0</td>\n",
       "      <td>1994-01-01 04:00:00</td>\n",
       "      <td>2.988498</td>\n",
       "      <td>6.387397</td>\n",
       "    </tr>\n",
       "    <tr>\n",
       "      <th>...</th>\n",
       "      <td>...</td>\n",
       "      <td>...</td>\n",
       "      <td>...</td>\n",
       "      <td>...</td>\n",
       "      <td>...</td>\n",
       "      <td>...</td>\n",
       "      <td>...</td>\n",
       "      <td>...</td>\n",
       "    </tr>\n",
       "    <tr>\n",
       "      <th>8755</th>\n",
       "      <td>268.717000</td>\n",
       "      <td>266.967436</td>\n",
       "      <td>102182.766620</td>\n",
       "      <td>3.642980e-04</td>\n",
       "      <td>0.0</td>\n",
       "      <td>2001-12-31 19:00:00</td>\n",
       "      <td>4.235353</td>\n",
       "      <td>7.019902</td>\n",
       "    </tr>\n",
       "    <tr>\n",
       "      <th>8756</th>\n",
       "      <td>268.546893</td>\n",
       "      <td>266.427170</td>\n",
       "      <td>102303.229532</td>\n",
       "      <td>2.378932e-04</td>\n",
       "      <td>0.0</td>\n",
       "      <td>2001-12-31 20:00:00</td>\n",
       "      <td>4.918296</td>\n",
       "      <td>7.977007</td>\n",
       "    </tr>\n",
       "    <tr>\n",
       "      <th>8757</th>\n",
       "      <td>268.176911</td>\n",
       "      <td>266.142592</td>\n",
       "      <td>102400.924228</td>\n",
       "      <td>2.040622e-04</td>\n",
       "      <td>0.0</td>\n",
       "      <td>2001-12-31 21:00:00</td>\n",
       "      <td>5.307329</td>\n",
       "      <td>8.410772</td>\n",
       "    </tr>\n",
       "    <tr>\n",
       "      <th>8758</th>\n",
       "      <td>267.034643</td>\n",
       "      <td>264.759426</td>\n",
       "      <td>102492.450642</td>\n",
       "      <td>1.640802e-04</td>\n",
       "      <td>0.0</td>\n",
       "      <td>2001-12-31 22:00:00</td>\n",
       "      <td>5.672169</td>\n",
       "      <td>9.402993</td>\n",
       "    </tr>\n",
       "    <tr>\n",
       "      <th>8759</th>\n",
       "      <td>266.688475</td>\n",
       "      <td>264.539131</td>\n",
       "      <td>102578.988005</td>\n",
       "      <td>1.296341e-04</td>\n",
       "      <td>0.0</td>\n",
       "      <td>2001-12-31 23:00:00</td>\n",
       "      <td>5.949096</td>\n",
       "      <td>9.746099</td>\n",
       "    </tr>\n",
       "  </tbody>\n",
       "</table>\n",
       "<p>70128 rows × 8 columns</p>\n",
       "</div>"
      ],
      "text/plain": [
       "             t2m         d2m            msl            tp  ssrd  \\\n",
       "0     276.591677  273.597511  100506.631227  1.948620e-06   0.0   \n",
       "1     276.239812  273.369413  100396.295800  4.871549e-07   0.0   \n",
       "2     276.160179  273.007498  100208.275227  8.673617e-19   0.0   \n",
       "3     276.464820  273.139795  100168.467620  8.673617e-19   0.0   \n",
       "4     276.756498  273.067564  100306.869420  1.428988e-05   0.0   \n",
       "...          ...         ...            ...           ...   ...   \n",
       "8755  268.717000  266.967436  102182.766620  3.642980e-04   0.0   \n",
       "8756  268.546893  266.427170  102303.229532  2.378932e-04   0.0   \n",
       "8757  268.176911  266.142592  102400.924228  2.040622e-04   0.0   \n",
       "8758  267.034643  264.759426  102492.450642  1.640802e-04   0.0   \n",
       "8759  266.688475  264.539131  102578.988005  1.296341e-04   0.0   \n",
       "\n",
       "               Date Time  windspeed_10  windspeed_100  \n",
       "0    1994-01-01 00:00:00      2.114012       5.362126  \n",
       "1    1994-01-01 01:00:00      2.405844       5.321953  \n",
       "2    1994-01-01 02:00:00      2.965654       6.456440  \n",
       "3    1994-01-01 03:00:00      2.014695       4.494271  \n",
       "4    1994-01-01 04:00:00      2.988498       6.387397  \n",
       "...                  ...           ...            ...  \n",
       "8755 2001-12-31 19:00:00      4.235353       7.019902  \n",
       "8756 2001-12-31 20:00:00      4.918296       7.977007  \n",
       "8757 2001-12-31 21:00:00      5.307329       8.410772  \n",
       "8758 2001-12-31 22:00:00      5.672169       9.402993  \n",
       "8759 2001-12-31 23:00:00      5.949096       9.746099  \n",
       "\n",
       "[70128 rows x 8 columns]"
      ]
     },
     "execution_count": 160,
     "metadata": {},
     "output_type": "execute_result"
    }
   ],
   "source": [
    "train"
   ]
  },
  {
   "cell_type": "markdown",
   "metadata": {},
   "source": [
    "## Zamiana daty na sygnał"
   ]
  },
  {
   "cell_type": "code",
   "execution_count": 161,
   "metadata": {},
   "outputs": [],
   "source": [
    "def datetimeToSignal(df):\n",
    "    date_time = pd.to_datetime(df.pop('Date Time'), infer_datetime_format=True)\n",
    "\n",
    "    def datetime_to_seconds(dates):\n",
    "        return (float)((dates - pd.Timestamp(\"1970-01-01\")) // pd.Timedelta('1s'))\n",
    "\n",
    "    timestamp_s = date_time.map(datetime_to_seconds)\n",
    "\n",
    "    day = 24*60*60\n",
    "    year = (365.2425)*day\n",
    "\n",
    "    df['Day sin'] = np.sin(timestamp_s * (2 * np.pi / day))\n",
    "    df['Day cos'] = np.cos(timestamp_s * (2 * np.pi / day))\n",
    "    df['Year sin'] = np.sin(timestamp_s * (2 * np.pi / year))\n",
    "    df['Year cos'] = np.cos(timestamp_s * (2 * np.pi / year))\n",
    "    \n",
    "    return df"
   ]
  },
  {
   "cell_type": "code",
   "execution_count": 162,
   "metadata": {},
   "outputs": [
    {
     "data": {
      "text/plain": [
       "Text(0.5, 1.0, 'Time of day signal')"
      ]
     },
     "execution_count": 162,
     "metadata": {},
     "output_type": "execute_result"
    },
    {
     "data": {
      "image/png": "[encoded data removed]",
      "text/plain": [
       "<Figure size 432x288 with 1 Axes>"
      ]
     },
     "metadata": {
      "needs_background": "light"
     },
     "output_type": "display_data"
    }
   ],
   "source": [
    "train = datetimeToSignal(train)\n",
    "for i in range(len(test_sets)):\n",
    "    for j in range(len(test_sets[i])):\n",
    "        test_sets[i][j] = datetimeToSignal(test_sets[i][j])\n",
    "\n",
    "plt.plot(np.array(train['Day sin'])[:25])\n",
    "plt.plot(np.array(train['Day cos'])[:25])\n",
    "plt.xlabel('Time [h]')\n",
    "plt.title('Time of day signal')"
   ]
  },
  {
   "cell_type": "markdown",
   "metadata": {},
   "source": [
    "## Normalizacja"
   ]
  },
  {
   "cell_type": "code",
   "execution_count": 163,
   "metadata": {},
   "outputs": [],
   "source": [
    "values_train = train.values\n",
    "values_test = []\n",
    "for i in range(len(test_sets)):\n",
    "    buffer = []\n",
    "    for j in range(len(test_sets[i])):\n",
    "        buffer.append(test_sets[i][j].values)\n",
    "    values_test.append(buffer)\n",
    "\n",
    "# normalize features\n",
    "scaler = MinMaxScaler(feature_range=(0, 1))\n",
    "scaler.fit(values_train)\n",
    "scaler_y = MinMaxScaler(feature_range=(0, 1))\n",
    "scaler_y.fit(values_train[:,5].reshape(len(values_train),1))\n",
    "\n",
    "values_train = scaler.transform(values_train)\n",
    "for i in range(len(test_sets)):\n",
    "    for j in range(len(test_sets[i])):\n",
    "        values_test[i][j] = scaler.transform(values_test[i][j])"
   ]
  },
  {
   "cell_type": "markdown",
   "metadata": {},
   "source": [
    "## Zmiana szeregu czasowego na input/output"
   ]
  },
  {
   "cell_type": "code",
   "execution_count": 164,
   "metadata": {},
   "outputs": [],
   "source": [
    "# Multiple steps predicted:\n",
    "\n",
    "# # convert history into inputs and outputs\n",
    "# def to_supervised(data, n_input, n_out=1):\n",
    "#     X, y = list(), list()\n",
    "#     in_start = 0\n",
    "#     # step over the entire history one time step at a time\n",
    "#     for _ in range(len(data)):\n",
    "#         # define the end of the input sequence\n",
    "#         in_end = in_start + n_input\n",
    "#         out_end = in_end + n_out\n",
    "#         # ensure we have enough data for this instance\n",
    "#         if out_end < len(data):\n",
    "#             X.append(data[in_start:in_end, :])\n",
    "#             y.append(data[in_end:out_end, 0])\n",
    "#         # move along one time step\n",
    "#         in_start += 1\n",
    "#     return array(X), array(y)\n",
    "\n",
    "# One step predicted:\n",
    "def to_supervised(data, n_input, n_out=1):\n",
    "    X, y = list(), list()\n",
    "    in_start = 0\n",
    "    # step over the entire history one time step at a time\n",
    "    for _ in range(len(data)):\n",
    "        # define the end of the input sequence\n",
    "        in_end = in_start + n_input\n",
    "        out_end = in_end + n_out\n",
    "        # ensure we have enough data for this instance\n",
    "        if out_end < len(data):\n",
    "            X.append(data[in_start:in_end, :])\n",
    "            y.append(data[out_end-1, 5]) # 5 indicates 'windspeed10' parameter\n",
    "        # move along one time step\n",
    "        in_start += 1\n",
    "    return array(X), array(y).reshape((len(y),1))\n",
    "\n",
    "X_train, y_train = to_supervised(values_train, n_input=24, n_out=6)\n",
    "Xs_test = []\n",
    "ys_test = []\n",
    "for i in range(len(test_sets)):\n",
    "    Xs_buffer, ys_buffer = [], []\n",
    "    for j in range(len(test_sets[i])):\n",
    "        X_test, y_test = to_supervised(values_test[i][j], n_input=24, n_out=6)\n",
    "        Xs_buffer.append(X_test)\n",
    "        ys_buffer.append(y_test)\n",
    "    Xs_test.append(Xs_buffer)\n",
    "    ys_test.append(ys_buffer)"
   ]
  },
  {
   "cell_type": "code",
   "execution_count": 165,
   "metadata": {},
   "outputs": [
    {
     "name": "stdout",
     "output_type": "stream",
     "text": [
      "(70098, 24, 11)\n",
      "(70098, 1)\n",
      "(8730, 24, 11)\n",
      "(8730, 1)\n"
     ]
    }
   ],
   "source": [
    "print(X_train.shape)\n",
    "print(y_train.shape)\n",
    "print(Xs_test[0][0].shape)\n",
    "print(ys_test[0][0].shape)"
   ]
  },
  {
   "cell_type": "markdown",
   "metadata": {},
   "source": [
    "# Stworzenie i trening modeli"
   ]
  },
  {
   "cell_type": "code",
   "execution_count": 166,
   "metadata": {},
   "outputs": [],
   "source": [
    "def compile_and_fit(model, X_train, y_train):\n",
    "    early_stopping = keras.callbacks.EarlyStopping(monitor='loss',\n",
    "                                                   patience=2,\n",
    "                                                   mode='min')\n",
    "\n",
    "    model.compile(loss='mean_squared_error',\n",
    "                  optimizer='adam')\n",
    "\n",
    "    model.fit(X_train, y_train, epochs=20, batch_size=32, callbacks=[early_stopping])\n",
    "\n",
    "def evaluate(model, X_test, y_test, display = True):\n",
    "    # make predictions\n",
    "    testPredictions = model.predict(X_test)\n",
    "\n",
    "    # invert scalling\n",
    "    testPredictions = scaler_y.inverse_transform(testPredictions)\n",
    "    testYTrue = scaler_y.inverse_transform(y_test)\n",
    "\n",
    "    # calculate RMSE\n",
    "    testScore = sqrt(mean_squared_error(testYTrue, testPredictions))\n",
    "    \n",
    "    if display:\n",
    "        print('Test Score: %.4f RMSE' % (testScore))\n",
    "        length = 168\n",
    "        start = random.randrange(len(testYTrue)-length)\n",
    "        end = start+length\n",
    "        plt.figure(figsize=[10,5])\n",
    "        plt.xlabel('TimePoint in hours')\n",
    "        plt.ylabel('$windspeed_{10}[m/s]$')\n",
    "        plt.grid()\n",
    "        plt.plot(range(length), testYTrue[start:end],'k.')\n",
    "        plt.plot(range(length),testPredictions[start:end],'r')\n",
    "        plt.legend(['Actual','Predicted'])\n",
    "\n",
    "    return testScore\n",
    "\n",
    "def cross_corr(model, X_test, y_test):\n",
    "    # make predictions\n",
    "    testPredictions = model.predict(X_test)\n",
    "\n",
    "    # invert scalling\n",
    "    testPredictions = scaler_y.inverse_transform(testPredictions)\n",
    "    testYTrue = scaler_y.inverse_transform(y_test)\n",
    "    testPredictions = testPredictions.reshape((testPredictions.shape[0]))\n",
    "    testYTrue = testYTrue.reshape((testYTrue.shape[0]))\n",
    "\n",
    "    plt.figure(figsize=[10,5])\n",
    "    plt.xcorr(testYTrue, testPredictions, usevlines=False)\n",
    "    plt.grid()\n",
    "    plt.title(\"Cross correlation between predictions and actual values\")\n"
   ]
  },
  {
   "cell_type": "markdown",
   "metadata": {},
   "source": [
    "## Dense:"
   ]
  },
  {
   "cell_type": "code",
   "execution_count": 167,
   "metadata": {},
   "outputs": [
    {
     "name": "stdout",
     "output_type": "stream",
     "text": [
      "Model: \"sequential_1\"\n",
      "_________________________________________________________________\n",
      "Layer (type)                 Output Shape              Param #   \n",
      "=================================================================\n",
      "dense_5 (Dense)              (None, 24, 24)            288       \n",
      "_________________________________________________________________\n",
      "dense_6 (Dense)              (None, 24, 24)            600       \n",
      "_________________________________________________________________\n",
      "dense_7 (Dense)              (None, 24, 24)            600       \n",
      "_________________________________________________________________\n",
      "dense_8 (Dense)              (None, 24, 1)             25        \n",
      "_________________________________________________________________\n",
      "reshape_2 (Reshape)          (None, 1, 24)             0         \n",
      "_________________________________________________________________\n",
      "dense_9 (Dense)              (None, 1, 1)              25        \n",
      "_________________________________________________________________\n",
      "reshape_3 (Reshape)          (None, 1)                 0         \n",
      "=================================================================\n",
      "Total params: 1,538\n",
      "Trainable params: 1,538\n",
      "Non-trainable params: 0\n",
      "_________________________________________________________________\n",
      "Epoch 1/20\n",
      "2191/2191 [==============================] - 19s 9ms/step - loss: 0.0097\n",
      "Epoch 2/20\n",
      "2191/2191 [==============================] - 19s 9ms/step - loss: 0.0070\n",
      "Epoch 3/20\n",
      "2191/2191 [==============================] - 19s 9ms/step - loss: 0.0067\n",
      "Epoch 4/20\n",
      "2191/2191 [==============================] - 19s 9ms/step - loss: 0.0066\n",
      "Epoch 5/20\n",
      "2191/2191 [==============================] - 19s 9ms/step - loss: 0.0065\n",
      "Epoch 6/20\n",
      "2191/2191 [==============================] - 19s 9ms/step - loss: 0.0064\n",
      "Epoch 7/20\n",
      "2191/2191 [==============================] - 19s 9ms/step - loss: 0.0064\n",
      "Epoch 8/20\n",
      "2191/2191 [==============================] - 19s 9ms/step - loss: 0.0064\n",
      "Epoch 9/20\n",
      "2191/2191 [==============================] - 18s 8ms/step - loss: 0.0063\n",
      "Epoch 10/20\n",
      "2191/2191 [==============================] - 16s 7ms/step - loss: 0.0063\n",
      "Epoch 11/20\n",
      "2191/2191 [==============================] - 16s 7ms/step - loss: 0.0063\n",
      "Epoch 12/20\n",
      "2191/2191 [==============================] - 16s 7ms/step - loss: 0.0062\n",
      "Epoch 13/20\n",
      "2191/2191 [==============================] - 17s 8ms/step - loss: 0.0062\n",
      "Epoch 14/20\n",
      "2191/2191 [==============================] - 17s 8ms/step - loss: 0.0062: 0s -\n",
      "Epoch 15/20\n",
      "2191/2191 [==============================] - 16s 7ms/step - loss: 0.0062\n",
      "Epoch 16/20\n",
      "2191/2191 [==============================] - 17s 8ms/step - loss: 0.0062\n",
      "Epoch 17/20\n",
      "2191/2191 [==============================] - 16s 8ms/step - loss: 0.0061\n",
      "Epoch 18/20\n",
      "2191/2191 [==============================] - 17s 8ms/step - loss: 0.0061\n",
      "Epoch 19/20\n",
      "2191/2191 [==============================] - 17s 8ms/step - loss: 0.0061\n",
      "Epoch 20/20\n",
      "2191/2191 [==============================] - 17s 8ms/step - loss: 0.0061\n"
     ]
    }
   ],
   "source": [
    "dense = Sequential([\n",
    "    Dense(units=24, activation='relu', input_shape=(24,11)),\n",
    "    Dense(units=24, activation='relu'),\n",
    "    Dense(units=24, activation='relu'),\n",
    "    Dense(1),\n",
    "    Reshape([1,24]),\n",
    "    Dense(1),\n",
    "    Reshape([1])\n",
    "])\n",
    "dense.summary()\n",
    "compile_and_fit(dense, X_train, y_train)\n"
   ]
  },
  {
   "cell_type": "code",
   "execution_count": 168,
   "metadata": {},
   "outputs": [
    {
     "name": "stdout",
     "output_type": "stream",
     "text": [
      "Test Score: 1.0486 RMSE\n"
     ]
    },
    {
     "data": {
      "text/plain": [
       "1.048604600136635"
      ]
     },
     "execution_count": 168,
     "metadata": {},
     "output_type": "execute_result"
    },
    {
     "data": {
      "image/png": "[encoded data removed]",
      "text/plain": [
       "<Figure size 720x360 with 1 Axes>"
      ]
     },
     "metadata": {
      "needs_background": "light"
     },
     "output_type": "display_data"
    }
   ],
   "source": [
    "evaluate(dense, Xs_test[4][4], ys_test[4][4])"
   ]
  },
  {
   "cell_type": "code",
   "execution_count": 169,
   "metadata": {},
   "outputs": [
    {
     "data": {
      "image/png": "[encoded data removed]",
      "text/plain": [
       "<Figure size 720x360 with 1 Axes>"
      ]
     },
     "metadata": {
      "needs_background": "light"
     },
     "output_type": "display_data"
    }
   ],
   "source": [
    "cross_corr(dense, Xs_test[4][4], ys_test[4][4])"
   ]
  },
  {
   "cell_type": "markdown",
   "metadata": {},
   "source": [
    "## Predykcje dla różnych punktów siatki"
   ]
  },
  {
   "cell_type": "code",
   "execution_count": 175,
   "metadata": {},
   "outputs": [],
   "source": [
    "rmses = np.zeros([9,9])\n",
    "for i in range(rmses.shape[0]):\n",
    "    for j in range(rmses.shape[1]):\n",
    "        rmses[i,j] = evaluate(dense, Xs_test[i][j], ys_test[i][j], display=False)"
   ]
  },
  {
   "cell_type": "code",
   "execution_count": 176,
   "metadata": {},
   "outputs": [
    {
     "data": {
      "text/plain": [
       "array([[1.15034376, 1.15503717, 1.13694248, 1.12089462, 1.12726394,\n",
       "        1.10502278, 1.09781845, 1.07513359, 1.04918426],\n",
       "       [1.1655055 , 1.16588376, 1.14303185, 1.11492512, 1.1162714 ,\n",
       "        1.10232258, 1.11601259, 1.1174051 , 1.08109768],\n",
       "       [1.15980992, 1.17223854, 1.17967091, 1.15220186, 1.16591735,\n",
       "        1.12618702, 1.13437173, 1.10017999, 1.04797038],\n",
       "       [1.13668966, 1.1524512 , 1.14750851, 1.13750349, 1.15895632,\n",
       "        1.11177289, 1.09345532, 1.07059237, 1.03387608],\n",
       "       [1.08284984, 1.04984028, 1.04505326, 1.03700675, 1.0486046 ,\n",
       "        1.01087132, 1.00011927, 1.00284647, 1.00519509],\n",
       "       [0.95864103, 0.90793446, 0.90516575, 0.90721769, 0.9117948 ,\n",
       "        0.88492861, 0.89454884, 0.94074882, 0.98347188],\n",
       "       [0.89879309, 0.85407164, 0.84082245, 0.82100381, 0.81222161,\n",
       "        0.81339891, 0.82936074, 0.90605839, 0.95890682],\n",
       "       [0.83800197, 0.80253947, 0.77199633, 0.76589741, 0.76600375,\n",
       "        0.7674057 , 0.82296043, 0.88021578, 0.92518992],\n",
       "       [0.81103863, 0.77113071, 0.76032989, 0.76990601, 0.77422219,\n",
       "        0.78459778, 0.86810153, 0.89173747, 0.89451583]])"
      ]
     },
     "execution_count": 176,
     "metadata": {},
     "output_type": "execute_result"
    }
   ],
   "source": [
    "rmses"
   ]
  },
  {
   "cell_type": "code",
   "execution_count": 234,
   "metadata": {},
   "outputs": [
    {
     "data": {
      "image/png": "[encoded data removed]",
      "text/plain": [
       "<Figure size 720x576 with 1 Axes>"
      ]
     },
     "metadata": {
      "needs_background": "light"
     },
     "output_type": "display_data"
    }
   ],
   "source": [
    "fig = plt.figure(figsize=(10,8))\n",
    "ax = fig.add_subplot()\n",
    "ax.imshow(rmses)\n",
    "ax.set_xticklabels(np.arange(18.75, 21.25,0.25))\n",
    "ax.set_yticklabels(np.flip(np.arange(49, 51.5,0.25,)))\n",
    "ax.set_xlabel(\"longitude [°]\")\n",
    "ax.set_ylabel(\"latitude [°]\")\n",
    "ax.set_title(\"RMSE in space\")\n",
    "\n",
    "for i in range(len(rmses)):\n",
    "    for j in range(len(rmses[i])):\n",
    "        if (i,j) == (4,4):\n",
    "            text = plt.text(j, i, round(rmses[i, j],2),\n",
    "                            ha=\"center\", va=\"center\", color=\"r\")\n",
    "        else:\n",
    "            text = plt.text(j, i, round(rmses[i, j],2),\n",
    "                            ha=\"center\", va=\"center\", color=\"w\")\n",
    "\n",
    "fig.tight_layout()"
   ]
  },
  {
   "cell_type": "code",
   "execution_count": null,
   "metadata": {},
   "outputs": [],
   "source": []
  }
 ],
 "metadata": {
  "interpreter": {
   "hash": "14a0229653987ca61a2fb4fcf28baab3bb6e12876bc336ac679ed1cfe1e45d08"
  },
  "kernelspec": {
   "display_name": "Python 3 (ipykernel)",
   "language": "python",
   "name": "python3"
  },
  "language_info": {
   "codemirror_mode": {
    "name": "ipython",
    "version": 3
   },
   "file_extension": ".py",
   "mimetype": "text/x-python",
   "name": "python",
   "nbconvert_exporter": "python",
   "pygments_lexer": "ipython3",
   "version": "3.9.7"
  }
 },
 "nbformat": 4,
 "nbformat_minor": 2
}
